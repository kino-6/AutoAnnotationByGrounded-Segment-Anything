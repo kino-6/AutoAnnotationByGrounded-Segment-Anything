{
 "cells": [
  {
   "cell_type": "code",
   "execution_count": 38,
   "metadata": {},
   "outputs": [],
   "source": [
    "import os\n",
    "from ultralytics import YOLO"
   ]
  },
  {
   "cell_type": "code",
   "execution_count": 39,
   "metadata": {},
   "outputs": [],
   "source": [
    "from ultralytics import settings\n",
    "settings.update({'runs_dir': '.'})"
   ]
  },
  {
   "cell_type": "code",
   "execution_count": 40,
   "metadata": {},
   "outputs": [
    {
     "name": "stdout",
     "output_type": "stream",
     "text": [
      "Class names: ['road', 'plate', 'car', 'white lane', 'person', 'plate car', 'sidewalk', 'sign']\n"
     ]
    }
   ],
   "source": [
    "# classes.txt ファイルのパス\n",
    "DATASET_PATH = '../Grounded-Segment-Anything/outputs/'\n",
    "CLASSES_FILE = os.path.join(DATASET_PATH, 'classes.txt')\n",
    "\n",
    "# classes.txt を読み込み、クラス名をリスト化\n",
    "with open(CLASSES_FILE, 'r') as f:\n",
    "    class_names = f.read().strip().split('\\n')\n",
    "\n",
    "# クラス数を取得\n",
    "num_classes = len(class_names)\n",
    "\n",
    "# クラス名を表示\n",
    "print(\"Class names:\", class_names)"
   ]
  },
  {
   "cell_type": "markdown",
   "metadata": {},
   "source": [
    "## Split Dataset"
   ]
  },
  {
   "cell_type": "code",
   "execution_count": 41,
   "metadata": {},
   "outputs": [],
   "source": [
    "import os\n",
    "import shutil\n",
    "import random\n",
    "from pathlib import Path\n",
    "\n",
    "def split_dataset(base_path, split_ratio=(0.7, 0.2, 0.1)):\n",
    "    # ディレクトリのパスを設定\n",
    "    images_dir = Path(base_path) / 'images'\n",
    "    labels_dir = Path(base_path) / 'labels'\n",
    "\n",
    "    # 新しいディレクトリを作成\n",
    "    for subset in ['train', 'val', 'test']:\n",
    "        (images_dir / subset).mkdir(parents=True, exist_ok=True)\n",
    "        (labels_dir / subset).mkdir(parents=True, exist_ok=True)\n",
    "\n",
    "    # 画像ファイルのリストを取得\n",
    "    image_files = list(images_dir.glob('*.jpg')) + list(images_dir.glob('*.png'))\n",
    "    random.shuffle(image_files)  # ランダムにシャッフル\n",
    "\n",
    "    # データを分割\n",
    "    total_files = len(image_files)\n",
    "    train_end = int(total_files * split_ratio[0])\n",
    "    val_end = train_end + int(total_files * split_ratio[1])\n",
    "\n",
    "    train_files = image_files[:train_end]\n",
    "    val_files = image_files[train_end:val_end]\n",
    "    test_files = image_files[val_end:]\n",
    "\n",
    "    # ファイルをそれぞれのディレクトリに移動\n",
    "    def move_files(file_list, subset):\n",
    "        for file in file_list:\n",
    "            # 対応するラベルファイルを取得\n",
    "            label_file = labels_dir / (file.stem + '.txt')\n",
    "            # 画像とラベルを移動\n",
    "            shutil.move(str(file), str(images_dir / subset / file.name))\n",
    "            if label_file.exists():\n",
    "                shutil.move(str(label_file), str(labels_dir / subset / label_file.name))\n",
    "\n",
    "    move_files(train_files, 'train')\n",
    "    move_files(val_files, 'val')\n",
    "    move_files(test_files, 'test')\n",
    "\n",
    "    print(f\"データセットが分割されました: train={len(train_files)}, val={len(val_files)}, test={len(test_files)}\")\n"
   ]
  },
  {
   "cell_type": "code",
   "execution_count": 42,
   "metadata": {},
   "outputs": [
    {
     "name": "stdout",
     "output_type": "stream",
     "text": [
      "データセットが分割されました: train=0, val=0, test=0\n"
     ]
    }
   ],
   "source": [
    "base_path = DATASET_PATH\n",
    "split_dataset(base_path)"
   ]
  },
  {
   "cell_type": "code",
   "execution_count": 43,
   "metadata": {},
   "outputs": [
    {
     "name": "stdout",
     "output_type": "stream",
     "text": [
      "Dataset structure:\n",
      "/\n",
      "    classes.txt\n",
      "    data_config.yaml\n",
      "images/\n",
      "    test/\n",
      "        Aomori inakadate Spring Car Meet 2023 mnvV9s4L9MA_frame_3816.jpg\n",
      "        Aomori inakadate Spring Car Meet 2023 mnvV9s4L9MA_frame_4152.jpg\n",
      "        Aomori inakadate Spring Car Meet 2023 mnvV9s4L9MA_frame_4416.jpg\n",
      "        Aomori inakadate Spring Car Meet 2023 mnvV9s4L9MA_frame_4896.jpg\n",
      "        Aomori inakadate Spring Car Meet 2023 mnvV9s4L9MA_frame_5112.jpg\n",
      "        Aomori inakadate Spring Car Meet 2023 mnvV9s4L9MA_frame_5160.jpg\n",
      "        Aomori inakadate Spring Car Meet 2023 mnvV9s4L9MA_frame_5304.jpg\n",
      "        Aomori inakadate Spring Car Meet 2023 mnvV9s4L9MA_frame_5424.jpg\n",
      "        Aomori inakadate Spring Car Meet 2023 mnvV9s4L9MA_frame_5760.jpg\n",
      "        Aomori inakadate Spring Car Meet 2023 mnvV9s4L9MA_frame_5928.jpg\n",
      "        Aomori inakadate Spring Car Meet 2023 mnvV9s4L9MA_frame_6048.jpg\n",
      "        Aomori inakadate Spring Car Meet 2023 mnvV9s4L9MA_frame_6144.jpg\n",
      "        Aomori inakadate Spring Car Meet 2023 mnvV9s4L9MA_frame_6504.jpg\n",
      "        Aomori inakadate Spring Car Meet 2023 mnvV9s4L9MA_frame_6552.jpg\n",
      "        Aomori inakadate Spring Car Meet 2023 mnvV9s4L9MA_frame_6672.jpg\n",
      "        Aomori inakadate Spring Car Meet 2023 mnvV9s4L9MA_frame_6696.jpg\n",
      "        Aomori inakadate Spring Car Meet 2023 mnvV9s4L9MA_frame_7152.jpg\n",
      "        Aomori inakadate Spring Car Meet 2023 mnvV9s4L9MA_frame_7368.jpg\n",
      "        Aomori inakadate Spring Car Meet 2023 mnvV9s4L9MA_frame_8208.jpg\n",
      "        Aomori inakadate Spring Car Meet 2023 mnvV9s4L9MA_frame_8232.jpg\n",
      "        Aomori inakadate Spring Car Meet 2023 mnvV9s4L9MA_frame_8352.jpg\n",
      "        Aomori inakadate Spring Car Meet 2023 mnvV9s4L9MA_frame_8376.jpg\n",
      "    train/\n",
      "        Aomori inakadate Spring Car Meet 2023 mnvV9s4L9MA_frame_3576.jpg\n",
      "        Aomori inakadate Spring Car Meet 2023 mnvV9s4L9MA_frame_3600.jpg\n",
      "        Aomori inakadate Spring Car Meet 2023 mnvV9s4L9MA_frame_3672.jpg\n",
      "        Aomori inakadate Spring Car Meet 2023 mnvV9s4L9MA_frame_3696.jpg\n",
      "        Aomori inakadate Spring Car Meet 2023 mnvV9s4L9MA_frame_3720.jpg\n",
      "        Aomori inakadate Spring Car Meet 2023 mnvV9s4L9MA_frame_3744.jpg\n",
      "        Aomori inakadate Spring Car Meet 2023 mnvV9s4L9MA_frame_3768.jpg\n",
      "        Aomori inakadate Spring Car Meet 2023 mnvV9s4L9MA_frame_3792.jpg\n",
      "        Aomori inakadate Spring Car Meet 2023 mnvV9s4L9MA_frame_3840.jpg\n",
      "        Aomori inakadate Spring Car Meet 2023 mnvV9s4L9MA_frame_3864.jpg\n",
      "        Aomori inakadate Spring Car Meet 2023 mnvV9s4L9MA_frame_3888.jpg\n",
      "        Aomori inakadate Spring Car Meet 2023 mnvV9s4L9MA_frame_3912.jpg\n",
      "        Aomori inakadate Spring Car Meet 2023 mnvV9s4L9MA_frame_3984.jpg\n",
      "        Aomori inakadate Spring Car Meet 2023 mnvV9s4L9MA_frame_4032.jpg\n",
      "        Aomori inakadate Spring Car Meet 2023 mnvV9s4L9MA_frame_4056.jpg\n",
      "        Aomori inakadate Spring Car Meet 2023 mnvV9s4L9MA_frame_4080.jpg\n",
      "        Aomori inakadate Spring Car Meet 2023 mnvV9s4L9MA_frame_4104.jpg\n",
      "        Aomori inakadate Spring Car Meet 2023 mnvV9s4L9MA_frame_4200.jpg\n",
      "        Aomori inakadate Spring Car Meet 2023 mnvV9s4L9MA_frame_4224.jpg\n",
      "        Aomori inakadate Spring Car Meet 2023 mnvV9s4L9MA_frame_4248.jpg\n",
      "        Aomori inakadate Spring Car Meet 2023 mnvV9s4L9MA_frame_4272.jpg\n",
      "        Aomori inakadate Spring Car Meet 2023 mnvV9s4L9MA_frame_4296.jpg\n",
      "        Aomori inakadate Spring Car Meet 2023 mnvV9s4L9MA_frame_4320.jpg\n",
      "        Aomori inakadate Spring Car Meet 2023 mnvV9s4L9MA_frame_4344.jpg\n",
      "        Aomori inakadate Spring Car Meet 2023 mnvV9s4L9MA_frame_4368.jpg\n",
      "        Aomori inakadate Spring Car Meet 2023 mnvV9s4L9MA_frame_4392.jpg\n",
      "        Aomori inakadate Spring Car Meet 2023 mnvV9s4L9MA_frame_4488.jpg\n",
      "        Aomori inakadate Spring Car Meet 2023 mnvV9s4L9MA_frame_4512.jpg\n",
      "        Aomori inakadate Spring Car Meet 2023 mnvV9s4L9MA_frame_4536.jpg\n",
      "        Aomori inakadate Spring Car Meet 2023 mnvV9s4L9MA_frame_4560.jpg\n",
      "        Aomori inakadate Spring Car Meet 2023 mnvV9s4L9MA_frame_4584.jpg\n",
      "        Aomori inakadate Spring Car Meet 2023 mnvV9s4L9MA_frame_4608.jpg\n",
      "        Aomori inakadate Spring Car Meet 2023 mnvV9s4L9MA_frame_4632.jpg\n",
      "        Aomori inakadate Spring Car Meet 2023 mnvV9s4L9MA_frame_4656.jpg\n",
      "        Aomori inakadate Spring Car Meet 2023 mnvV9s4L9MA_frame_4680.jpg\n",
      "        Aomori inakadate Spring Car Meet 2023 mnvV9s4L9MA_frame_4704.jpg\n",
      "        Aomori inakadate Spring Car Meet 2023 mnvV9s4L9MA_frame_4752.jpg\n",
      "        Aomori inakadate Spring Car Meet 2023 mnvV9s4L9MA_frame_4776.jpg\n",
      "        Aomori inakadate Spring Car Meet 2023 mnvV9s4L9MA_frame_4800.jpg\n",
      "        Aomori inakadate Spring Car Meet 2023 mnvV9s4L9MA_frame_4848.jpg\n",
      "        Aomori inakadate Spring Car Meet 2023 mnvV9s4L9MA_frame_4872.jpg\n",
      "        Aomori inakadate Spring Car Meet 2023 mnvV9s4L9MA_frame_4944.jpg\n",
      "        Aomori inakadate Spring Car Meet 2023 mnvV9s4L9MA_frame_4968.jpg\n",
      "        Aomori inakadate Spring Car Meet 2023 mnvV9s4L9MA_frame_4992.jpg\n",
      "        Aomori inakadate Spring Car Meet 2023 mnvV9s4L9MA_frame_5016.jpg\n",
      "        Aomori inakadate Spring Car Meet 2023 mnvV9s4L9MA_frame_5088.jpg\n",
      "        Aomori inakadate Spring Car Meet 2023 mnvV9s4L9MA_frame_5136.jpg\n",
      "        Aomori inakadate Spring Car Meet 2023 mnvV9s4L9MA_frame_5184.jpg\n",
      "        Aomori inakadate Spring Car Meet 2023 mnvV9s4L9MA_frame_5208.jpg\n",
      "        Aomori inakadate Spring Car Meet 2023 mnvV9s4L9MA_frame_5232.jpg\n",
      "        Aomori inakadate Spring Car Meet 2023 mnvV9s4L9MA_frame_5256.jpg\n",
      "        Aomori inakadate Spring Car Meet 2023 mnvV9s4L9MA_frame_5280.jpg\n",
      "        Aomori inakadate Spring Car Meet 2023 mnvV9s4L9MA_frame_5328.jpg\n",
      "        Aomori inakadate Spring Car Meet 2023 mnvV9s4L9MA_frame_5352.jpg\n",
      "        Aomori inakadate Spring Car Meet 2023 mnvV9s4L9MA_frame_5376.jpg\n",
      "        Aomori inakadate Spring Car Meet 2023 mnvV9s4L9MA_frame_5400.jpg\n",
      "        Aomori inakadate Spring Car Meet 2023 mnvV9s4L9MA_frame_5448.jpg\n",
      "        Aomori inakadate Spring Car Meet 2023 mnvV9s4L9MA_frame_5520.jpg\n",
      "        Aomori inakadate Spring Car Meet 2023 mnvV9s4L9MA_frame_5544.jpg\n",
      "        Aomori inakadate Spring Car Meet 2023 mnvV9s4L9MA_frame_5640.jpg\n",
      "        Aomori inakadate Spring Car Meet 2023 mnvV9s4L9MA_frame_5664.jpg\n",
      "        Aomori inakadate Spring Car Meet 2023 mnvV9s4L9MA_frame_5688.jpg\n",
      "        Aomori inakadate Spring Car Meet 2023 mnvV9s4L9MA_frame_5712.jpg\n",
      "        Aomori inakadate Spring Car Meet 2023 mnvV9s4L9MA_frame_5784.jpg\n",
      "        Aomori inakadate Spring Car Meet 2023 mnvV9s4L9MA_frame_5808.jpg\n",
      "        Aomori inakadate Spring Car Meet 2023 mnvV9s4L9MA_frame_5832.jpg\n",
      "        Aomori inakadate Spring Car Meet 2023 mnvV9s4L9MA_frame_5856.jpg\n",
      "        Aomori inakadate Spring Car Meet 2023 mnvV9s4L9MA_frame_5880.jpg\n",
      "        Aomori inakadate Spring Car Meet 2023 mnvV9s4L9MA_frame_5904.jpg\n",
      "        Aomori inakadate Spring Car Meet 2023 mnvV9s4L9MA_frame_5952.jpg\n",
      "        Aomori inakadate Spring Car Meet 2023 mnvV9s4L9MA_frame_5976.jpg\n",
      "        Aomori inakadate Spring Car Meet 2023 mnvV9s4L9MA_frame_6000.jpg\n",
      "        Aomori inakadate Spring Car Meet 2023 mnvV9s4L9MA_frame_6072.jpg\n",
      "        Aomori inakadate Spring Car Meet 2023 mnvV9s4L9MA_frame_6096.jpg\n",
      "        Aomori inakadate Spring Car Meet 2023 mnvV9s4L9MA_frame_6120.jpg\n",
      "        Aomori inakadate Spring Car Meet 2023 mnvV9s4L9MA_frame_6168.jpg\n",
      "        Aomori inakadate Spring Car Meet 2023 mnvV9s4L9MA_frame_6192.jpg\n",
      "        Aomori inakadate Spring Car Meet 2023 mnvV9s4L9MA_frame_6216.jpg\n",
      "        Aomori inakadate Spring Car Meet 2023 mnvV9s4L9MA_frame_6264.jpg\n",
      "        Aomori inakadate Spring Car Meet 2023 mnvV9s4L9MA_frame_6312.jpg\n",
      "        Aomori inakadate Spring Car Meet 2023 mnvV9s4L9MA_frame_6336.jpg\n",
      "        Aomori inakadate Spring Car Meet 2023 mnvV9s4L9MA_frame_6360.jpg\n",
      "        Aomori inakadate Spring Car Meet 2023 mnvV9s4L9MA_frame_6384.jpg\n",
      "        Aomori inakadate Spring Car Meet 2023 mnvV9s4L9MA_frame_6408.jpg\n",
      "        Aomori inakadate Spring Car Meet 2023 mnvV9s4L9MA_frame_6432.jpg\n",
      "        Aomori inakadate Spring Car Meet 2023 mnvV9s4L9MA_frame_6480.jpg\n",
      "        Aomori inakadate Spring Car Meet 2023 mnvV9s4L9MA_frame_6528.jpg\n",
      "        Aomori inakadate Spring Car Meet 2023 mnvV9s4L9MA_frame_6576.jpg\n",
      "        Aomori inakadate Spring Car Meet 2023 mnvV9s4L9MA_frame_6624.jpg\n",
      "        Aomori inakadate Spring Car Meet 2023 mnvV9s4L9MA_frame_6648.jpg\n",
      "        Aomori inakadate Spring Car Meet 2023 mnvV9s4L9MA_frame_6720.jpg\n",
      "        Aomori inakadate Spring Car Meet 2023 mnvV9s4L9MA_frame_6744.jpg\n",
      "        Aomori inakadate Spring Car Meet 2023 mnvV9s4L9MA_frame_6792.jpg\n",
      "        Aomori inakadate Spring Car Meet 2023 mnvV9s4L9MA_frame_6816.jpg\n",
      "        Aomori inakadate Spring Car Meet 2023 mnvV9s4L9MA_frame_6864.jpg\n",
      "        Aomori inakadate Spring Car Meet 2023 mnvV9s4L9MA_frame_6888.jpg\n",
      "        Aomori inakadate Spring Car Meet 2023 mnvV9s4L9MA_frame_6984.jpg\n",
      "        Aomori inakadate Spring Car Meet 2023 mnvV9s4L9MA_frame_7032.jpg\n",
      "        Aomori inakadate Spring Car Meet 2023 mnvV9s4L9MA_frame_7080.jpg\n",
      "        Aomori inakadate Spring Car Meet 2023 mnvV9s4L9MA_frame_7104.jpg\n",
      "        Aomori inakadate Spring Car Meet 2023 mnvV9s4L9MA_frame_7128.jpg\n",
      "        Aomori inakadate Spring Car Meet 2023 mnvV9s4L9MA_frame_7176.jpg\n",
      "        Aomori inakadate Spring Car Meet 2023 mnvV9s4L9MA_frame_7200.jpg\n",
      "        Aomori inakadate Spring Car Meet 2023 mnvV9s4L9MA_frame_7224.jpg\n",
      "        Aomori inakadate Spring Car Meet 2023 mnvV9s4L9MA_frame_7248.jpg\n",
      "        Aomori inakadate Spring Car Meet 2023 mnvV9s4L9MA_frame_7296.jpg\n",
      "        Aomori inakadate Spring Car Meet 2023 mnvV9s4L9MA_frame_7344.jpg\n",
      "        Aomori inakadate Spring Car Meet 2023 mnvV9s4L9MA_frame_7392.jpg\n",
      "        Aomori inakadate Spring Car Meet 2023 mnvV9s4L9MA_frame_7440.jpg\n",
      "        Aomori inakadate Spring Car Meet 2023 mnvV9s4L9MA_frame_7464.jpg\n",
      "        Aomori inakadate Spring Car Meet 2023 mnvV9s4L9MA_frame_7512.jpg\n",
      "        Aomori inakadate Spring Car Meet 2023 mnvV9s4L9MA_frame_7536.jpg\n",
      "        Aomori inakadate Spring Car Meet 2023 mnvV9s4L9MA_frame_7560.jpg\n",
      "        Aomori inakadate Spring Car Meet 2023 mnvV9s4L9MA_frame_7584.jpg\n",
      "        Aomori inakadate Spring Car Meet 2023 mnvV9s4L9MA_frame_7608.jpg\n",
      "        Aomori inakadate Spring Car Meet 2023 mnvV9s4L9MA_frame_7632.jpg\n",
      "        Aomori inakadate Spring Car Meet 2023 mnvV9s4L9MA_frame_7656.jpg\n",
      "        Aomori inakadate Spring Car Meet 2023 mnvV9s4L9MA_frame_7680.jpg\n",
      "        Aomori inakadate Spring Car Meet 2023 mnvV9s4L9MA_frame_7704.jpg\n",
      "        Aomori inakadate Spring Car Meet 2023 mnvV9s4L9MA_frame_7728.jpg\n",
      "        Aomori inakadate Spring Car Meet 2023 mnvV9s4L9MA_frame_7752.jpg\n",
      "        Aomori inakadate Spring Car Meet 2023 mnvV9s4L9MA_frame_7824.jpg\n",
      "        Aomori inakadate Spring Car Meet 2023 mnvV9s4L9MA_frame_7848.jpg\n",
      "        Aomori inakadate Spring Car Meet 2023 mnvV9s4L9MA_frame_7872.jpg\n",
      "        Aomori inakadate Spring Car Meet 2023 mnvV9s4L9MA_frame_7920.jpg\n",
      "        Aomori inakadate Spring Car Meet 2023 mnvV9s4L9MA_frame_7944.jpg\n",
      "        Aomori inakadate Spring Car Meet 2023 mnvV9s4L9MA_frame_7968.jpg\n",
      "        Aomori inakadate Spring Car Meet 2023 mnvV9s4L9MA_frame_7992.jpg\n",
      "        Aomori inakadate Spring Car Meet 2023 mnvV9s4L9MA_frame_8016.jpg\n",
      "        Aomori inakadate Spring Car Meet 2023 mnvV9s4L9MA_frame_8088.jpg\n",
      "        Aomori inakadate Spring Car Meet 2023 mnvV9s4L9MA_frame_8112.jpg\n",
      "        Aomori inakadate Spring Car Meet 2023 mnvV9s4L9MA_frame_8136.jpg\n",
      "        Aomori inakadate Spring Car Meet 2023 mnvV9s4L9MA_frame_8160.jpg\n",
      "        Aomori inakadate Spring Car Meet 2023 mnvV9s4L9MA_frame_8184.jpg\n",
      "        Aomori inakadate Spring Car Meet 2023 mnvV9s4L9MA_frame_8256.jpg\n",
      "        Aomori inakadate Spring Car Meet 2023 mnvV9s4L9MA_frame_8280.jpg\n",
      "        Aomori inakadate Spring Car Meet 2023 mnvV9s4L9MA_frame_8304.jpg\n",
      "        Aomori inakadate Spring Car Meet 2023 mnvV9s4L9MA_frame_8328.jpg\n",
      "        Aomori inakadate Spring Car Meet 2023 mnvV9s4L9MA_frame_8400.jpg\n",
      "        Aomori inakadate Spring Car Meet 2023 mnvV9s4L9MA_frame_8424.jpg\n",
      "        Aomori inakadate Spring Car Meet 2023 mnvV9s4L9MA_frame_8448.jpg\n",
      "        Aomori inakadate Spring Car Meet 2023 mnvV9s4L9MA_frame_8496.jpg\n",
      "        Aomori inakadate Spring Car Meet 2023 mnvV9s4L9MA_frame_8520.jpg\n",
      "        Aomori inakadate Spring Car Meet 2023 mnvV9s4L9MA_frame_8544.jpg\n",
      "        Aomori inakadate Spring Car Meet 2023 mnvV9s4L9MA_frame_8568.jpg\n",
      "        Aomori inakadate Spring Car Meet 2023 mnvV9s4L9MA_frame_8592.jpg\n",
      "        Aomori inakadate Spring Car Meet 2023 mnvV9s4L9MA_frame_8640.jpg\n",
      "        Aomori inakadate Spring Car Meet 2023 mnvV9s4L9MA_frame_8664.jpg\n",
      "        Aomori inakadate Spring Car Meet 2023 mnvV9s4L9MA_frame_8688.jpg\n",
      "        Aomori inakadate Spring Car Meet 2023 mnvV9s4L9MA_frame_8712.jpg\n",
      "    val/\n",
      "        Aomori inakadate Spring Car Meet 2023 mnvV9s4L9MA_frame_3528.jpg\n",
      "        Aomori inakadate Spring Car Meet 2023 mnvV9s4L9MA_frame_3648.jpg\n",
      "        Aomori inakadate Spring Car Meet 2023 mnvV9s4L9MA_frame_3936.jpg\n",
      "        Aomori inakadate Spring Car Meet 2023 mnvV9s4L9MA_frame_3960.jpg\n",
      "        Aomori inakadate Spring Car Meet 2023 mnvV9s4L9MA_frame_4008.jpg\n",
      "        Aomori inakadate Spring Car Meet 2023 mnvV9s4L9MA_frame_4128.jpg\n",
      "        Aomori inakadate Spring Car Meet 2023 mnvV9s4L9MA_frame_4176.jpg\n",
      "        Aomori inakadate Spring Car Meet 2023 mnvV9s4L9MA_frame_4440.jpg\n",
      "        Aomori inakadate Spring Car Meet 2023 mnvV9s4L9MA_frame_4464.jpg\n",
      "        Aomori inakadate Spring Car Meet 2023 mnvV9s4L9MA_frame_4728.jpg\n",
      "        Aomori inakadate Spring Car Meet 2023 mnvV9s4L9MA_frame_4824.jpg\n",
      "        Aomori inakadate Spring Car Meet 2023 mnvV9s4L9MA_frame_4920.jpg\n",
      "        Aomori inakadate Spring Car Meet 2023 mnvV9s4L9MA_frame_5040.jpg\n",
      "        Aomori inakadate Spring Car Meet 2023 mnvV9s4L9MA_frame_5064.jpg\n",
      "        Aomori inakadate Spring Car Meet 2023 mnvV9s4L9MA_frame_5472.jpg\n",
      "        Aomori inakadate Spring Car Meet 2023 mnvV9s4L9MA_frame_5496.jpg\n",
      "        Aomori inakadate Spring Car Meet 2023 mnvV9s4L9MA_frame_5568.jpg\n",
      "        Aomori inakadate Spring Car Meet 2023 mnvV9s4L9MA_frame_5592.jpg\n",
      "        Aomori inakadate Spring Car Meet 2023 mnvV9s4L9MA_frame_5616.jpg\n",
      "        Aomori inakadate Spring Car Meet 2023 mnvV9s4L9MA_frame_5736.jpg\n",
      "        Aomori inakadate Spring Car Meet 2023 mnvV9s4L9MA_frame_6024.jpg\n",
      "        Aomori inakadate Spring Car Meet 2023 mnvV9s4L9MA_frame_6240.jpg\n",
      "        Aomori inakadate Spring Car Meet 2023 mnvV9s4L9MA_frame_6288.jpg\n",
      "        Aomori inakadate Spring Car Meet 2023 mnvV9s4L9MA_frame_6456.jpg\n",
      "        Aomori inakadate Spring Car Meet 2023 mnvV9s4L9MA_frame_6600.jpg\n",
      "        Aomori inakadate Spring Car Meet 2023 mnvV9s4L9MA_frame_6768.jpg\n",
      "        Aomori inakadate Spring Car Meet 2023 mnvV9s4L9MA_frame_6840.jpg\n",
      "        Aomori inakadate Spring Car Meet 2023 mnvV9s4L9MA_frame_6912.jpg\n",
      "        Aomori inakadate Spring Car Meet 2023 mnvV9s4L9MA_frame_6936.jpg\n",
      "        Aomori inakadate Spring Car Meet 2023 mnvV9s4L9MA_frame_6960.jpg\n",
      "        Aomori inakadate Spring Car Meet 2023 mnvV9s4L9MA_frame_7008.jpg\n",
      "        Aomori inakadate Spring Car Meet 2023 mnvV9s4L9MA_frame_7056.jpg\n",
      "        Aomori inakadate Spring Car Meet 2023 mnvV9s4L9MA_frame_7272.jpg\n",
      "        Aomori inakadate Spring Car Meet 2023 mnvV9s4L9MA_frame_7320.jpg\n",
      "        Aomori inakadate Spring Car Meet 2023 mnvV9s4L9MA_frame_7416.jpg\n",
      "        Aomori inakadate Spring Car Meet 2023 mnvV9s4L9MA_frame_7488.jpg\n",
      "        Aomori inakadate Spring Car Meet 2023 mnvV9s4L9MA_frame_7776.jpg\n",
      "        Aomori inakadate Spring Car Meet 2023 mnvV9s4L9MA_frame_7800.jpg\n",
      "        Aomori inakadate Spring Car Meet 2023 mnvV9s4L9MA_frame_7896.jpg\n",
      "        Aomori inakadate Spring Car Meet 2023 mnvV9s4L9MA_frame_8040.jpg\n",
      "        Aomori inakadate Spring Car Meet 2023 mnvV9s4L9MA_frame_8064.jpg\n",
      "        Aomori inakadate Spring Car Meet 2023 mnvV9s4L9MA_frame_8472.jpg\n",
      "        Aomori inakadate Spring Car Meet 2023 mnvV9s4L9MA_frame_8616.jpg\n",
      "labels/\n",
      "    Aomori inakadate Spring Car Meet 2023 mnvV9s4L9MA_frame_0.txt\n",
      "    Aomori inakadate Spring Car Meet 2023 mnvV9s4L9MA_frame_1008.txt\n",
      "    Aomori inakadate Spring Car Meet 2023 mnvV9s4L9MA_frame_1032.txt\n",
      "    Aomori inakadate Spring Car Meet 2023 mnvV9s4L9MA_frame_1056.txt\n",
      "    Aomori inakadate Spring Car Meet 2023 mnvV9s4L9MA_frame_1080.txt\n",
      "    Aomori inakadate Spring Car Meet 2023 mnvV9s4L9MA_frame_1104.txt\n",
      "    Aomori inakadate Spring Car Meet 2023 mnvV9s4L9MA_frame_1128.txt\n",
      "    Aomori inakadate Spring Car Meet 2023 mnvV9s4L9MA_frame_1152.txt\n",
      "    Aomori inakadate Spring Car Meet 2023 mnvV9s4L9MA_frame_1176.txt\n",
      "    Aomori inakadate Spring Car Meet 2023 mnvV9s4L9MA_frame_120.txt\n",
      "    Aomori inakadate Spring Car Meet 2023 mnvV9s4L9MA_frame_1200.txt\n",
      "    Aomori inakadate Spring Car Meet 2023 mnvV9s4L9MA_frame_1224.txt\n",
      "    Aomori inakadate Spring Car Meet 2023 mnvV9s4L9MA_frame_1248.txt\n",
      "    Aomori inakadate Spring Car Meet 2023 mnvV9s4L9MA_frame_1272.txt\n",
      "    Aomori inakadate Spring Car Meet 2023 mnvV9s4L9MA_frame_1296.txt\n",
      "    Aomori inakadate Spring Car Meet 2023 mnvV9s4L9MA_frame_1320.txt\n",
      "    Aomori inakadate Spring Car Meet 2023 mnvV9s4L9MA_frame_1344.txt\n",
      "    Aomori inakadate Spring Car Meet 2023 mnvV9s4L9MA_frame_1368.txt\n",
      "    Aomori inakadate Spring Car Meet 2023 mnvV9s4L9MA_frame_1392.txt\n",
      "    Aomori inakadate Spring Car Meet 2023 mnvV9s4L9MA_frame_1416.txt\n",
      "    Aomori inakadate Spring Car Meet 2023 mnvV9s4L9MA_frame_144.txt\n",
      "    Aomori inakadate Spring Car Meet 2023 mnvV9s4L9MA_frame_1440.txt\n",
      "    Aomori inakadate Spring Car Meet 2023 mnvV9s4L9MA_frame_1464.txt\n",
      "    Aomori inakadate Spring Car Meet 2023 mnvV9s4L9MA_frame_1488.txt\n",
      "    Aomori inakadate Spring Car Meet 2023 mnvV9s4L9MA_frame_1512.txt\n",
      "    Aomori inakadate Spring Car Meet 2023 mnvV9s4L9MA_frame_1536.txt\n",
      "    Aomori inakadate Spring Car Meet 2023 mnvV9s4L9MA_frame_1560.txt\n",
      "    Aomori inakadate Spring Car Meet 2023 mnvV9s4L9MA_frame_1584.txt\n",
      "    Aomori inakadate Spring Car Meet 2023 mnvV9s4L9MA_frame_1608.txt\n",
      "    Aomori inakadate Spring Car Meet 2023 mnvV9s4L9MA_frame_1632.txt\n",
      "    Aomori inakadate Spring Car Meet 2023 mnvV9s4L9MA_frame_1656.txt\n",
      "    Aomori inakadate Spring Car Meet 2023 mnvV9s4L9MA_frame_168.txt\n",
      "    Aomori inakadate Spring Car Meet 2023 mnvV9s4L9MA_frame_1680.txt\n",
      "    Aomori inakadate Spring Car Meet 2023 mnvV9s4L9MA_frame_1704.txt\n",
      "    Aomori inakadate Spring Car Meet 2023 mnvV9s4L9MA_frame_1728.txt\n",
      "    Aomori inakadate Spring Car Meet 2023 mnvV9s4L9MA_frame_1752.txt\n",
      "    Aomori inakadate Spring Car Meet 2023 mnvV9s4L9MA_frame_1776.txt\n",
      "    Aomori inakadate Spring Car Meet 2023 mnvV9s4L9MA_frame_1800.txt\n",
      "    Aomori inakadate Spring Car Meet 2023 mnvV9s4L9MA_frame_1824.txt\n",
      "    Aomori inakadate Spring Car Meet 2023 mnvV9s4L9MA_frame_1848.txt\n",
      "    Aomori inakadate Spring Car Meet 2023 mnvV9s4L9MA_frame_1872.txt\n",
      "    Aomori inakadate Spring Car Meet 2023 mnvV9s4L9MA_frame_1896.txt\n",
      "    Aomori inakadate Spring Car Meet 2023 mnvV9s4L9MA_frame_192.txt\n",
      "    Aomori inakadate Spring Car Meet 2023 mnvV9s4L9MA_frame_1920.txt\n",
      "    Aomori inakadate Spring Car Meet 2023 mnvV9s4L9MA_frame_1944.txt\n",
      "    Aomori inakadate Spring Car Meet 2023 mnvV9s4L9MA_frame_1968.txt\n",
      "    Aomori inakadate Spring Car Meet 2023 mnvV9s4L9MA_frame_1992.txt\n",
      "    Aomori inakadate Spring Car Meet 2023 mnvV9s4L9MA_frame_2016.txt\n",
      "    Aomori inakadate Spring Car Meet 2023 mnvV9s4L9MA_frame_2040.txt\n",
      "    Aomori inakadate Spring Car Meet 2023 mnvV9s4L9MA_frame_2064.txt\n",
      "    Aomori inakadate Spring Car Meet 2023 mnvV9s4L9MA_frame_2088.txt\n",
      "    Aomori inakadate Spring Car Meet 2023 mnvV9s4L9MA_frame_2112.txt\n",
      "    Aomori inakadate Spring Car Meet 2023 mnvV9s4L9MA_frame_2136.txt\n",
      "    Aomori inakadate Spring Car Meet 2023 mnvV9s4L9MA_frame_216.txt\n",
      "    Aomori inakadate Spring Car Meet 2023 mnvV9s4L9MA_frame_2160.txt\n",
      "    Aomori inakadate Spring Car Meet 2023 mnvV9s4L9MA_frame_2184.txt\n",
      "    Aomori inakadate Spring Car Meet 2023 mnvV9s4L9MA_frame_2208.txt\n",
      "    Aomori inakadate Spring Car Meet 2023 mnvV9s4L9MA_frame_2232.txt\n",
      "    Aomori inakadate Spring Car Meet 2023 mnvV9s4L9MA_frame_2256.txt\n",
      "    Aomori inakadate Spring Car Meet 2023 mnvV9s4L9MA_frame_2280.txt\n",
      "    Aomori inakadate Spring Car Meet 2023 mnvV9s4L9MA_frame_2304.txt\n",
      "    Aomori inakadate Spring Car Meet 2023 mnvV9s4L9MA_frame_2328.txt\n",
      "    Aomori inakadate Spring Car Meet 2023 mnvV9s4L9MA_frame_2352.txt\n",
      "    Aomori inakadate Spring Car Meet 2023 mnvV9s4L9MA_frame_2376.txt\n",
      "    Aomori inakadate Spring Car Meet 2023 mnvV9s4L9MA_frame_24.txt\n",
      "    Aomori inakadate Spring Car Meet 2023 mnvV9s4L9MA_frame_240.txt\n",
      "    Aomori inakadate Spring Car Meet 2023 mnvV9s4L9MA_frame_2400.txt\n",
      "    Aomori inakadate Spring Car Meet 2023 mnvV9s4L9MA_frame_2424.txt\n",
      "    Aomori inakadate Spring Car Meet 2023 mnvV9s4L9MA_frame_2448.txt\n",
      "    Aomori inakadate Spring Car Meet 2023 mnvV9s4L9MA_frame_2472.txt\n",
      "    Aomori inakadate Spring Car Meet 2023 mnvV9s4L9MA_frame_2496.txt\n",
      "    Aomori inakadate Spring Car Meet 2023 mnvV9s4L9MA_frame_2520.txt\n",
      "    Aomori inakadate Spring Car Meet 2023 mnvV9s4L9MA_frame_2544.txt\n",
      "    Aomori inakadate Spring Car Meet 2023 mnvV9s4L9MA_frame_2568.txt\n",
      "    Aomori inakadate Spring Car Meet 2023 mnvV9s4L9MA_frame_2592.txt\n",
      "    Aomori inakadate Spring Car Meet 2023 mnvV9s4L9MA_frame_2616.txt\n",
      "    Aomori inakadate Spring Car Meet 2023 mnvV9s4L9MA_frame_264.txt\n",
      "    Aomori inakadate Spring Car Meet 2023 mnvV9s4L9MA_frame_2640.txt\n",
      "    Aomori inakadate Spring Car Meet 2023 mnvV9s4L9MA_frame_2664.txt\n",
      "    Aomori inakadate Spring Car Meet 2023 mnvV9s4L9MA_frame_2688.txt\n",
      "    Aomori inakadate Spring Car Meet 2023 mnvV9s4L9MA_frame_2712.txt\n",
      "    Aomori inakadate Spring Car Meet 2023 mnvV9s4L9MA_frame_2736.txt\n",
      "    Aomori inakadate Spring Car Meet 2023 mnvV9s4L9MA_frame_2760.txt\n",
      "    Aomori inakadate Spring Car Meet 2023 mnvV9s4L9MA_frame_2784.txt\n",
      "    Aomori inakadate Spring Car Meet 2023 mnvV9s4L9MA_frame_2808.txt\n",
      "    Aomori inakadate Spring Car Meet 2023 mnvV9s4L9MA_frame_2832.txt\n",
      "    Aomori inakadate Spring Car Meet 2023 mnvV9s4L9MA_frame_2856.txt\n",
      "    Aomori inakadate Spring Car Meet 2023 mnvV9s4L9MA_frame_288.txt\n",
      "    Aomori inakadate Spring Car Meet 2023 mnvV9s4L9MA_frame_2880.txt\n",
      "    Aomori inakadate Spring Car Meet 2023 mnvV9s4L9MA_frame_2904.txt\n",
      "    Aomori inakadate Spring Car Meet 2023 mnvV9s4L9MA_frame_2928.txt\n",
      "    Aomori inakadate Spring Car Meet 2023 mnvV9s4L9MA_frame_2952.txt\n",
      "    Aomori inakadate Spring Car Meet 2023 mnvV9s4L9MA_frame_2976.txt\n",
      "    Aomori inakadate Spring Car Meet 2023 mnvV9s4L9MA_frame_3000.txt\n",
      "    Aomori inakadate Spring Car Meet 2023 mnvV9s4L9MA_frame_3024.txt\n",
      "    Aomori inakadate Spring Car Meet 2023 mnvV9s4L9MA_frame_3048.txt\n",
      "    Aomori inakadate Spring Car Meet 2023 mnvV9s4L9MA_frame_3072.txt\n",
      "    Aomori inakadate Spring Car Meet 2023 mnvV9s4L9MA_frame_3096.txt\n",
      "    Aomori inakadate Spring Car Meet 2023 mnvV9s4L9MA_frame_312.txt\n",
      "    Aomori inakadate Spring Car Meet 2023 mnvV9s4L9MA_frame_3120.txt\n",
      "    Aomori inakadate Spring Car Meet 2023 mnvV9s4L9MA_frame_3144.txt\n",
      "    Aomori inakadate Spring Car Meet 2023 mnvV9s4L9MA_frame_3168.txt\n",
      "    Aomori inakadate Spring Car Meet 2023 mnvV9s4L9MA_frame_3192.txt\n",
      "    Aomori inakadate Spring Car Meet 2023 mnvV9s4L9MA_frame_3216.txt\n",
      "    Aomori inakadate Spring Car Meet 2023 mnvV9s4L9MA_frame_3240.txt\n",
      "    Aomori inakadate Spring Car Meet 2023 mnvV9s4L9MA_frame_3264.txt\n",
      "    Aomori inakadate Spring Car Meet 2023 mnvV9s4L9MA_frame_3288.txt\n",
      "    Aomori inakadate Spring Car Meet 2023 mnvV9s4L9MA_frame_3312.txt\n",
      "    Aomori inakadate Spring Car Meet 2023 mnvV9s4L9MA_frame_3336.txt\n",
      "    Aomori inakadate Spring Car Meet 2023 mnvV9s4L9MA_frame_336.txt\n",
      "    Aomori inakadate Spring Car Meet 2023 mnvV9s4L9MA_frame_3360.txt\n",
      "    Aomori inakadate Spring Car Meet 2023 mnvV9s4L9MA_frame_3384.txt\n",
      "    Aomori inakadate Spring Car Meet 2023 mnvV9s4L9MA_frame_3408.txt\n",
      "    Aomori inakadate Spring Car Meet 2023 mnvV9s4L9MA_frame_3432.txt\n",
      "    Aomori inakadate Spring Car Meet 2023 mnvV9s4L9MA_frame_3456.txt\n",
      "    Aomori inakadate Spring Car Meet 2023 mnvV9s4L9MA_frame_3480.txt\n",
      "    Aomori inakadate Spring Car Meet 2023 mnvV9s4L9MA_frame_3504.txt\n",
      "    Aomori inakadate Spring Car Meet 2023 mnvV9s4L9MA_frame_360.txt\n",
      "    Aomori inakadate Spring Car Meet 2023 mnvV9s4L9MA_frame_384.txt\n",
      "    Aomori inakadate Spring Car Meet 2023 mnvV9s4L9MA_frame_408.txt\n",
      "    Aomori inakadate Spring Car Meet 2023 mnvV9s4L9MA_frame_432.txt\n",
      "    Aomori inakadate Spring Car Meet 2023 mnvV9s4L9MA_frame_456.txt\n",
      "    Aomori inakadate Spring Car Meet 2023 mnvV9s4L9MA_frame_48.txt\n",
      "    Aomori inakadate Spring Car Meet 2023 mnvV9s4L9MA_frame_480.txt\n",
      "    Aomori inakadate Spring Car Meet 2023 mnvV9s4L9MA_frame_504.txt\n",
      "    Aomori inakadate Spring Car Meet 2023 mnvV9s4L9MA_frame_528.txt\n",
      "    Aomori inakadate Spring Car Meet 2023 mnvV9s4L9MA_frame_552.txt\n",
      "    Aomori inakadate Spring Car Meet 2023 mnvV9s4L9MA_frame_576.txt\n",
      "    Aomori inakadate Spring Car Meet 2023 mnvV9s4L9MA_frame_600.txt\n",
      "    Aomori inakadate Spring Car Meet 2023 mnvV9s4L9MA_frame_624.txt\n",
      "    Aomori inakadate Spring Car Meet 2023 mnvV9s4L9MA_frame_648.txt\n",
      "    Aomori inakadate Spring Car Meet 2023 mnvV9s4L9MA_frame_672.txt\n",
      "    Aomori inakadate Spring Car Meet 2023 mnvV9s4L9MA_frame_696.txt\n",
      "    Aomori inakadate Spring Car Meet 2023 mnvV9s4L9MA_frame_72.txt\n",
      "    Aomori inakadate Spring Car Meet 2023 mnvV9s4L9MA_frame_720.txt\n",
      "    Aomori inakadate Spring Car Meet 2023 mnvV9s4L9MA_frame_744.txt\n",
      "    Aomori inakadate Spring Car Meet 2023 mnvV9s4L9MA_frame_768.txt\n",
      "    Aomori inakadate Spring Car Meet 2023 mnvV9s4L9MA_frame_792.txt\n",
      "    Aomori inakadate Spring Car Meet 2023 mnvV9s4L9MA_frame_816.txt\n",
      "    Aomori inakadate Spring Car Meet 2023 mnvV9s4L9MA_frame_840.txt\n",
      "    Aomori inakadate Spring Car Meet 2023 mnvV9s4L9MA_frame_864.txt\n",
      "    Aomori inakadate Spring Car Meet 2023 mnvV9s4L9MA_frame_888.txt\n",
      "    Aomori inakadate Spring Car Meet 2023 mnvV9s4L9MA_frame_912.txt\n",
      "    Aomori inakadate Spring Car Meet 2023 mnvV9s4L9MA_frame_936.txt\n",
      "    Aomori inakadate Spring Car Meet 2023 mnvV9s4L9MA_frame_96.txt\n",
      "    Aomori inakadate Spring Car Meet 2023 mnvV9s4L9MA_frame_960.txt\n",
      "    Aomori inakadate Spring Car Meet 2023 mnvV9s4L9MA_frame_984.txt\n",
      "    train.cache\n",
      "    val.cache\n",
      "    test/\n",
      "        Aomori inakadate Spring Car Meet 2023 mnvV9s4L9MA_frame_3816.txt\n",
      "        Aomori inakadate Spring Car Meet 2023 mnvV9s4L9MA_frame_4152.txt\n",
      "        Aomori inakadate Spring Car Meet 2023 mnvV9s4L9MA_frame_4416.txt\n",
      "        Aomori inakadate Spring Car Meet 2023 mnvV9s4L9MA_frame_4896.txt\n",
      "        Aomori inakadate Spring Car Meet 2023 mnvV9s4L9MA_frame_5112.txt\n",
      "        Aomori inakadate Spring Car Meet 2023 mnvV9s4L9MA_frame_5160.txt\n",
      "        Aomori inakadate Spring Car Meet 2023 mnvV9s4L9MA_frame_5304.txt\n",
      "        Aomori inakadate Spring Car Meet 2023 mnvV9s4L9MA_frame_5424.txt\n",
      "        Aomori inakadate Spring Car Meet 2023 mnvV9s4L9MA_frame_5760.txt\n",
      "        Aomori inakadate Spring Car Meet 2023 mnvV9s4L9MA_frame_5928.txt\n",
      "        Aomori inakadate Spring Car Meet 2023 mnvV9s4L9MA_frame_6048.txt\n",
      "        Aomori inakadate Spring Car Meet 2023 mnvV9s4L9MA_frame_6144.txt\n",
      "        Aomori inakadate Spring Car Meet 2023 mnvV9s4L9MA_frame_6504.txt\n",
      "        Aomori inakadate Spring Car Meet 2023 mnvV9s4L9MA_frame_6552.txt\n",
      "        Aomori inakadate Spring Car Meet 2023 mnvV9s4L9MA_frame_6672.txt\n",
      "        Aomori inakadate Spring Car Meet 2023 mnvV9s4L9MA_frame_6696.txt\n",
      "        Aomori inakadate Spring Car Meet 2023 mnvV9s4L9MA_frame_7152.txt\n",
      "        Aomori inakadate Spring Car Meet 2023 mnvV9s4L9MA_frame_7368.txt\n",
      "        Aomori inakadate Spring Car Meet 2023 mnvV9s4L9MA_frame_8208.txt\n",
      "        Aomori inakadate Spring Car Meet 2023 mnvV9s4L9MA_frame_8232.txt\n",
      "        Aomori inakadate Spring Car Meet 2023 mnvV9s4L9MA_frame_8352.txt\n",
      "        Aomori inakadate Spring Car Meet 2023 mnvV9s4L9MA_frame_8376.txt\n",
      "    train/\n",
      "        Aomori inakadate Spring Car Meet 2023 mnvV9s4L9MA_frame_3576.txt\n",
      "        Aomori inakadate Spring Car Meet 2023 mnvV9s4L9MA_frame_3600.txt\n",
      "        Aomori inakadate Spring Car Meet 2023 mnvV9s4L9MA_frame_3672.txt\n",
      "        Aomori inakadate Spring Car Meet 2023 mnvV9s4L9MA_frame_3696.txt\n",
      "        Aomori inakadate Spring Car Meet 2023 mnvV9s4L9MA_frame_3720.txt\n",
      "        Aomori inakadate Spring Car Meet 2023 mnvV9s4L9MA_frame_3744.txt\n",
      "        Aomori inakadate Spring Car Meet 2023 mnvV9s4L9MA_frame_3768.txt\n",
      "        Aomori inakadate Spring Car Meet 2023 mnvV9s4L9MA_frame_3792.txt\n",
      "        Aomori inakadate Spring Car Meet 2023 mnvV9s4L9MA_frame_3840.txt\n",
      "        Aomori inakadate Spring Car Meet 2023 mnvV9s4L9MA_frame_3864.txt\n",
      "        Aomori inakadate Spring Car Meet 2023 mnvV9s4L9MA_frame_3888.txt\n",
      "        Aomori inakadate Spring Car Meet 2023 mnvV9s4L9MA_frame_3912.txt\n",
      "        Aomori inakadate Spring Car Meet 2023 mnvV9s4L9MA_frame_3984.txt\n",
      "        Aomori inakadate Spring Car Meet 2023 mnvV9s4L9MA_frame_4032.txt\n",
      "        Aomori inakadate Spring Car Meet 2023 mnvV9s4L9MA_frame_4056.txt\n",
      "        Aomori inakadate Spring Car Meet 2023 mnvV9s4L9MA_frame_4080.txt\n",
      "        Aomori inakadate Spring Car Meet 2023 mnvV9s4L9MA_frame_4104.txt\n",
      "        Aomori inakadate Spring Car Meet 2023 mnvV9s4L9MA_frame_4200.txt\n",
      "        Aomori inakadate Spring Car Meet 2023 mnvV9s4L9MA_frame_4224.txt\n",
      "        Aomori inakadate Spring Car Meet 2023 mnvV9s4L9MA_frame_4248.txt\n",
      "        Aomori inakadate Spring Car Meet 2023 mnvV9s4L9MA_frame_4272.txt\n",
      "        Aomori inakadate Spring Car Meet 2023 mnvV9s4L9MA_frame_4296.txt\n",
      "        Aomori inakadate Spring Car Meet 2023 mnvV9s4L9MA_frame_4320.txt\n",
      "        Aomori inakadate Spring Car Meet 2023 mnvV9s4L9MA_frame_4344.txt\n",
      "        Aomori inakadate Spring Car Meet 2023 mnvV9s4L9MA_frame_4368.txt\n",
      "        Aomori inakadate Spring Car Meet 2023 mnvV9s4L9MA_frame_4392.txt\n",
      "        Aomori inakadate Spring Car Meet 2023 mnvV9s4L9MA_frame_4488.txt\n",
      "        Aomori inakadate Spring Car Meet 2023 mnvV9s4L9MA_frame_4512.txt\n",
      "        Aomori inakadate Spring Car Meet 2023 mnvV9s4L9MA_frame_4536.txt\n",
      "        Aomori inakadate Spring Car Meet 2023 mnvV9s4L9MA_frame_4560.txt\n",
      "        Aomori inakadate Spring Car Meet 2023 mnvV9s4L9MA_frame_4584.txt\n",
      "        Aomori inakadate Spring Car Meet 2023 mnvV9s4L9MA_frame_4608.txt\n",
      "        Aomori inakadate Spring Car Meet 2023 mnvV9s4L9MA_frame_4632.txt\n",
      "        Aomori inakadate Spring Car Meet 2023 mnvV9s4L9MA_frame_4656.txt\n",
      "        Aomori inakadate Spring Car Meet 2023 mnvV9s4L9MA_frame_4680.txt\n",
      "        Aomori inakadate Spring Car Meet 2023 mnvV9s4L9MA_frame_4704.txt\n",
      "        Aomori inakadate Spring Car Meet 2023 mnvV9s4L9MA_frame_4752.txt\n",
      "        Aomori inakadate Spring Car Meet 2023 mnvV9s4L9MA_frame_4776.txt\n",
      "        Aomori inakadate Spring Car Meet 2023 mnvV9s4L9MA_frame_4800.txt\n",
      "        Aomori inakadate Spring Car Meet 2023 mnvV9s4L9MA_frame_4848.txt\n",
      "        Aomori inakadate Spring Car Meet 2023 mnvV9s4L9MA_frame_4872.txt\n",
      "        Aomori inakadate Spring Car Meet 2023 mnvV9s4L9MA_frame_4944.txt\n",
      "        Aomori inakadate Spring Car Meet 2023 mnvV9s4L9MA_frame_4968.txt\n",
      "        Aomori inakadate Spring Car Meet 2023 mnvV9s4L9MA_frame_4992.txt\n",
      "        Aomori inakadate Spring Car Meet 2023 mnvV9s4L9MA_frame_5016.txt\n",
      "        Aomori inakadate Spring Car Meet 2023 mnvV9s4L9MA_frame_5088.txt\n",
      "        Aomori inakadate Spring Car Meet 2023 mnvV9s4L9MA_frame_5136.txt\n",
      "        Aomori inakadate Spring Car Meet 2023 mnvV9s4L9MA_frame_5184.txt\n",
      "        Aomori inakadate Spring Car Meet 2023 mnvV9s4L9MA_frame_5208.txt\n",
      "        Aomori inakadate Spring Car Meet 2023 mnvV9s4L9MA_frame_5232.txt\n",
      "        Aomori inakadate Spring Car Meet 2023 mnvV9s4L9MA_frame_5256.txt\n",
      "        Aomori inakadate Spring Car Meet 2023 mnvV9s4L9MA_frame_5280.txt\n",
      "        Aomori inakadate Spring Car Meet 2023 mnvV9s4L9MA_frame_5328.txt\n",
      "        Aomori inakadate Spring Car Meet 2023 mnvV9s4L9MA_frame_5352.txt\n",
      "        Aomori inakadate Spring Car Meet 2023 mnvV9s4L9MA_frame_5376.txt\n",
      "        Aomori inakadate Spring Car Meet 2023 mnvV9s4L9MA_frame_5400.txt\n",
      "        Aomori inakadate Spring Car Meet 2023 mnvV9s4L9MA_frame_5448.txt\n",
      "        Aomori inakadate Spring Car Meet 2023 mnvV9s4L9MA_frame_5520.txt\n",
      "        Aomori inakadate Spring Car Meet 2023 mnvV9s4L9MA_frame_5544.txt\n",
      "        Aomori inakadate Spring Car Meet 2023 mnvV9s4L9MA_frame_5640.txt\n",
      "        Aomori inakadate Spring Car Meet 2023 mnvV9s4L9MA_frame_5664.txt\n",
      "        Aomori inakadate Spring Car Meet 2023 mnvV9s4L9MA_frame_5688.txt\n",
      "        Aomori inakadate Spring Car Meet 2023 mnvV9s4L9MA_frame_5712.txt\n",
      "        Aomori inakadate Spring Car Meet 2023 mnvV9s4L9MA_frame_5784.txt\n",
      "        Aomori inakadate Spring Car Meet 2023 mnvV9s4L9MA_frame_5808.txt\n",
      "        Aomori inakadate Spring Car Meet 2023 mnvV9s4L9MA_frame_5832.txt\n",
      "        Aomori inakadate Spring Car Meet 2023 mnvV9s4L9MA_frame_5856.txt\n",
      "        Aomori inakadate Spring Car Meet 2023 mnvV9s4L9MA_frame_5880.txt\n",
      "        Aomori inakadate Spring Car Meet 2023 mnvV9s4L9MA_frame_5904.txt\n",
      "        Aomori inakadate Spring Car Meet 2023 mnvV9s4L9MA_frame_5952.txt\n",
      "        Aomori inakadate Spring Car Meet 2023 mnvV9s4L9MA_frame_5976.txt\n",
      "        Aomori inakadate Spring Car Meet 2023 mnvV9s4L9MA_frame_6000.txt\n",
      "        Aomori inakadate Spring Car Meet 2023 mnvV9s4L9MA_frame_6072.txt\n",
      "        Aomori inakadate Spring Car Meet 2023 mnvV9s4L9MA_frame_6096.txt\n",
      "        Aomori inakadate Spring Car Meet 2023 mnvV9s4L9MA_frame_6120.txt\n",
      "        Aomori inakadate Spring Car Meet 2023 mnvV9s4L9MA_frame_6168.txt\n",
      "        Aomori inakadate Spring Car Meet 2023 mnvV9s4L9MA_frame_6192.txt\n",
      "        Aomori inakadate Spring Car Meet 2023 mnvV9s4L9MA_frame_6216.txt\n",
      "        Aomori inakadate Spring Car Meet 2023 mnvV9s4L9MA_frame_6264.txt\n",
      "        Aomori inakadate Spring Car Meet 2023 mnvV9s4L9MA_frame_6312.txt\n",
      "        Aomori inakadate Spring Car Meet 2023 mnvV9s4L9MA_frame_6336.txt\n",
      "        Aomori inakadate Spring Car Meet 2023 mnvV9s4L9MA_frame_6360.txt\n",
      "        Aomori inakadate Spring Car Meet 2023 mnvV9s4L9MA_frame_6384.txt\n",
      "        Aomori inakadate Spring Car Meet 2023 mnvV9s4L9MA_frame_6408.txt\n",
      "        Aomori inakadate Spring Car Meet 2023 mnvV9s4L9MA_frame_6432.txt\n",
      "        Aomori inakadate Spring Car Meet 2023 mnvV9s4L9MA_frame_6480.txt\n",
      "        Aomori inakadate Spring Car Meet 2023 mnvV9s4L9MA_frame_6528.txt\n",
      "        Aomori inakadate Spring Car Meet 2023 mnvV9s4L9MA_frame_6576.txt\n",
      "        Aomori inakadate Spring Car Meet 2023 mnvV9s4L9MA_frame_6624.txt\n",
      "        Aomori inakadate Spring Car Meet 2023 mnvV9s4L9MA_frame_6648.txt\n",
      "        Aomori inakadate Spring Car Meet 2023 mnvV9s4L9MA_frame_6720.txt\n",
      "        Aomori inakadate Spring Car Meet 2023 mnvV9s4L9MA_frame_6744.txt\n",
      "        Aomori inakadate Spring Car Meet 2023 mnvV9s4L9MA_frame_6792.txt\n",
      "        Aomori inakadate Spring Car Meet 2023 mnvV9s4L9MA_frame_6816.txt\n",
      "        Aomori inakadate Spring Car Meet 2023 mnvV9s4L9MA_frame_6864.txt\n",
      "        Aomori inakadate Spring Car Meet 2023 mnvV9s4L9MA_frame_6888.txt\n",
      "        Aomori inakadate Spring Car Meet 2023 mnvV9s4L9MA_frame_6984.txt\n",
      "        Aomori inakadate Spring Car Meet 2023 mnvV9s4L9MA_frame_7032.txt\n",
      "        Aomori inakadate Spring Car Meet 2023 mnvV9s4L9MA_frame_7080.txt\n",
      "        Aomori inakadate Spring Car Meet 2023 mnvV9s4L9MA_frame_7104.txt\n",
      "        Aomori inakadate Spring Car Meet 2023 mnvV9s4L9MA_frame_7128.txt\n",
      "        Aomori inakadate Spring Car Meet 2023 mnvV9s4L9MA_frame_7176.txt\n",
      "        Aomori inakadate Spring Car Meet 2023 mnvV9s4L9MA_frame_7200.txt\n",
      "        Aomori inakadate Spring Car Meet 2023 mnvV9s4L9MA_frame_7224.txt\n",
      "        Aomori inakadate Spring Car Meet 2023 mnvV9s4L9MA_frame_7248.txt\n",
      "        Aomori inakadate Spring Car Meet 2023 mnvV9s4L9MA_frame_7296.txt\n",
      "        Aomori inakadate Spring Car Meet 2023 mnvV9s4L9MA_frame_7344.txt\n",
      "        Aomori inakadate Spring Car Meet 2023 mnvV9s4L9MA_frame_7392.txt\n",
      "        Aomori inakadate Spring Car Meet 2023 mnvV9s4L9MA_frame_7440.txt\n",
      "        Aomori inakadate Spring Car Meet 2023 mnvV9s4L9MA_frame_7464.txt\n",
      "        Aomori inakadate Spring Car Meet 2023 mnvV9s4L9MA_frame_7512.txt\n",
      "        Aomori inakadate Spring Car Meet 2023 mnvV9s4L9MA_frame_7536.txt\n",
      "        Aomori inakadate Spring Car Meet 2023 mnvV9s4L9MA_frame_7560.txt\n",
      "        Aomori inakadate Spring Car Meet 2023 mnvV9s4L9MA_frame_7584.txt\n",
      "        Aomori inakadate Spring Car Meet 2023 mnvV9s4L9MA_frame_7608.txt\n",
      "        Aomori inakadate Spring Car Meet 2023 mnvV9s4L9MA_frame_7632.txt\n",
      "        Aomori inakadate Spring Car Meet 2023 mnvV9s4L9MA_frame_7656.txt\n",
      "        Aomori inakadate Spring Car Meet 2023 mnvV9s4L9MA_frame_7680.txt\n",
      "        Aomori inakadate Spring Car Meet 2023 mnvV9s4L9MA_frame_7704.txt\n",
      "        Aomori inakadate Spring Car Meet 2023 mnvV9s4L9MA_frame_7728.txt\n",
      "        Aomori inakadate Spring Car Meet 2023 mnvV9s4L9MA_frame_7752.txt\n",
      "        Aomori inakadate Spring Car Meet 2023 mnvV9s4L9MA_frame_7824.txt\n",
      "        Aomori inakadate Spring Car Meet 2023 mnvV9s4L9MA_frame_7848.txt\n",
      "        Aomori inakadate Spring Car Meet 2023 mnvV9s4L9MA_frame_7872.txt\n",
      "        Aomori inakadate Spring Car Meet 2023 mnvV9s4L9MA_frame_7920.txt\n",
      "        Aomori inakadate Spring Car Meet 2023 mnvV9s4L9MA_frame_7944.txt\n",
      "        Aomori inakadate Spring Car Meet 2023 mnvV9s4L9MA_frame_7968.txt\n",
      "        Aomori inakadate Spring Car Meet 2023 mnvV9s4L9MA_frame_7992.txt\n",
      "        Aomori inakadate Spring Car Meet 2023 mnvV9s4L9MA_frame_8016.txt\n",
      "        Aomori inakadate Spring Car Meet 2023 mnvV9s4L9MA_frame_8088.txt\n",
      "        Aomori inakadate Spring Car Meet 2023 mnvV9s4L9MA_frame_8112.txt\n",
      "        Aomori inakadate Spring Car Meet 2023 mnvV9s4L9MA_frame_8136.txt\n",
      "        Aomori inakadate Spring Car Meet 2023 mnvV9s4L9MA_frame_8160.txt\n",
      "        Aomori inakadate Spring Car Meet 2023 mnvV9s4L9MA_frame_8184.txt\n",
      "        Aomori inakadate Spring Car Meet 2023 mnvV9s4L9MA_frame_8256.txt\n",
      "        Aomori inakadate Spring Car Meet 2023 mnvV9s4L9MA_frame_8280.txt\n",
      "        Aomori inakadate Spring Car Meet 2023 mnvV9s4L9MA_frame_8304.txt\n",
      "        Aomori inakadate Spring Car Meet 2023 mnvV9s4L9MA_frame_8328.txt\n",
      "        Aomori inakadate Spring Car Meet 2023 mnvV9s4L9MA_frame_8400.txt\n",
      "        Aomori inakadate Spring Car Meet 2023 mnvV9s4L9MA_frame_8424.txt\n",
      "        Aomori inakadate Spring Car Meet 2023 mnvV9s4L9MA_frame_8448.txt\n",
      "        Aomori inakadate Spring Car Meet 2023 mnvV9s4L9MA_frame_8496.txt\n",
      "        Aomori inakadate Spring Car Meet 2023 mnvV9s4L9MA_frame_8520.txt\n",
      "        Aomori inakadate Spring Car Meet 2023 mnvV9s4L9MA_frame_8544.txt\n",
      "        Aomori inakadate Spring Car Meet 2023 mnvV9s4L9MA_frame_8568.txt\n",
      "        Aomori inakadate Spring Car Meet 2023 mnvV9s4L9MA_frame_8592.txt\n",
      "        Aomori inakadate Spring Car Meet 2023 mnvV9s4L9MA_frame_8640.txt\n",
      "        Aomori inakadate Spring Car Meet 2023 mnvV9s4L9MA_frame_8664.txt\n",
      "        Aomori inakadate Spring Car Meet 2023 mnvV9s4L9MA_frame_8688.txt\n",
      "        Aomori inakadate Spring Car Meet 2023 mnvV9s4L9MA_frame_8712.txt\n",
      "    val/\n",
      "        Aomori inakadate Spring Car Meet 2023 mnvV9s4L9MA_frame_3528.txt\n",
      "        Aomori inakadate Spring Car Meet 2023 mnvV9s4L9MA_frame_3648.txt\n",
      "        Aomori inakadate Spring Car Meet 2023 mnvV9s4L9MA_frame_3936.txt\n",
      "        Aomori inakadate Spring Car Meet 2023 mnvV9s4L9MA_frame_3960.txt\n",
      "        Aomori inakadate Spring Car Meet 2023 mnvV9s4L9MA_frame_4008.txt\n",
      "        Aomori inakadate Spring Car Meet 2023 mnvV9s4L9MA_frame_4128.txt\n",
      "        Aomori inakadate Spring Car Meet 2023 mnvV9s4L9MA_frame_4176.txt\n",
      "        Aomori inakadate Spring Car Meet 2023 mnvV9s4L9MA_frame_4440.txt\n",
      "        Aomori inakadate Spring Car Meet 2023 mnvV9s4L9MA_frame_4464.txt\n",
      "        Aomori inakadate Spring Car Meet 2023 mnvV9s4L9MA_frame_4728.txt\n",
      "        Aomori inakadate Spring Car Meet 2023 mnvV9s4L9MA_frame_4824.txt\n",
      "        Aomori inakadate Spring Car Meet 2023 mnvV9s4L9MA_frame_4920.txt\n",
      "        Aomori inakadate Spring Car Meet 2023 mnvV9s4L9MA_frame_5040.txt\n",
      "        Aomori inakadate Spring Car Meet 2023 mnvV9s4L9MA_frame_5064.txt\n",
      "        Aomori inakadate Spring Car Meet 2023 mnvV9s4L9MA_frame_5472.txt\n",
      "        Aomori inakadate Spring Car Meet 2023 mnvV9s4L9MA_frame_5496.txt\n",
      "        Aomori inakadate Spring Car Meet 2023 mnvV9s4L9MA_frame_5568.txt\n",
      "        Aomori inakadate Spring Car Meet 2023 mnvV9s4L9MA_frame_5592.txt\n",
      "        Aomori inakadate Spring Car Meet 2023 mnvV9s4L9MA_frame_5616.txt\n",
      "        Aomori inakadate Spring Car Meet 2023 mnvV9s4L9MA_frame_5736.txt\n",
      "        Aomori inakadate Spring Car Meet 2023 mnvV9s4L9MA_frame_6024.txt\n",
      "        Aomori inakadate Spring Car Meet 2023 mnvV9s4L9MA_frame_6240.txt\n",
      "        Aomori inakadate Spring Car Meet 2023 mnvV9s4L9MA_frame_6288.txt\n",
      "        Aomori inakadate Spring Car Meet 2023 mnvV9s4L9MA_frame_6456.txt\n",
      "        Aomori inakadate Spring Car Meet 2023 mnvV9s4L9MA_frame_6600.txt\n",
      "        Aomori inakadate Spring Car Meet 2023 mnvV9s4L9MA_frame_6768.txt\n",
      "        Aomori inakadate Spring Car Meet 2023 mnvV9s4L9MA_frame_6840.txt\n",
      "        Aomori inakadate Spring Car Meet 2023 mnvV9s4L9MA_frame_6912.txt\n",
      "        Aomori inakadate Spring Car Meet 2023 mnvV9s4L9MA_frame_6936.txt\n",
      "        Aomori inakadate Spring Car Meet 2023 mnvV9s4L9MA_frame_6960.txt\n",
      "        Aomori inakadate Spring Car Meet 2023 mnvV9s4L9MA_frame_7008.txt\n",
      "        Aomori inakadate Spring Car Meet 2023 mnvV9s4L9MA_frame_7056.txt\n",
      "        Aomori inakadate Spring Car Meet 2023 mnvV9s4L9MA_frame_7272.txt\n",
      "        Aomori inakadate Spring Car Meet 2023 mnvV9s4L9MA_frame_7320.txt\n",
      "        Aomori inakadate Spring Car Meet 2023 mnvV9s4L9MA_frame_7416.txt\n",
      "        Aomori inakadate Spring Car Meet 2023 mnvV9s4L9MA_frame_7488.txt\n",
      "        Aomori inakadate Spring Car Meet 2023 mnvV9s4L9MA_frame_7776.txt\n",
      "        Aomori inakadate Spring Car Meet 2023 mnvV9s4L9MA_frame_7800.txt\n",
      "        Aomori inakadate Spring Car Meet 2023 mnvV9s4L9MA_frame_7896.txt\n",
      "        Aomori inakadate Spring Car Meet 2023 mnvV9s4L9MA_frame_8040.txt\n",
      "        Aomori inakadate Spring Car Meet 2023 mnvV9s4L9MA_frame_8064.txt\n",
      "        Aomori inakadate Spring Car Meet 2023 mnvV9s4L9MA_frame_8472.txt\n",
      "        Aomori inakadate Spring Car Meet 2023 mnvV9s4L9MA_frame_8616.txt\n",
      "visualize/\n",
      "    Aomori inakadate Spring Car Meet 2023 mnvV9s4L9MA_frame_0.jpg\n",
      "    Aomori inakadate Spring Car Meet 2023 mnvV9s4L9MA_frame_1008.jpg\n",
      "    Aomori inakadate Spring Car Meet 2023 mnvV9s4L9MA_frame_1032.jpg\n",
      "    Aomori inakadate Spring Car Meet 2023 mnvV9s4L9MA_frame_1056.jpg\n",
      "    Aomori inakadate Spring Car Meet 2023 mnvV9s4L9MA_frame_1080.jpg\n",
      "    Aomori inakadate Spring Car Meet 2023 mnvV9s4L9MA_frame_1104.jpg\n",
      "    Aomori inakadate Spring Car Meet 2023 mnvV9s4L9MA_frame_1128.jpg\n",
      "    Aomori inakadate Spring Car Meet 2023 mnvV9s4L9MA_frame_1152.jpg\n",
      "    Aomori inakadate Spring Car Meet 2023 mnvV9s4L9MA_frame_1176.jpg\n",
      "    Aomori inakadate Spring Car Meet 2023 mnvV9s4L9MA_frame_120.jpg\n",
      "    Aomori inakadate Spring Car Meet 2023 mnvV9s4L9MA_frame_1200.jpg\n",
      "    Aomori inakadate Spring Car Meet 2023 mnvV9s4L9MA_frame_1224.jpg\n",
      "    Aomori inakadate Spring Car Meet 2023 mnvV9s4L9MA_frame_1248.jpg\n",
      "    Aomori inakadate Spring Car Meet 2023 mnvV9s4L9MA_frame_1272.jpg\n",
      "    Aomori inakadate Spring Car Meet 2023 mnvV9s4L9MA_frame_1296.jpg\n",
      "    Aomori inakadate Spring Car Meet 2023 mnvV9s4L9MA_frame_1320.jpg\n",
      "    Aomori inakadate Spring Car Meet 2023 mnvV9s4L9MA_frame_1344.jpg\n",
      "    Aomori inakadate Spring Car Meet 2023 mnvV9s4L9MA_frame_1368.jpg\n",
      "    Aomori inakadate Spring Car Meet 2023 mnvV9s4L9MA_frame_1392.jpg\n",
      "    Aomori inakadate Spring Car Meet 2023 mnvV9s4L9MA_frame_1416.jpg\n",
      "    Aomori inakadate Spring Car Meet 2023 mnvV9s4L9MA_frame_144.jpg\n",
      "    Aomori inakadate Spring Car Meet 2023 mnvV9s4L9MA_frame_1440.jpg\n",
      "    Aomori inakadate Spring Car Meet 2023 mnvV9s4L9MA_frame_1464.jpg\n",
      "    Aomori inakadate Spring Car Meet 2023 mnvV9s4L9MA_frame_1488.jpg\n",
      "    Aomori inakadate Spring Car Meet 2023 mnvV9s4L9MA_frame_1512.jpg\n",
      "    Aomori inakadate Spring Car Meet 2023 mnvV9s4L9MA_frame_1536.jpg\n",
      "    Aomori inakadate Spring Car Meet 2023 mnvV9s4L9MA_frame_1560.jpg\n",
      "    Aomori inakadate Spring Car Meet 2023 mnvV9s4L9MA_frame_1584.jpg\n",
      "    Aomori inakadate Spring Car Meet 2023 mnvV9s4L9MA_frame_1608.jpg\n",
      "    Aomori inakadate Spring Car Meet 2023 mnvV9s4L9MA_frame_1632.jpg\n",
      "    Aomori inakadate Spring Car Meet 2023 mnvV9s4L9MA_frame_1656.jpg\n",
      "    Aomori inakadate Spring Car Meet 2023 mnvV9s4L9MA_frame_168.jpg\n",
      "    Aomori inakadate Spring Car Meet 2023 mnvV9s4L9MA_frame_1680.jpg\n",
      "    Aomori inakadate Spring Car Meet 2023 mnvV9s4L9MA_frame_1704.jpg\n",
      "    Aomori inakadate Spring Car Meet 2023 mnvV9s4L9MA_frame_1728.jpg\n",
      "    Aomori inakadate Spring Car Meet 2023 mnvV9s4L9MA_frame_1752.jpg\n",
      "    Aomori inakadate Spring Car Meet 2023 mnvV9s4L9MA_frame_1776.jpg\n",
      "    Aomori inakadate Spring Car Meet 2023 mnvV9s4L9MA_frame_1800.jpg\n",
      "    Aomori inakadate Spring Car Meet 2023 mnvV9s4L9MA_frame_1824.jpg\n",
      "    Aomori inakadate Spring Car Meet 2023 mnvV9s4L9MA_frame_1848.jpg\n",
      "    Aomori inakadate Spring Car Meet 2023 mnvV9s4L9MA_frame_1872.jpg\n",
      "    Aomori inakadate Spring Car Meet 2023 mnvV9s4L9MA_frame_1896.jpg\n",
      "    Aomori inakadate Spring Car Meet 2023 mnvV9s4L9MA_frame_192.jpg\n",
      "    Aomori inakadate Spring Car Meet 2023 mnvV9s4L9MA_frame_1920.jpg\n",
      "    Aomori inakadate Spring Car Meet 2023 mnvV9s4L9MA_frame_1944.jpg\n",
      "    Aomori inakadate Spring Car Meet 2023 mnvV9s4L9MA_frame_1968.jpg\n",
      "    Aomori inakadate Spring Car Meet 2023 mnvV9s4L9MA_frame_1992.jpg\n",
      "    Aomori inakadate Spring Car Meet 2023 mnvV9s4L9MA_frame_2016.jpg\n",
      "    Aomori inakadate Spring Car Meet 2023 mnvV9s4L9MA_frame_2040.jpg\n",
      "    Aomori inakadate Spring Car Meet 2023 mnvV9s4L9MA_frame_2064.jpg\n",
      "    Aomori inakadate Spring Car Meet 2023 mnvV9s4L9MA_frame_2088.jpg\n",
      "    Aomori inakadate Spring Car Meet 2023 mnvV9s4L9MA_frame_2112.jpg\n",
      "    Aomori inakadate Spring Car Meet 2023 mnvV9s4L9MA_frame_2136.jpg\n",
      "    Aomori inakadate Spring Car Meet 2023 mnvV9s4L9MA_frame_216.jpg\n",
      "    Aomori inakadate Spring Car Meet 2023 mnvV9s4L9MA_frame_2160.jpg\n",
      "    Aomori inakadate Spring Car Meet 2023 mnvV9s4L9MA_frame_2184.jpg\n",
      "    Aomori inakadate Spring Car Meet 2023 mnvV9s4L9MA_frame_2208.jpg\n",
      "    Aomori inakadate Spring Car Meet 2023 mnvV9s4L9MA_frame_2232.jpg\n",
      "    Aomori inakadate Spring Car Meet 2023 mnvV9s4L9MA_frame_2256.jpg\n",
      "    Aomori inakadate Spring Car Meet 2023 mnvV9s4L9MA_frame_2280.jpg\n",
      "    Aomori inakadate Spring Car Meet 2023 mnvV9s4L9MA_frame_2304.jpg\n",
      "    Aomori inakadate Spring Car Meet 2023 mnvV9s4L9MA_frame_2328.jpg\n",
      "    Aomori inakadate Spring Car Meet 2023 mnvV9s4L9MA_frame_2352.jpg\n",
      "    Aomori inakadate Spring Car Meet 2023 mnvV9s4L9MA_frame_2376.jpg\n",
      "    Aomori inakadate Spring Car Meet 2023 mnvV9s4L9MA_frame_24.jpg\n",
      "    Aomori inakadate Spring Car Meet 2023 mnvV9s4L9MA_frame_240.jpg\n",
      "    Aomori inakadate Spring Car Meet 2023 mnvV9s4L9MA_frame_2400.jpg\n",
      "    Aomori inakadate Spring Car Meet 2023 mnvV9s4L9MA_frame_2424.jpg\n",
      "    Aomori inakadate Spring Car Meet 2023 mnvV9s4L9MA_frame_2448.jpg\n",
      "    Aomori inakadate Spring Car Meet 2023 mnvV9s4L9MA_frame_2472.jpg\n",
      "    Aomori inakadate Spring Car Meet 2023 mnvV9s4L9MA_frame_2496.jpg\n",
      "    Aomori inakadate Spring Car Meet 2023 mnvV9s4L9MA_frame_2520.jpg\n",
      "    Aomori inakadate Spring Car Meet 2023 mnvV9s4L9MA_frame_2544.jpg\n",
      "    Aomori inakadate Spring Car Meet 2023 mnvV9s4L9MA_frame_2568.jpg\n",
      "    Aomori inakadate Spring Car Meet 2023 mnvV9s4L9MA_frame_2592.jpg\n",
      "    Aomori inakadate Spring Car Meet 2023 mnvV9s4L9MA_frame_2616.jpg\n",
      "    Aomori inakadate Spring Car Meet 2023 mnvV9s4L9MA_frame_264.jpg\n",
      "    Aomori inakadate Spring Car Meet 2023 mnvV9s4L9MA_frame_2640.jpg\n",
      "    Aomori inakadate Spring Car Meet 2023 mnvV9s4L9MA_frame_2664.jpg\n",
      "    Aomori inakadate Spring Car Meet 2023 mnvV9s4L9MA_frame_2688.jpg\n",
      "    Aomori inakadate Spring Car Meet 2023 mnvV9s4L9MA_frame_2712.jpg\n",
      "    Aomori inakadate Spring Car Meet 2023 mnvV9s4L9MA_frame_2736.jpg\n",
      "    Aomori inakadate Spring Car Meet 2023 mnvV9s4L9MA_frame_2760.jpg\n",
      "    Aomori inakadate Spring Car Meet 2023 mnvV9s4L9MA_frame_2784.jpg\n",
      "    Aomori inakadate Spring Car Meet 2023 mnvV9s4L9MA_frame_2808.jpg\n",
      "    Aomori inakadate Spring Car Meet 2023 mnvV9s4L9MA_frame_2832.jpg\n",
      "    Aomori inakadate Spring Car Meet 2023 mnvV9s4L9MA_frame_2856.jpg\n",
      "    Aomori inakadate Spring Car Meet 2023 mnvV9s4L9MA_frame_288.jpg\n",
      "    Aomori inakadate Spring Car Meet 2023 mnvV9s4L9MA_frame_2880.jpg\n",
      "    Aomori inakadate Spring Car Meet 2023 mnvV9s4L9MA_frame_2904.jpg\n",
      "    Aomori inakadate Spring Car Meet 2023 mnvV9s4L9MA_frame_2928.jpg\n",
      "    Aomori inakadate Spring Car Meet 2023 mnvV9s4L9MA_frame_2952.jpg\n",
      "    Aomori inakadate Spring Car Meet 2023 mnvV9s4L9MA_frame_2976.jpg\n",
      "    Aomori inakadate Spring Car Meet 2023 mnvV9s4L9MA_frame_3000.jpg\n",
      "    Aomori inakadate Spring Car Meet 2023 mnvV9s4L9MA_frame_3024.jpg\n",
      "    Aomori inakadate Spring Car Meet 2023 mnvV9s4L9MA_frame_3048.jpg\n",
      "    Aomori inakadate Spring Car Meet 2023 mnvV9s4L9MA_frame_3072.jpg\n",
      "    Aomori inakadate Spring Car Meet 2023 mnvV9s4L9MA_frame_3096.jpg\n",
      "    Aomori inakadate Spring Car Meet 2023 mnvV9s4L9MA_frame_312.jpg\n",
      "    Aomori inakadate Spring Car Meet 2023 mnvV9s4L9MA_frame_3120.jpg\n",
      "    Aomori inakadate Spring Car Meet 2023 mnvV9s4L9MA_frame_3144.jpg\n",
      "    Aomori inakadate Spring Car Meet 2023 mnvV9s4L9MA_frame_3168.jpg\n",
      "    Aomori inakadate Spring Car Meet 2023 mnvV9s4L9MA_frame_3192.jpg\n",
      "    Aomori inakadate Spring Car Meet 2023 mnvV9s4L9MA_frame_3216.jpg\n",
      "    Aomori inakadate Spring Car Meet 2023 mnvV9s4L9MA_frame_3240.jpg\n",
      "    Aomori inakadate Spring Car Meet 2023 mnvV9s4L9MA_frame_3264.jpg\n",
      "    Aomori inakadate Spring Car Meet 2023 mnvV9s4L9MA_frame_3288.jpg\n",
      "    Aomori inakadate Spring Car Meet 2023 mnvV9s4L9MA_frame_3312.jpg\n",
      "    Aomori inakadate Spring Car Meet 2023 mnvV9s4L9MA_frame_3336.jpg\n",
      "    Aomori inakadate Spring Car Meet 2023 mnvV9s4L9MA_frame_336.jpg\n",
      "    Aomori inakadate Spring Car Meet 2023 mnvV9s4L9MA_frame_3360.jpg\n",
      "    Aomori inakadate Spring Car Meet 2023 mnvV9s4L9MA_frame_3384.jpg\n",
      "    Aomori inakadate Spring Car Meet 2023 mnvV9s4L9MA_frame_3408.jpg\n",
      "    Aomori inakadate Spring Car Meet 2023 mnvV9s4L9MA_frame_3432.jpg\n",
      "    Aomori inakadate Spring Car Meet 2023 mnvV9s4L9MA_frame_3456.jpg\n",
      "    Aomori inakadate Spring Car Meet 2023 mnvV9s4L9MA_frame_3480.jpg\n",
      "    Aomori inakadate Spring Car Meet 2023 mnvV9s4L9MA_frame_3504.jpg\n",
      "    Aomori inakadate Spring Car Meet 2023 mnvV9s4L9MA_frame_3528.jpg\n",
      "    Aomori inakadate Spring Car Meet 2023 mnvV9s4L9MA_frame_3576.jpg\n",
      "    Aomori inakadate Spring Car Meet 2023 mnvV9s4L9MA_frame_360.jpg\n",
      "    Aomori inakadate Spring Car Meet 2023 mnvV9s4L9MA_frame_3600.jpg\n",
      "    Aomori inakadate Spring Car Meet 2023 mnvV9s4L9MA_frame_3648.jpg\n",
      "    Aomori inakadate Spring Car Meet 2023 mnvV9s4L9MA_frame_3672.jpg\n",
      "    Aomori inakadate Spring Car Meet 2023 mnvV9s4L9MA_frame_3696.jpg\n",
      "    Aomori inakadate Spring Car Meet 2023 mnvV9s4L9MA_frame_3720.jpg\n",
      "    Aomori inakadate Spring Car Meet 2023 mnvV9s4L9MA_frame_3744.jpg\n",
      "    Aomori inakadate Spring Car Meet 2023 mnvV9s4L9MA_frame_3768.jpg\n",
      "    Aomori inakadate Spring Car Meet 2023 mnvV9s4L9MA_frame_3792.jpg\n",
      "    Aomori inakadate Spring Car Meet 2023 mnvV9s4L9MA_frame_3816.jpg\n",
      "    Aomori inakadate Spring Car Meet 2023 mnvV9s4L9MA_frame_384.jpg\n",
      "    Aomori inakadate Spring Car Meet 2023 mnvV9s4L9MA_frame_3840.jpg\n",
      "    Aomori inakadate Spring Car Meet 2023 mnvV9s4L9MA_frame_3864.jpg\n",
      "    Aomori inakadate Spring Car Meet 2023 mnvV9s4L9MA_frame_3888.jpg\n",
      "    Aomori inakadate Spring Car Meet 2023 mnvV9s4L9MA_frame_3912.jpg\n",
      "    Aomori inakadate Spring Car Meet 2023 mnvV9s4L9MA_frame_3936.jpg\n",
      "    Aomori inakadate Spring Car Meet 2023 mnvV9s4L9MA_frame_3960.jpg\n",
      "    Aomori inakadate Spring Car Meet 2023 mnvV9s4L9MA_frame_3984.jpg\n",
      "    Aomori inakadate Spring Car Meet 2023 mnvV9s4L9MA_frame_4008.jpg\n",
      "    Aomori inakadate Spring Car Meet 2023 mnvV9s4L9MA_frame_4032.jpg\n",
      "    Aomori inakadate Spring Car Meet 2023 mnvV9s4L9MA_frame_4056.jpg\n",
      "    Aomori inakadate Spring Car Meet 2023 mnvV9s4L9MA_frame_408.jpg\n",
      "    Aomori inakadate Spring Car Meet 2023 mnvV9s4L9MA_frame_4080.jpg\n",
      "    Aomori inakadate Spring Car Meet 2023 mnvV9s4L9MA_frame_4104.jpg\n",
      "    Aomori inakadate Spring Car Meet 2023 mnvV9s4L9MA_frame_4128.jpg\n",
      "    Aomori inakadate Spring Car Meet 2023 mnvV9s4L9MA_frame_4152.jpg\n",
      "    Aomori inakadate Spring Car Meet 2023 mnvV9s4L9MA_frame_4176.jpg\n",
      "    Aomori inakadate Spring Car Meet 2023 mnvV9s4L9MA_frame_4200.jpg\n",
      "    Aomori inakadate Spring Car Meet 2023 mnvV9s4L9MA_frame_4224.jpg\n",
      "    Aomori inakadate Spring Car Meet 2023 mnvV9s4L9MA_frame_4248.jpg\n",
      "    Aomori inakadate Spring Car Meet 2023 mnvV9s4L9MA_frame_4272.jpg\n",
      "    Aomori inakadate Spring Car Meet 2023 mnvV9s4L9MA_frame_4296.jpg\n",
      "    Aomori inakadate Spring Car Meet 2023 mnvV9s4L9MA_frame_432.jpg\n",
      "    Aomori inakadate Spring Car Meet 2023 mnvV9s4L9MA_frame_4320.jpg\n",
      "    Aomori inakadate Spring Car Meet 2023 mnvV9s4L9MA_frame_4344.jpg\n",
      "    Aomori inakadate Spring Car Meet 2023 mnvV9s4L9MA_frame_4368.jpg\n",
      "    Aomori inakadate Spring Car Meet 2023 mnvV9s4L9MA_frame_4392.jpg\n",
      "    Aomori inakadate Spring Car Meet 2023 mnvV9s4L9MA_frame_4416.jpg\n",
      "    Aomori inakadate Spring Car Meet 2023 mnvV9s4L9MA_frame_4440.jpg\n",
      "    Aomori inakadate Spring Car Meet 2023 mnvV9s4L9MA_frame_4464.jpg\n",
      "    Aomori inakadate Spring Car Meet 2023 mnvV9s4L9MA_frame_4488.jpg\n",
      "    Aomori inakadate Spring Car Meet 2023 mnvV9s4L9MA_frame_4512.jpg\n",
      "    Aomori inakadate Spring Car Meet 2023 mnvV9s4L9MA_frame_4536.jpg\n",
      "    Aomori inakadate Spring Car Meet 2023 mnvV9s4L9MA_frame_456.jpg\n",
      "    Aomori inakadate Spring Car Meet 2023 mnvV9s4L9MA_frame_4560.jpg\n",
      "    Aomori inakadate Spring Car Meet 2023 mnvV9s4L9MA_frame_4584.jpg\n",
      "    Aomori inakadate Spring Car Meet 2023 mnvV9s4L9MA_frame_4608.jpg\n",
      "    Aomori inakadate Spring Car Meet 2023 mnvV9s4L9MA_frame_4632.jpg\n",
      "    Aomori inakadate Spring Car Meet 2023 mnvV9s4L9MA_frame_4656.jpg\n",
      "    Aomori inakadate Spring Car Meet 2023 mnvV9s4L9MA_frame_4680.jpg\n",
      "    Aomori inakadate Spring Car Meet 2023 mnvV9s4L9MA_frame_4704.jpg\n",
      "    Aomori inakadate Spring Car Meet 2023 mnvV9s4L9MA_frame_4728.jpg\n",
      "    Aomori inakadate Spring Car Meet 2023 mnvV9s4L9MA_frame_4752.jpg\n",
      "    Aomori inakadate Spring Car Meet 2023 mnvV9s4L9MA_frame_4776.jpg\n",
      "    Aomori inakadate Spring Car Meet 2023 mnvV9s4L9MA_frame_48.jpg\n",
      "    Aomori inakadate Spring Car Meet 2023 mnvV9s4L9MA_frame_480.jpg\n",
      "    Aomori inakadate Spring Car Meet 2023 mnvV9s4L9MA_frame_4800.jpg\n",
      "    Aomori inakadate Spring Car Meet 2023 mnvV9s4L9MA_frame_4824.jpg\n",
      "    Aomori inakadate Spring Car Meet 2023 mnvV9s4L9MA_frame_4848.jpg\n",
      "    Aomori inakadate Spring Car Meet 2023 mnvV9s4L9MA_frame_4872.jpg\n",
      "    Aomori inakadate Spring Car Meet 2023 mnvV9s4L9MA_frame_4896.jpg\n",
      "    Aomori inakadate Spring Car Meet 2023 mnvV9s4L9MA_frame_4920.jpg\n",
      "    Aomori inakadate Spring Car Meet 2023 mnvV9s4L9MA_frame_4944.jpg\n",
      "    Aomori inakadate Spring Car Meet 2023 mnvV9s4L9MA_frame_4968.jpg\n",
      "    Aomori inakadate Spring Car Meet 2023 mnvV9s4L9MA_frame_4992.jpg\n",
      "    Aomori inakadate Spring Car Meet 2023 mnvV9s4L9MA_frame_5016.jpg\n",
      "    Aomori inakadate Spring Car Meet 2023 mnvV9s4L9MA_frame_504.jpg\n",
      "    Aomori inakadate Spring Car Meet 2023 mnvV9s4L9MA_frame_5040.jpg\n",
      "    Aomori inakadate Spring Car Meet 2023 mnvV9s4L9MA_frame_5064.jpg\n",
      "    Aomori inakadate Spring Car Meet 2023 mnvV9s4L9MA_frame_5088.jpg\n",
      "    Aomori inakadate Spring Car Meet 2023 mnvV9s4L9MA_frame_5112.jpg\n",
      "    Aomori inakadate Spring Car Meet 2023 mnvV9s4L9MA_frame_5136.jpg\n",
      "    Aomori inakadate Spring Car Meet 2023 mnvV9s4L9MA_frame_5160.jpg\n",
      "    Aomori inakadate Spring Car Meet 2023 mnvV9s4L9MA_frame_5184.jpg\n",
      "    Aomori inakadate Spring Car Meet 2023 mnvV9s4L9MA_frame_5208.jpg\n",
      "    Aomori inakadate Spring Car Meet 2023 mnvV9s4L9MA_frame_5232.jpg\n",
      "    Aomori inakadate Spring Car Meet 2023 mnvV9s4L9MA_frame_5256.jpg\n",
      "    Aomori inakadate Spring Car Meet 2023 mnvV9s4L9MA_frame_528.jpg\n",
      "    Aomori inakadate Spring Car Meet 2023 mnvV9s4L9MA_frame_5280.jpg\n",
      "    Aomori inakadate Spring Car Meet 2023 mnvV9s4L9MA_frame_5304.jpg\n",
      "    Aomori inakadate Spring Car Meet 2023 mnvV9s4L9MA_frame_5328.jpg\n",
      "    Aomori inakadate Spring Car Meet 2023 mnvV9s4L9MA_frame_5352.jpg\n",
      "    Aomori inakadate Spring Car Meet 2023 mnvV9s4L9MA_frame_5376.jpg\n",
      "    Aomori inakadate Spring Car Meet 2023 mnvV9s4L9MA_frame_5400.jpg\n",
      "    Aomori inakadate Spring Car Meet 2023 mnvV9s4L9MA_frame_5424.jpg\n",
      "    Aomori inakadate Spring Car Meet 2023 mnvV9s4L9MA_frame_5448.jpg\n",
      "    Aomori inakadate Spring Car Meet 2023 mnvV9s4L9MA_frame_5472.jpg\n",
      "    Aomori inakadate Spring Car Meet 2023 mnvV9s4L9MA_frame_5496.jpg\n",
      "    Aomori inakadate Spring Car Meet 2023 mnvV9s4L9MA_frame_552.jpg\n",
      "    Aomori inakadate Spring Car Meet 2023 mnvV9s4L9MA_frame_5520.jpg\n",
      "    Aomori inakadate Spring Car Meet 2023 mnvV9s4L9MA_frame_5544.jpg\n",
      "    Aomori inakadate Spring Car Meet 2023 mnvV9s4L9MA_frame_5568.jpg\n",
      "    Aomori inakadate Spring Car Meet 2023 mnvV9s4L9MA_frame_5592.jpg\n",
      "    Aomori inakadate Spring Car Meet 2023 mnvV9s4L9MA_frame_5616.jpg\n",
      "    Aomori inakadate Spring Car Meet 2023 mnvV9s4L9MA_frame_5640.jpg\n",
      "    Aomori inakadate Spring Car Meet 2023 mnvV9s4L9MA_frame_5664.jpg\n",
      "    Aomori inakadate Spring Car Meet 2023 mnvV9s4L9MA_frame_5688.jpg\n",
      "    Aomori inakadate Spring Car Meet 2023 mnvV9s4L9MA_frame_5712.jpg\n",
      "    Aomori inakadate Spring Car Meet 2023 mnvV9s4L9MA_frame_5736.jpg\n",
      "    Aomori inakadate Spring Car Meet 2023 mnvV9s4L9MA_frame_576.jpg\n",
      "    Aomori inakadate Spring Car Meet 2023 mnvV9s4L9MA_frame_5760.jpg\n",
      "    Aomori inakadate Spring Car Meet 2023 mnvV9s4L9MA_frame_5784.jpg\n",
      "    Aomori inakadate Spring Car Meet 2023 mnvV9s4L9MA_frame_5808.jpg\n",
      "    Aomori inakadate Spring Car Meet 2023 mnvV9s4L9MA_frame_5832.jpg\n",
      "    Aomori inakadate Spring Car Meet 2023 mnvV9s4L9MA_frame_5856.jpg\n",
      "    Aomori inakadate Spring Car Meet 2023 mnvV9s4L9MA_frame_5880.jpg\n",
      "    Aomori inakadate Spring Car Meet 2023 mnvV9s4L9MA_frame_5904.jpg\n",
      "    Aomori inakadate Spring Car Meet 2023 mnvV9s4L9MA_frame_5928.jpg\n",
      "    Aomori inakadate Spring Car Meet 2023 mnvV9s4L9MA_frame_5952.jpg\n",
      "    Aomori inakadate Spring Car Meet 2023 mnvV9s4L9MA_frame_5976.jpg\n",
      "    Aomori inakadate Spring Car Meet 2023 mnvV9s4L9MA_frame_600.jpg\n",
      "    Aomori inakadate Spring Car Meet 2023 mnvV9s4L9MA_frame_6000.jpg\n",
      "    Aomori inakadate Spring Car Meet 2023 mnvV9s4L9MA_frame_6024.jpg\n",
      "    Aomori inakadate Spring Car Meet 2023 mnvV9s4L9MA_frame_6048.jpg\n",
      "    Aomori inakadate Spring Car Meet 2023 mnvV9s4L9MA_frame_6072.jpg\n",
      "    Aomori inakadate Spring Car Meet 2023 mnvV9s4L9MA_frame_6096.jpg\n",
      "    Aomori inakadate Spring Car Meet 2023 mnvV9s4L9MA_frame_6120.jpg\n",
      "    Aomori inakadate Spring Car Meet 2023 mnvV9s4L9MA_frame_6144.jpg\n",
      "    Aomori inakadate Spring Car Meet 2023 mnvV9s4L9MA_frame_6168.jpg\n",
      "    Aomori inakadate Spring Car Meet 2023 mnvV9s4L9MA_frame_6192.jpg\n",
      "    Aomori inakadate Spring Car Meet 2023 mnvV9s4L9MA_frame_6216.jpg\n",
      "    Aomori inakadate Spring Car Meet 2023 mnvV9s4L9MA_frame_624.jpg\n",
      "    Aomori inakadate Spring Car Meet 2023 mnvV9s4L9MA_frame_6240.jpg\n",
      "    Aomori inakadate Spring Car Meet 2023 mnvV9s4L9MA_frame_6264.jpg\n",
      "    Aomori inakadate Spring Car Meet 2023 mnvV9s4L9MA_frame_6288.jpg\n",
      "    Aomori inakadate Spring Car Meet 2023 mnvV9s4L9MA_frame_6312.jpg\n",
      "    Aomori inakadate Spring Car Meet 2023 mnvV9s4L9MA_frame_6336.jpg\n",
      "    Aomori inakadate Spring Car Meet 2023 mnvV9s4L9MA_frame_6360.jpg\n",
      "    Aomori inakadate Spring Car Meet 2023 mnvV9s4L9MA_frame_6384.jpg\n",
      "    Aomori inakadate Spring Car Meet 2023 mnvV9s4L9MA_frame_6408.jpg\n",
      "    Aomori inakadate Spring Car Meet 2023 mnvV9s4L9MA_frame_6432.jpg\n",
      "    Aomori inakadate Spring Car Meet 2023 mnvV9s4L9MA_frame_6456.jpg\n",
      "    Aomori inakadate Spring Car Meet 2023 mnvV9s4L9MA_frame_648.jpg\n",
      "    Aomori inakadate Spring Car Meet 2023 mnvV9s4L9MA_frame_6480.jpg\n",
      "    Aomori inakadate Spring Car Meet 2023 mnvV9s4L9MA_frame_6504.jpg\n",
      "    Aomori inakadate Spring Car Meet 2023 mnvV9s4L9MA_frame_6528.jpg\n",
      "    Aomori inakadate Spring Car Meet 2023 mnvV9s4L9MA_frame_6552.jpg\n",
      "    Aomori inakadate Spring Car Meet 2023 mnvV9s4L9MA_frame_6576.jpg\n",
      "    Aomori inakadate Spring Car Meet 2023 mnvV9s4L9MA_frame_6600.jpg\n",
      "    Aomori inakadate Spring Car Meet 2023 mnvV9s4L9MA_frame_6624.jpg\n",
      "    Aomori inakadate Spring Car Meet 2023 mnvV9s4L9MA_frame_6648.jpg\n",
      "    Aomori inakadate Spring Car Meet 2023 mnvV9s4L9MA_frame_6672.jpg\n",
      "    Aomori inakadate Spring Car Meet 2023 mnvV9s4L9MA_frame_6696.jpg\n",
      "    Aomori inakadate Spring Car Meet 2023 mnvV9s4L9MA_frame_672.jpg\n",
      "    Aomori inakadate Spring Car Meet 2023 mnvV9s4L9MA_frame_6720.jpg\n",
      "    Aomori inakadate Spring Car Meet 2023 mnvV9s4L9MA_frame_6744.jpg\n",
      "    Aomori inakadate Spring Car Meet 2023 mnvV9s4L9MA_frame_6768.jpg\n",
      "    Aomori inakadate Spring Car Meet 2023 mnvV9s4L9MA_frame_6792.jpg\n",
      "    Aomori inakadate Spring Car Meet 2023 mnvV9s4L9MA_frame_6816.jpg\n",
      "    Aomori inakadate Spring Car Meet 2023 mnvV9s4L9MA_frame_6840.jpg\n",
      "    Aomori inakadate Spring Car Meet 2023 mnvV9s4L9MA_frame_6864.jpg\n",
      "    Aomori inakadate Spring Car Meet 2023 mnvV9s4L9MA_frame_6888.jpg\n",
      "    Aomori inakadate Spring Car Meet 2023 mnvV9s4L9MA_frame_6912.jpg\n",
      "    Aomori inakadate Spring Car Meet 2023 mnvV9s4L9MA_frame_6936.jpg\n",
      "    Aomori inakadate Spring Car Meet 2023 mnvV9s4L9MA_frame_696.jpg\n",
      "    Aomori inakadate Spring Car Meet 2023 mnvV9s4L9MA_frame_6960.jpg\n",
      "    Aomori inakadate Spring Car Meet 2023 mnvV9s4L9MA_frame_6984.jpg\n",
      "    Aomori inakadate Spring Car Meet 2023 mnvV9s4L9MA_frame_7008.jpg\n",
      "    Aomori inakadate Spring Car Meet 2023 mnvV9s4L9MA_frame_7032.jpg\n",
      "    Aomori inakadate Spring Car Meet 2023 mnvV9s4L9MA_frame_7056.jpg\n",
      "    Aomori inakadate Spring Car Meet 2023 mnvV9s4L9MA_frame_7080.jpg\n",
      "    Aomori inakadate Spring Car Meet 2023 mnvV9s4L9MA_frame_7104.jpg\n",
      "    Aomori inakadate Spring Car Meet 2023 mnvV9s4L9MA_frame_7128.jpg\n",
      "    Aomori inakadate Spring Car Meet 2023 mnvV9s4L9MA_frame_7152.jpg\n",
      "    Aomori inakadate Spring Car Meet 2023 mnvV9s4L9MA_frame_7176.jpg\n",
      "    Aomori inakadate Spring Car Meet 2023 mnvV9s4L9MA_frame_72.jpg\n",
      "    Aomori inakadate Spring Car Meet 2023 mnvV9s4L9MA_frame_720.jpg\n",
      "    Aomori inakadate Spring Car Meet 2023 mnvV9s4L9MA_frame_7200.jpg\n",
      "    Aomori inakadate Spring Car Meet 2023 mnvV9s4L9MA_frame_7224.jpg\n",
      "    Aomori inakadate Spring Car Meet 2023 mnvV9s4L9MA_frame_7248.jpg\n",
      "    Aomori inakadate Spring Car Meet 2023 mnvV9s4L9MA_frame_7272.jpg\n",
      "    Aomori inakadate Spring Car Meet 2023 mnvV9s4L9MA_frame_7296.jpg\n",
      "    Aomori inakadate Spring Car Meet 2023 mnvV9s4L9MA_frame_7320.jpg\n",
      "    Aomori inakadate Spring Car Meet 2023 mnvV9s4L9MA_frame_7344.jpg\n",
      "    Aomori inakadate Spring Car Meet 2023 mnvV9s4L9MA_frame_7368.jpg\n",
      "    Aomori inakadate Spring Car Meet 2023 mnvV9s4L9MA_frame_7392.jpg\n",
      "    Aomori inakadate Spring Car Meet 2023 mnvV9s4L9MA_frame_7416.jpg\n",
      "    Aomori inakadate Spring Car Meet 2023 mnvV9s4L9MA_frame_744.jpg\n",
      "    Aomori inakadate Spring Car Meet 2023 mnvV9s4L9MA_frame_7440.jpg\n",
      "    Aomori inakadate Spring Car Meet 2023 mnvV9s4L9MA_frame_7464.jpg\n",
      "    Aomori inakadate Spring Car Meet 2023 mnvV9s4L9MA_frame_7488.jpg\n",
      "    Aomori inakadate Spring Car Meet 2023 mnvV9s4L9MA_frame_7512.jpg\n",
      "    Aomori inakadate Spring Car Meet 2023 mnvV9s4L9MA_frame_7536.jpg\n",
      "    Aomori inakadate Spring Car Meet 2023 mnvV9s4L9MA_frame_7560.jpg\n",
      "    Aomori inakadate Spring Car Meet 2023 mnvV9s4L9MA_frame_7584.jpg\n",
      "    Aomori inakadate Spring Car Meet 2023 mnvV9s4L9MA_frame_7608.jpg\n",
      "    Aomori inakadate Spring Car Meet 2023 mnvV9s4L9MA_frame_7632.jpg\n",
      "    Aomori inakadate Spring Car Meet 2023 mnvV9s4L9MA_frame_7656.jpg\n",
      "    Aomori inakadate Spring Car Meet 2023 mnvV9s4L9MA_frame_768.jpg\n",
      "    Aomori inakadate Spring Car Meet 2023 mnvV9s4L9MA_frame_7680.jpg\n",
      "    Aomori inakadate Spring Car Meet 2023 mnvV9s4L9MA_frame_7704.jpg\n",
      "    Aomori inakadate Spring Car Meet 2023 mnvV9s4L9MA_frame_7728.jpg\n",
      "    Aomori inakadate Spring Car Meet 2023 mnvV9s4L9MA_frame_7752.jpg\n",
      "    Aomori inakadate Spring Car Meet 2023 mnvV9s4L9MA_frame_7776.jpg\n",
      "    Aomori inakadate Spring Car Meet 2023 mnvV9s4L9MA_frame_7800.jpg\n",
      "    Aomori inakadate Spring Car Meet 2023 mnvV9s4L9MA_frame_7824.jpg\n",
      "    Aomori inakadate Spring Car Meet 2023 mnvV9s4L9MA_frame_7848.jpg\n",
      "    Aomori inakadate Spring Car Meet 2023 mnvV9s4L9MA_frame_7872.jpg\n",
      "    Aomori inakadate Spring Car Meet 2023 mnvV9s4L9MA_frame_7896.jpg\n",
      "    Aomori inakadate Spring Car Meet 2023 mnvV9s4L9MA_frame_792.jpg\n",
      "    Aomori inakadate Spring Car Meet 2023 mnvV9s4L9MA_frame_7920.jpg\n",
      "    Aomori inakadate Spring Car Meet 2023 mnvV9s4L9MA_frame_7944.jpg\n",
      "    Aomori inakadate Spring Car Meet 2023 mnvV9s4L9MA_frame_7968.jpg\n",
      "    Aomori inakadate Spring Car Meet 2023 mnvV9s4L9MA_frame_7992.jpg\n",
      "    Aomori inakadate Spring Car Meet 2023 mnvV9s4L9MA_frame_8016.jpg\n",
      "    Aomori inakadate Spring Car Meet 2023 mnvV9s4L9MA_frame_8040.jpg\n",
      "    Aomori inakadate Spring Car Meet 2023 mnvV9s4L9MA_frame_8064.jpg\n",
      "    Aomori inakadate Spring Car Meet 2023 mnvV9s4L9MA_frame_8088.jpg\n",
      "    Aomori inakadate Spring Car Meet 2023 mnvV9s4L9MA_frame_8112.jpg\n",
      "    Aomori inakadate Spring Car Meet 2023 mnvV9s4L9MA_frame_8136.jpg\n",
      "    Aomori inakadate Spring Car Meet 2023 mnvV9s4L9MA_frame_816.jpg\n",
      "    Aomori inakadate Spring Car Meet 2023 mnvV9s4L9MA_frame_8160.jpg\n",
      "    Aomori inakadate Spring Car Meet 2023 mnvV9s4L9MA_frame_8184.jpg\n",
      "    Aomori inakadate Spring Car Meet 2023 mnvV9s4L9MA_frame_8208.jpg\n",
      "    Aomori inakadate Spring Car Meet 2023 mnvV9s4L9MA_frame_8232.jpg\n",
      "    Aomori inakadate Spring Car Meet 2023 mnvV9s4L9MA_frame_8256.jpg\n",
      "    Aomori inakadate Spring Car Meet 2023 mnvV9s4L9MA_frame_8280.jpg\n",
      "    Aomori inakadate Spring Car Meet 2023 mnvV9s4L9MA_frame_8304.jpg\n",
      "    Aomori inakadate Spring Car Meet 2023 mnvV9s4L9MA_frame_8328.jpg\n",
      "    Aomori inakadate Spring Car Meet 2023 mnvV9s4L9MA_frame_8352.jpg\n",
      "    Aomori inakadate Spring Car Meet 2023 mnvV9s4L9MA_frame_8376.jpg\n",
      "    Aomori inakadate Spring Car Meet 2023 mnvV9s4L9MA_frame_840.jpg\n",
      "    Aomori inakadate Spring Car Meet 2023 mnvV9s4L9MA_frame_8400.jpg\n",
      "    Aomori inakadate Spring Car Meet 2023 mnvV9s4L9MA_frame_8424.jpg\n",
      "    Aomori inakadate Spring Car Meet 2023 mnvV9s4L9MA_frame_8448.jpg\n",
      "    Aomori inakadate Spring Car Meet 2023 mnvV9s4L9MA_frame_8472.jpg\n",
      "    Aomori inakadate Spring Car Meet 2023 mnvV9s4L9MA_frame_8496.jpg\n",
      "    Aomori inakadate Spring Car Meet 2023 mnvV9s4L9MA_frame_8520.jpg\n",
      "    Aomori inakadate Spring Car Meet 2023 mnvV9s4L9MA_frame_8544.jpg\n",
      "    Aomori inakadate Spring Car Meet 2023 mnvV9s4L9MA_frame_8568.jpg\n",
      "    Aomori inakadate Spring Car Meet 2023 mnvV9s4L9MA_frame_8592.jpg\n",
      "    Aomori inakadate Spring Car Meet 2023 mnvV9s4L9MA_frame_8616.jpg\n",
      "    Aomori inakadate Spring Car Meet 2023 mnvV9s4L9MA_frame_864.jpg\n",
      "    Aomori inakadate Spring Car Meet 2023 mnvV9s4L9MA_frame_8640.jpg\n",
      "    Aomori inakadate Spring Car Meet 2023 mnvV9s4L9MA_frame_8664.jpg\n",
      "    Aomori inakadate Spring Car Meet 2023 mnvV9s4L9MA_frame_8688.jpg\n",
      "    Aomori inakadate Spring Car Meet 2023 mnvV9s4L9MA_frame_8712.jpg\n",
      "    Aomori inakadate Spring Car Meet 2023 mnvV9s4L9MA_frame_888.jpg\n",
      "    Aomori inakadate Spring Car Meet 2023 mnvV9s4L9MA_frame_912.jpg\n",
      "    Aomori inakadate Spring Car Meet 2023 mnvV9s4L9MA_frame_936.jpg\n",
      "    Aomori inakadate Spring Car Meet 2023 mnvV9s4L9MA_frame_96.jpg\n",
      "    Aomori inakadate Spring Car Meet 2023 mnvV9s4L9MA_frame_960.jpg\n",
      "    Aomori inakadate Spring Car Meet 2023 mnvV9s4L9MA_frame_984.jpg\n"
     ]
    }
   ],
   "source": [
    "print(\"Dataset structure:\")\n",
    "for root, dirs, files in os.walk(DATASET_PATH):\n",
    "    level = root.replace(DATASET_PATH, '').count(os.sep)\n",
    "    indent = ' ' * 4 * (level)\n",
    "    print('{}{}/'.format(indent, os.path.basename(root)))\n",
    "    subindent = ' ' * 4 * (level + 1)\n",
    "    for f in files:\n",
    "        print('{}{}'.format(subindent, f))"
   ]
  },
  {
   "cell_type": "code",
   "execution_count": 44,
   "metadata": {},
   "outputs": [],
   "source": [
    "import yaml\n",
    "from pathlib import Path\n",
    "\n",
    "def create_data_config_yaml(base_path, classes_file='classes.txt', yaml_file='data_config.yaml'):\n",
    "    # 絶対パスに変換\n",
    "    base_path = Path(base_path).resolve()\n",
    "\n",
    "    # classes.txtからクラス名を読み込む\n",
    "    classes_file_path = base_path / classes_file\n",
    "    if not classes_file_path.exists():\n",
    "        raise FileNotFoundError(f\"{classes_file_path} が見つかりません\")\n",
    "\n",
    "    with open(classes_file_path, 'r') as f:\n",
    "        class_names = f.read().strip().split('\\n')\n",
    "\n",
    "    # クラス名を辞書形式に変換\n",
    "    class_dict = {i: name for i, name in enumerate(class_names)}\n",
    "\n",
    "    # データセットの設定\n",
    "    data_config = {\n",
    "        'path': str(base_path),  # データセットのベースパス（絶対パス）\n",
    "        'train': 'images/train',  # 学習用の画像ディレクトリ（pathからの相対パス）\n",
    "        'val': 'images/val',  # 検証用の画像ディレクトリ（pathからの相対パス）\n",
    "        'test': 'images/test',  # テスト用の画像ディレクトリ（pathからの相対パス）\n",
    "        'names': class_dict  # クラス名\n",
    "    }\n",
    "\n",
    "    # YAMLファイルとして保存\n",
    "    yaml_file_path = base_path / yaml_file\n",
    "    with open(yaml_file_path, 'w') as file:\n",
    "        yaml.dump(data_config, file, default_flow_style=False, allow_unicode=True)\n",
    "\n",
    "    print(f\"YAMLファイルが生成されました: {yaml_file_path}\")\n",
    "    return yaml_file_path"
   ]
  },
  {
   "cell_type": "code",
   "execution_count": 45,
   "metadata": {},
   "outputs": [
    {
     "name": "stdout",
     "output_type": "stream",
     "text": [
      "YAMLファイルが生成されました: C:\\LocalWork\\Prj\\AutoAnnotation\\app\\Grounded-Segment-Anything\\outputs\\data_config.yaml\n"
     ]
    }
   ],
   "source": [
    "# 使用例\n",
    "base_path = DATASET_PATH\n",
    "yaml_file_path = create_data_config_yaml(base_path)"
   ]
  },
  {
   "cell_type": "code",
   "execution_count": 46,
   "metadata": {},
   "outputs": [
    {
     "name": "stdout",
     "output_type": "stream",
     "text": [
      "New https://pypi.org/project/ultralytics/8.2.72 available  Update with 'pip install -U ultralytics'\n",
      "Ultralytics YOLOv8.2.31  Python-3.10.11 torch-2.4.0+cu124 CUDA:0 (NVIDIA GeForce RTX 2080 Ti, 11264MiB)\n",
      "\u001b[34m\u001b[1mengine\\trainer: \u001b[0mtask=segment, mode=train, model=yolov8s-seg.pt, data=C:\\LocalWork\\Prj\\AutoAnnotation\\app\\Grounded-Segment-Anything\\outputs\\data_config.yaml, epochs=30, time=None, patience=100, batch=16, imgsz=640, save=True, save_period=-1, cache=False, device=None, workers=8, project=None, name=train2, exist_ok=False, pretrained=True, optimizer=auto, verbose=True, seed=0, deterministic=True, single_cls=False, rect=False, cos_lr=False, close_mosaic=10, resume=False, amp=True, fraction=1.0, profile=False, freeze=None, multi_scale=False, overlap_mask=True, mask_ratio=4, dropout=0.0, val=True, split=val, save_json=False, save_hybrid=False, conf=None, iou=0.7, max_det=300, half=False, dnn=False, plots=True, source=None, vid_stride=1, stream_buffer=False, visualize=False, augment=False, agnostic_nms=False, classes=None, retina_masks=False, embed=None, show=False, save_frames=False, save_txt=False, save_conf=False, save_crop=False, show_labels=True, show_conf=True, show_boxes=True, line_width=None, format=torchscript, keras=False, optimize=False, int8=False, dynamic=False, simplify=False, opset=None, workspace=4, nms=False, lr0=0.01, lrf=0.01, momentum=0.937, weight_decay=0.0005, warmup_epochs=3.0, warmup_momentum=0.8, warmup_bias_lr=0.1, box=7.5, cls=0.5, dfl=1.5, pose=12.0, kobj=1.0, label_smoothing=0.0, nbs=64, hsv_h=0.015, hsv_s=0.7, hsv_v=0.4, degrees=0.0, translate=0.1, scale=0.5, shear=0.0, perspective=0.0, flipud=0.0, fliplr=0.5, bgr=0.0, mosaic=1.0, mixup=0.0, copy_paste=0.0, auto_augment=randaugment, erasing=0.4, crop_fraction=1.0, cfg=None, tracker=botsort.yaml, save_dir=C:\\LocalWork\\Prj\\NobelAI\\stable-diffusion-webui\\runs\\segment\\train2\n",
      "Overriding model.yaml nc=80 with nc=8\n",
      "\n",
      "                   from  n    params  module                                       arguments                     \n",
      "  0                  -1  1       928  ultralytics.nn.modules.conv.Conv             [3, 32, 3, 2]                 \n",
      "  1                  -1  1     18560  ultralytics.nn.modules.conv.Conv             [32, 64, 3, 2]                \n",
      "  2                  -1  1     29056  ultralytics.nn.modules.block.C2f             [64, 64, 1, True]             \n",
      "  3                  -1  1     73984  ultralytics.nn.modules.conv.Conv             [64, 128, 3, 2]               \n",
      "  4                  -1  2    197632  ultralytics.nn.modules.block.C2f             [128, 128, 2, True]           \n",
      "  5                  -1  1    295424  ultralytics.nn.modules.conv.Conv             [128, 256, 3, 2]              \n",
      "  6                  -1  2    788480  ultralytics.nn.modules.block.C2f             [256, 256, 2, True]           \n",
      "  7                  -1  1   1180672  ultralytics.nn.modules.conv.Conv             [256, 512, 3, 2]              \n",
      "  8                  -1  1   1838080  ultralytics.nn.modules.block.C2f             [512, 512, 1, True]           \n",
      "  9                  -1  1    656896  ultralytics.nn.modules.block.SPPF            [512, 512, 5]                 \n",
      " 10                  -1  1         0  torch.nn.modules.upsampling.Upsample         [None, 2, 'nearest']          \n",
      " 11             [-1, 6]  1         0  ultralytics.nn.modules.conv.Concat           [1]                           \n",
      " 12                  -1  1    591360  ultralytics.nn.modules.block.C2f             [768, 256, 1]                 \n",
      " 13                  -1  1         0  torch.nn.modules.upsampling.Upsample         [None, 2, 'nearest']          \n",
      " 14             [-1, 4]  1         0  ultralytics.nn.modules.conv.Concat           [1]                           \n",
      " 15                  -1  1    148224  ultralytics.nn.modules.block.C2f             [384, 128, 1]                 \n",
      " 16                  -1  1    147712  ultralytics.nn.modules.conv.Conv             [128, 128, 3, 2]              \n",
      " 17            [-1, 12]  1         0  ultralytics.nn.modules.conv.Concat           [1]                           \n",
      " 18                  -1  1    493056  ultralytics.nn.modules.block.C2f             [384, 256, 1]                 \n",
      " 19                  -1  1    590336  ultralytics.nn.modules.conv.Conv             [256, 256, 3, 2]              \n",
      " 20             [-1, 9]  1         0  ultralytics.nn.modules.conv.Concat           [1]                           \n",
      " 21                  -1  1   1969152  ultralytics.nn.modules.block.C2f             [768, 512, 1]                 \n",
      " 22        [15, 18, 21]  1   2773640  ultralytics.nn.modules.head.Segment          [8, 32, 128, [128, 256, 512]] \n",
      "YOLOv8s-seg summary: 261 layers, 11793192 parameters, 11793176 gradients, 42.7 GFLOPs\n",
      "\n",
      "Transferred 411/417 items from pretrained weights\n",
      "Freezing layer 'model.22.dfl.conv.weight'\n",
      "\u001b[34m\u001b[1mAMP: \u001b[0mrunning Automatic Mixed Precision (AMP) checks with YOLOv8n...\n",
      "\u001b[34m\u001b[1mAMP: \u001b[0mchecks passed \n"
     ]
    },
    {
     "name": "stderr",
     "output_type": "stream",
     "text": [
      "\u001b[34m\u001b[1mtrain: \u001b[0mScanning C:\\LocalWork\\Prj\\AutoAnnotation\\app\\Grounded-Segment-Anything\\outputs\\labels\\train.cache... 150 images, 0 backgrounds, 0 corrupt: 100%|██████████| 150/150 [00:00<?, ?it/s]\n",
      "\u001b[34m\u001b[1mval: \u001b[0mScanning C:\\LocalWork\\Prj\\AutoAnnotation\\app\\Grounded-Segment-Anything\\outputs\\labels\\val.cache... 43 images, 0 backgrounds, 0 corrupt: 100%|██████████| 43/43 [00:00<?, ?it/s]\n"
     ]
    },
    {
     "name": "stdout",
     "output_type": "stream",
     "text": [
      "Plotting labels to C:\\LocalWork\\Prj\\NobelAI\\stable-diffusion-webui\\runs\\segment\\train2\\labels.jpg... \n",
      "\u001b[34m\u001b[1moptimizer:\u001b[0m 'optimizer=auto' found, ignoring 'lr0=0.01' and 'momentum=0.937' and determining best 'optimizer', 'lr0' and 'momentum' automatically... \n",
      "\u001b[34m\u001b[1moptimizer:\u001b[0m AdamW(lr=0.000833, momentum=0.9) with parameter groups 66 weight(decay=0.0), 77 weight(decay=0.0005), 76 bias(decay=0.0)\n",
      "Image sizes 640 train, 640 val\n",
      "Using 8 dataloader workers\n",
      "Logging results to \u001b[1mC:\\LocalWork\\Prj\\NobelAI\\stable-diffusion-webui\\runs\\segment\\train2\u001b[0m\n",
      "Starting training for 30 epochs...\n",
      "\n",
      "      Epoch    GPU_mem   box_loss   seg_loss   cls_loss   dfl_loss  Instances       Size\n"
     ]
    },
    {
     "name": "stderr",
     "output_type": "stream",
     "text": [
      "       1/30      5.13G     0.9881      2.852      5.981      1.269         74        640: 100%|██████████| 10/10 [00:03<00:00,  2.66it/s]\n",
      "                 Class     Images  Instances      Box(P          R      mAP50  mAP50-95)     Mask(P          R      mAP50  mAP50-95): 100%|██████████| 2/2 [00:00<00:00,  2.78it/s]"
     ]
    },
    {
     "name": "stdout",
     "output_type": "stream",
     "text": [
      "                   all         43        232      0.228      0.228      0.178      0.166      0.207      0.233      0.174      0.159\n"
     ]
    },
    {
     "name": "stderr",
     "output_type": "stream",
     "text": [
      "\n"
     ]
    },
    {
     "name": "stdout",
     "output_type": "stream",
     "text": [
      "\n",
      "      Epoch    GPU_mem   box_loss   seg_loss   cls_loss   dfl_loss  Instances       Size\n"
     ]
    },
    {
     "name": "stderr",
     "output_type": "stream",
     "text": [
      "       2/30      5.13G     0.5942      1.301      1.712     0.9848         66        640: 100%|██████████| 10/10 [00:02<00:00,  3.39it/s]\n",
      "                 Class     Images  Instances      Box(P          R      mAP50  mAP50-95)     Mask(P          R      mAP50  mAP50-95): 100%|██████████| 2/2 [00:00<00:00,  3.01it/s]"
     ]
    },
    {
     "name": "stdout",
     "output_type": "stream",
     "text": [
      "                   all         43        232      0.552      0.583       0.54      0.497      0.552      0.583       0.54      0.485\n"
     ]
    },
    {
     "name": "stderr",
     "output_type": "stream",
     "text": [
      "\n"
     ]
    },
    {
     "name": "stdout",
     "output_type": "stream",
     "text": [
      "\n",
      "      Epoch    GPU_mem   box_loss   seg_loss   cls_loss   dfl_loss  Instances       Size\n"
     ]
    },
    {
     "name": "stderr",
     "output_type": "stream",
     "text": [
      "       3/30      5.04G     0.5231     0.9951      1.448     0.9421         56        640: 100%|██████████| 10/10 [00:02<00:00,  3.88it/s]\n",
      "                 Class     Images  Instances      Box(P          R      mAP50  mAP50-95)     Mask(P          R      mAP50  mAP50-95): 100%|██████████| 2/2 [00:00<00:00,  2.93it/s]\n"
     ]
    },
    {
     "name": "stdout",
     "output_type": "stream",
     "text": [
      "                   all         43        232      0.638      0.588      0.528      0.472      0.638      0.588      0.527      0.466\n",
      "\n",
      "      Epoch    GPU_mem   box_loss   seg_loss   cls_loss   dfl_loss  Instances       Size\n"
     ]
    },
    {
     "name": "stderr",
     "output_type": "stream",
     "text": [
      "       4/30      5.13G     0.5251     0.8786      1.253     0.9366         74        640: 100%|██████████| 10/10 [00:02<00:00,  3.90it/s]\n",
      "                 Class     Images  Instances      Box(P          R      mAP50  mAP50-95)     Mask(P          R      mAP50  mAP50-95): 100%|██████████| 2/2 [00:00<00:00,  3.40it/s]"
     ]
    },
    {
     "name": "stdout",
     "output_type": "stream",
     "text": [
      "                   all         43        232      0.682      0.418      0.459       0.41      0.682      0.418      0.459      0.413\n"
     ]
    },
    {
     "name": "stderr",
     "output_type": "stream",
     "text": [
      "\n"
     ]
    },
    {
     "name": "stdout",
     "output_type": "stream",
     "text": [
      "\n",
      "      Epoch    GPU_mem   box_loss   seg_loss   cls_loss   dfl_loss  Instances       Size\n"
     ]
    },
    {
     "name": "stderr",
     "output_type": "stream",
     "text": [
      "       5/30      5.14G      0.521     0.8321      1.119     0.9299         77        640: 100%|██████████| 10/10 [00:02<00:00,  3.70it/s]\n",
      "                 Class     Images  Instances      Box(P          R      mAP50  mAP50-95)     Mask(P          R      mAP50  mAP50-95): 100%|██████████| 2/2 [00:00<00:00,  3.59it/s]"
     ]
    },
    {
     "name": "stdout",
     "output_type": "stream",
     "text": [
      "                   all         43        232      0.506       0.56      0.532      0.477      0.503      0.558       0.53      0.453\n"
     ]
    },
    {
     "name": "stderr",
     "output_type": "stream",
     "text": [
      "\n"
     ]
    },
    {
     "name": "stdout",
     "output_type": "stream",
     "text": [
      "\n",
      "      Epoch    GPU_mem   box_loss   seg_loss   cls_loss   dfl_loss  Instances       Size\n"
     ]
    },
    {
     "name": "stderr",
     "output_type": "stream",
     "text": [
      "       6/30      5.16G     0.5479     0.8333      1.036     0.9338         44        640: 100%|██████████| 10/10 [00:02<00:00,  3.96it/s]\n",
      "                 Class     Images  Instances      Box(P          R      mAP50  mAP50-95)     Mask(P          R      mAP50  mAP50-95): 100%|██████████| 2/2 [00:00<00:00,  4.17it/s]"
     ]
    },
    {
     "name": "stdout",
     "output_type": "stream",
     "text": [
      "                   all         43        232      0.763      0.508      0.537      0.468      0.763      0.508      0.537      0.452\n"
     ]
    },
    {
     "name": "stderr",
     "output_type": "stream",
     "text": [
      "\n"
     ]
    },
    {
     "name": "stdout",
     "output_type": "stream",
     "text": [
      "\n",
      "      Epoch    GPU_mem   box_loss   seg_loss   cls_loss   dfl_loss  Instances       Size\n"
     ]
    },
    {
     "name": "stderr",
     "output_type": "stream",
     "text": [
      "       7/30      4.93G      0.518     0.7739     0.9507     0.9193         64        640: 100%|██████████| 10/10 [00:02<00:00,  4.04it/s]\n",
      "                 Class     Images  Instances      Box(P          R      mAP50  mAP50-95)     Mask(P          R      mAP50  mAP50-95): 100%|██████████| 2/2 [00:00<00:00,  4.12it/s]"
     ]
    },
    {
     "name": "stdout",
     "output_type": "stream",
     "text": [
      "                   all         43        232      0.581      0.596      0.545       0.47      0.584      0.598      0.545      0.473\n"
     ]
    },
    {
     "name": "stderr",
     "output_type": "stream",
     "text": [
      "\n"
     ]
    },
    {
     "name": "stdout",
     "output_type": "stream",
     "text": [
      "\n",
      "      Epoch    GPU_mem   box_loss   seg_loss   cls_loss   dfl_loss  Instances       Size\n"
     ]
    },
    {
     "name": "stderr",
     "output_type": "stream",
     "text": [
      "       8/30      5.06G     0.5412     0.8251     0.9606     0.9408         36        640: 100%|██████████| 10/10 [00:02<00:00,  3.94it/s]\n",
      "                 Class     Images  Instances      Box(P          R      mAP50  mAP50-95)     Mask(P          R      mAP50  mAP50-95): 100%|██████████| 2/2 [00:00<00:00,  4.24it/s]"
     ]
    },
    {
     "name": "stdout",
     "output_type": "stream",
     "text": [
      "                   all         43        232      0.659      0.512      0.554      0.491      0.659      0.512      0.555      0.479\n"
     ]
    },
    {
     "name": "stderr",
     "output_type": "stream",
     "text": [
      "\n"
     ]
    },
    {
     "name": "stdout",
     "output_type": "stream",
     "text": [
      "\n",
      "      Epoch    GPU_mem   box_loss   seg_loss   cls_loss   dfl_loss  Instances       Size\n"
     ]
    },
    {
     "name": "stderr",
     "output_type": "stream",
     "text": [
      "       9/30       5.1G     0.5285     0.7057     0.9089     0.9224         70        640: 100%|██████████| 10/10 [00:02<00:00,  4.07it/s]\n",
      "                 Class     Images  Instances      Box(P          R      mAP50  mAP50-95)     Mask(P          R      mAP50  mAP50-95): 100%|██████████| 2/2 [00:00<00:00,  3.96it/s]"
     ]
    },
    {
     "name": "stdout",
     "output_type": "stream",
     "text": [
      "                   all         43        232      0.527      0.605      0.561      0.489      0.531      0.587      0.562      0.477\n"
     ]
    },
    {
     "name": "stderr",
     "output_type": "stream",
     "text": [
      "\n"
     ]
    },
    {
     "name": "stdout",
     "output_type": "stream",
     "text": [
      "\n",
      "      Epoch    GPU_mem   box_loss   seg_loss   cls_loss   dfl_loss  Instances       Size\n"
     ]
    },
    {
     "name": "stderr",
     "output_type": "stream",
     "text": [
      "      10/30      5.14G     0.5293     0.7204     0.8502     0.9289         73        640: 100%|██████████| 10/10 [00:02<00:00,  3.94it/s]\n",
      "                 Class     Images  Instances      Box(P          R      mAP50  mAP50-95)     Mask(P          R      mAP50  mAP50-95): 100%|██████████| 2/2 [00:00<00:00,  4.36it/s]"
     ]
    },
    {
     "name": "stdout",
     "output_type": "stream",
     "text": [
      "                   all         43        232      0.591      0.515      0.514      0.458      0.591      0.515      0.517      0.432\n"
     ]
    },
    {
     "name": "stderr",
     "output_type": "stream",
     "text": [
      "\n"
     ]
    },
    {
     "name": "stdout",
     "output_type": "stream",
     "text": [
      "\n",
      "      Epoch    GPU_mem   box_loss   seg_loss   cls_loss   dfl_loss  Instances       Size\n"
     ]
    },
    {
     "name": "stderr",
     "output_type": "stream",
     "text": [
      "      11/30      5.09G      0.502     0.6832     0.8351     0.9255         55        640: 100%|██████████| 10/10 [00:02<00:00,  3.98it/s]\n",
      "                 Class     Images  Instances      Box(P          R      mAP50  mAP50-95)     Mask(P          R      mAP50  mAP50-95): 100%|██████████| 2/2 [00:00<00:00,  4.20it/s]"
     ]
    },
    {
     "name": "stdout",
     "output_type": "stream",
     "text": [
      "                   all         43        232      0.667      0.488      0.529      0.472      0.667      0.488      0.532      0.465\n"
     ]
    },
    {
     "name": "stderr",
     "output_type": "stream",
     "text": [
      "\n"
     ]
    },
    {
     "name": "stdout",
     "output_type": "stream",
     "text": [
      "\n",
      "      Epoch    GPU_mem   box_loss   seg_loss   cls_loss   dfl_loss  Instances       Size\n"
     ]
    },
    {
     "name": "stderr",
     "output_type": "stream",
     "text": [
      "      12/30      5.09G      0.491     0.6621      0.772     0.9062         61        640: 100%|██████████| 10/10 [00:02<00:00,  3.84it/s]\n",
      "                 Class     Images  Instances      Box(P          R      mAP50  mAP50-95)     Mask(P          R      mAP50  mAP50-95): 100%|██████████| 2/2 [00:00<00:00,  4.34it/s]"
     ]
    },
    {
     "name": "stdout",
     "output_type": "stream",
     "text": [
      "                   all         43        232      0.614      0.523      0.595      0.541      0.614      0.523      0.595      0.525\n"
     ]
    },
    {
     "name": "stderr",
     "output_type": "stream",
     "text": [
      "\n"
     ]
    },
    {
     "name": "stdout",
     "output_type": "stream",
     "text": [
      "\n",
      "      Epoch    GPU_mem   box_loss   seg_loss   cls_loss   dfl_loss  Instances       Size\n"
     ]
    },
    {
     "name": "stderr",
     "output_type": "stream",
     "text": [
      "      13/30      5.05G     0.4852      0.665     0.8085      0.904         55        640: 100%|██████████| 10/10 [00:02<00:00,  3.92it/s]\n",
      "                 Class     Images  Instances      Box(P          R      mAP50  mAP50-95)     Mask(P          R      mAP50  mAP50-95): 100%|██████████| 2/2 [00:00<00:00,  4.05it/s]"
     ]
    },
    {
     "name": "stdout",
     "output_type": "stream",
     "text": [
      "                   all         43        232      0.717      0.562      0.596      0.532      0.717      0.562      0.597      0.517\n"
     ]
    },
    {
     "name": "stderr",
     "output_type": "stream",
     "text": [
      "\n"
     ]
    },
    {
     "name": "stdout",
     "output_type": "stream",
     "text": [
      "\n",
      "      Epoch    GPU_mem   box_loss   seg_loss   cls_loss   dfl_loss  Instances       Size\n"
     ]
    },
    {
     "name": "stderr",
     "output_type": "stream",
     "text": [
      "      14/30      5.11G     0.4921     0.6861     0.7491     0.9092         82        640: 100%|██████████| 10/10 [00:02<00:00,  3.84it/s]\n",
      "                 Class     Images  Instances      Box(P          R      mAP50  mAP50-95)     Mask(P          R      mAP50  mAP50-95): 100%|██████████| 2/2 [00:00<00:00,  4.19it/s]"
     ]
    },
    {
     "name": "stdout",
     "output_type": "stream",
     "text": [
      "                   all         43        232      0.643      0.575      0.579      0.517      0.643      0.575       0.58      0.514\n"
     ]
    },
    {
     "name": "stderr",
     "output_type": "stream",
     "text": [
      "\n"
     ]
    },
    {
     "name": "stdout",
     "output_type": "stream",
     "text": [
      "\n",
      "      Epoch    GPU_mem   box_loss   seg_loss   cls_loss   dfl_loss  Instances       Size\n"
     ]
    },
    {
     "name": "stderr",
     "output_type": "stream",
     "text": [
      "      15/30      5.06G     0.4574     0.6155     0.7122     0.9017         54        640: 100%|██████████| 10/10 [00:02<00:00,  3.86it/s]\n",
      "                 Class     Images  Instances      Box(P          R      mAP50  mAP50-95)     Mask(P          R      mAP50  mAP50-95): 100%|██████████| 2/2 [00:00<00:00,  4.24it/s]"
     ]
    },
    {
     "name": "stdout",
     "output_type": "stream",
     "text": [
      "                   all         43        232      0.591      0.599      0.574      0.518      0.587      0.596       0.57      0.492\n"
     ]
    },
    {
     "name": "stderr",
     "output_type": "stream",
     "text": [
      "\n"
     ]
    },
    {
     "name": "stdout",
     "output_type": "stream",
     "text": [
      "\n",
      "      Epoch    GPU_mem   box_loss   seg_loss   cls_loss   dfl_loss  Instances       Size\n"
     ]
    },
    {
     "name": "stderr",
     "output_type": "stream",
     "text": [
      "      16/30      5.03G     0.4581     0.6267     0.6906     0.9126         51        640: 100%|██████████| 10/10 [00:02<00:00,  3.80it/s]\n",
      "                 Class     Images  Instances      Box(P          R      mAP50  mAP50-95)     Mask(P          R      mAP50  mAP50-95): 100%|██████████| 2/2 [00:00<00:00,  4.48it/s]"
     ]
    },
    {
     "name": "stdout",
     "output_type": "stream",
     "text": [
      "                   all         43        232      0.614      0.573      0.574      0.519      0.614      0.573      0.575       0.51\n"
     ]
    },
    {
     "name": "stderr",
     "output_type": "stream",
     "text": [
      "\n"
     ]
    },
    {
     "name": "stdout",
     "output_type": "stream",
     "text": [
      "\n",
      "      Epoch    GPU_mem   box_loss   seg_loss   cls_loss   dfl_loss  Instances       Size\n"
     ]
    },
    {
     "name": "stderr",
     "output_type": "stream",
     "text": [
      "      17/30      5.17G     0.4578     0.6239      0.713      0.904         56        640: 100%|██████████| 10/10 [00:02<00:00,  3.86it/s]\n",
      "                 Class     Images  Instances      Box(P          R      mAP50  mAP50-95)     Mask(P          R      mAP50  mAP50-95): 100%|██████████| 2/2 [00:00<00:00,  3.96it/s]"
     ]
    },
    {
     "name": "stdout",
     "output_type": "stream",
     "text": [
      "                   all         43        232       0.65      0.528      0.579      0.532       0.65      0.528      0.577      0.505\n"
     ]
    },
    {
     "name": "stderr",
     "output_type": "stream",
     "text": [
      "\n"
     ]
    },
    {
     "name": "stdout",
     "output_type": "stream",
     "text": [
      "\n",
      "      Epoch    GPU_mem   box_loss   seg_loss   cls_loss   dfl_loss  Instances       Size\n"
     ]
    },
    {
     "name": "stderr",
     "output_type": "stream",
     "text": [
      "      18/30      5.14G     0.4384     0.6312     0.6721     0.8977         60        640: 100%|██████████| 10/10 [00:02<00:00,  3.76it/s]\n",
      "                 Class     Images  Instances      Box(P          R      mAP50  mAP50-95)     Mask(P          R      mAP50  mAP50-95): 100%|██████████| 2/2 [00:00<00:00,  4.42it/s]"
     ]
    },
    {
     "name": "stdout",
     "output_type": "stream",
     "text": [
      "                   all         43        232      0.616      0.565       0.59      0.548      0.616      0.565       0.59      0.521\n"
     ]
    },
    {
     "name": "stderr",
     "output_type": "stream",
     "text": [
      "\n"
     ]
    },
    {
     "name": "stdout",
     "output_type": "stream",
     "text": [
      "\n",
      "      Epoch    GPU_mem   box_loss   seg_loss   cls_loss   dfl_loss  Instances       Size\n"
     ]
    },
    {
     "name": "stderr",
     "output_type": "stream",
     "text": [
      "      19/30      5.11G     0.4158     0.5659      0.624     0.8899         74        640: 100%|██████████| 10/10 [00:02<00:00,  3.72it/s]\n",
      "                 Class     Images  Instances      Box(P          R      mAP50  mAP50-95)     Mask(P          R      mAP50  mAP50-95): 100%|██████████| 2/2 [00:00<00:00,  4.40it/s]"
     ]
    },
    {
     "name": "stdout",
     "output_type": "stream",
     "text": [
      "                   all         43        232      0.603      0.654      0.615      0.577      0.603      0.654      0.615      0.555\n"
     ]
    },
    {
     "name": "stderr",
     "output_type": "stream",
     "text": [
      "\n"
     ]
    },
    {
     "name": "stdout",
     "output_type": "stream",
     "text": [
      "\n",
      "      Epoch    GPU_mem   box_loss   seg_loss   cls_loss   dfl_loss  Instances       Size\n"
     ]
    },
    {
     "name": "stderr",
     "output_type": "stream",
     "text": [
      "      20/30         5G     0.4331     0.6308     0.6481     0.8958         54        640: 100%|██████████| 10/10 [00:02<00:00,  3.91it/s]\n",
      "                 Class     Images  Instances      Box(P          R      mAP50  mAP50-95)     Mask(P          R      mAP50  mAP50-95): 100%|██████████| 2/2 [00:00<00:00,  3.89it/s]"
     ]
    },
    {
     "name": "stdout",
     "output_type": "stream",
     "text": [
      "                   all         43        232      0.649      0.653      0.608      0.573      0.649      0.653      0.608      0.544\n"
     ]
    },
    {
     "name": "stderr",
     "output_type": "stream",
     "text": [
      "\n"
     ]
    },
    {
     "name": "stdout",
     "output_type": "stream",
     "text": [
      "Closing dataloader mosaic\n",
      "\n",
      "      Epoch    GPU_mem   box_loss   seg_loss   cls_loss   dfl_loss  Instances       Size\n"
     ]
    },
    {
     "name": "stderr",
     "output_type": "stream",
     "text": [
      "      21/30      4.92G     0.4282     0.6018     0.7864     0.8601         27        640: 100%|██████████| 10/10 [00:03<00:00,  3.19it/s]\n",
      "                 Class     Images  Instances      Box(P          R      mAP50  mAP50-95)     Mask(P          R      mAP50  mAP50-95): 100%|██████████| 2/2 [00:00<00:00,  4.34it/s]"
     ]
    },
    {
     "name": "stdout",
     "output_type": "stream",
     "text": [
      "                   all         43        232      0.612      0.601      0.593      0.548      0.612      0.601      0.593       0.53\n"
     ]
    },
    {
     "name": "stderr",
     "output_type": "stream",
     "text": [
      "\n"
     ]
    },
    {
     "name": "stdout",
     "output_type": "stream",
     "text": [
      "\n",
      "      Epoch    GPU_mem   box_loss   seg_loss   cls_loss   dfl_loss  Instances       Size\n"
     ]
    },
    {
     "name": "stderr",
     "output_type": "stream",
     "text": [
      "      22/30      4.94G     0.4066     0.5821     0.7377     0.8703         34        640: 100%|██████████| 10/10 [00:02<00:00,  3.94it/s]\n",
      "                 Class     Images  Instances      Box(P          R      mAP50  mAP50-95)     Mask(P          R      mAP50  mAP50-95): 100%|██████████| 2/2 [00:00<00:00,  4.15it/s]"
     ]
    },
    {
     "name": "stdout",
     "output_type": "stream",
     "text": [
      "                   all         43        232      0.668      0.613      0.597      0.556      0.668      0.613      0.597      0.542\n"
     ]
    },
    {
     "name": "stderr",
     "output_type": "stream",
     "text": [
      "\n"
     ]
    },
    {
     "name": "stdout",
     "output_type": "stream",
     "text": [
      "\n",
      "      Epoch    GPU_mem   box_loss   seg_loss   cls_loss   dfl_loss  Instances       Size\n"
     ]
    },
    {
     "name": "stderr",
     "output_type": "stream",
     "text": [
      "      23/30      4.91G     0.3912     0.5135     0.5789     0.8507         34        640: 100%|██████████| 10/10 [00:02<00:00,  3.96it/s]\n",
      "                 Class     Images  Instances      Box(P          R      mAP50  mAP50-95)     Mask(P          R      mAP50  mAP50-95): 100%|██████████| 2/2 [00:00<00:00,  4.27it/s]"
     ]
    },
    {
     "name": "stdout",
     "output_type": "stream",
     "text": [
      "                   all         43        232      0.614      0.616      0.594      0.563      0.614      0.616      0.593      0.541\n"
     ]
    },
    {
     "name": "stderr",
     "output_type": "stream",
     "text": [
      "\n"
     ]
    },
    {
     "name": "stdout",
     "output_type": "stream",
     "text": [
      "\n",
      "      Epoch    GPU_mem   box_loss   seg_loss   cls_loss   dfl_loss  Instances       Size\n"
     ]
    },
    {
     "name": "stderr",
     "output_type": "stream",
     "text": [
      "      24/30      4.98G     0.3784     0.5267     0.5619     0.8462         33        640: 100%|██████████| 10/10 [00:02<00:00,  4.08it/s]\n",
      "                 Class     Images  Instances      Box(P          R      mAP50  mAP50-95)     Mask(P          R      mAP50  mAP50-95): 100%|██████████| 2/2 [00:00<00:00,  4.54it/s]"
     ]
    },
    {
     "name": "stdout",
     "output_type": "stream",
     "text": [
      "                   all         43        232      0.717      0.544       0.59      0.559      0.717      0.544      0.589      0.539\n"
     ]
    },
    {
     "name": "stderr",
     "output_type": "stream",
     "text": [
      "\n"
     ]
    },
    {
     "name": "stdout",
     "output_type": "stream",
     "text": [
      "\n",
      "      Epoch    GPU_mem   box_loss   seg_loss   cls_loss   dfl_loss  Instances       Size\n"
     ]
    },
    {
     "name": "stderr",
     "output_type": "stream",
     "text": [
      "      25/30      4.95G     0.3548     0.4746      0.551     0.8498         21        640: 100%|██████████| 10/10 [00:02<00:00,  4.06it/s]\n",
      "                 Class     Images  Instances      Box(P          R      mAP50  mAP50-95)     Mask(P          R      mAP50  mAP50-95): 100%|██████████| 2/2 [00:00<00:00,  4.19it/s]"
     ]
    },
    {
     "name": "stdout",
     "output_type": "stream",
     "text": [
      "                   all         43        232      0.803      0.525      0.611      0.572      0.803      0.525      0.609      0.561\n"
     ]
    },
    {
     "name": "stderr",
     "output_type": "stream",
     "text": [
      "\n"
     ]
    },
    {
     "name": "stdout",
     "output_type": "stream",
     "text": [
      "\n",
      "      Epoch    GPU_mem   box_loss   seg_loss   cls_loss   dfl_loss  Instances       Size\n"
     ]
    },
    {
     "name": "stderr",
     "output_type": "stream",
     "text": [
      "      26/30      4.98G     0.3636     0.5511     0.5366     0.8506         62        640: 100%|██████████| 10/10 [00:02<00:00,  4.02it/s]\n",
      "                 Class     Images  Instances      Box(P          R      mAP50  mAP50-95)     Mask(P          R      mAP50  mAP50-95): 100%|██████████| 2/2 [00:00<00:00,  4.20it/s]"
     ]
    },
    {
     "name": "stdout",
     "output_type": "stream",
     "text": [
      "                   all         43        232      0.616        0.6      0.591      0.555      0.616        0.6      0.589      0.537\n"
     ]
    },
    {
     "name": "stderr",
     "output_type": "stream",
     "text": [
      "\n"
     ]
    },
    {
     "name": "stdout",
     "output_type": "stream",
     "text": [
      "\n",
      "      Epoch    GPU_mem   box_loss   seg_loss   cls_loss   dfl_loss  Instances       Size\n"
     ]
    },
    {
     "name": "stderr",
     "output_type": "stream",
     "text": [
      "      27/30      4.96G     0.3511     0.4732      0.515     0.8469         20        640: 100%|██████████| 10/10 [00:02<00:00,  3.96it/s]\n",
      "                 Class     Images  Instances      Box(P          R      mAP50  mAP50-95)     Mask(P          R      mAP50  mAP50-95): 100%|██████████| 2/2 [00:00<00:00,  4.54it/s]"
     ]
    },
    {
     "name": "stdout",
     "output_type": "stream",
     "text": [
      "                   all         43        232      0.687      0.581      0.613      0.575      0.687      0.581      0.611      0.555\n"
     ]
    },
    {
     "name": "stderr",
     "output_type": "stream",
     "text": [
      "\n"
     ]
    },
    {
     "name": "stdout",
     "output_type": "stream",
     "text": [
      "\n",
      "      Epoch    GPU_mem   box_loss   seg_loss   cls_loss   dfl_loss  Instances       Size\n"
     ]
    },
    {
     "name": "stderr",
     "output_type": "stream",
     "text": [
      "      28/30      4.89G     0.3377     0.4489     0.4661      0.842         25        640: 100%|██████████| 10/10 [00:02<00:00,  3.99it/s]\n",
      "                 Class     Images  Instances      Box(P          R      mAP50  mAP50-95)     Mask(P          R      mAP50  mAP50-95): 100%|██████████| 2/2 [00:00<00:00,  3.89it/s]"
     ]
    },
    {
     "name": "stdout",
     "output_type": "stream",
     "text": [
      "                   all         43        232      0.685      0.602      0.621      0.589      0.685      0.602      0.619      0.566\n"
     ]
    },
    {
     "name": "stderr",
     "output_type": "stream",
     "text": [
      "\n"
     ]
    },
    {
     "name": "stdout",
     "output_type": "stream",
     "text": [
      "\n",
      "      Epoch    GPU_mem   box_loss   seg_loss   cls_loss   dfl_loss  Instances       Size\n"
     ]
    },
    {
     "name": "stderr",
     "output_type": "stream",
     "text": [
      "      29/30      4.83G     0.3288     0.4469      0.469     0.8341         25        640: 100%|██████████| 10/10 [00:02<00:00,  3.96it/s]\n",
      "                 Class     Images  Instances      Box(P          R      mAP50  mAP50-95)     Mask(P          R      mAP50  mAP50-95): 100%|██████████| 2/2 [00:00<00:00,  4.27it/s]"
     ]
    },
    {
     "name": "stdout",
     "output_type": "stream",
     "text": [
      "                   all         43        232      0.688      0.595      0.613      0.584      0.688      0.595      0.611      0.558\n"
     ]
    },
    {
     "name": "stderr",
     "output_type": "stream",
     "text": [
      "\n"
     ]
    },
    {
     "name": "stdout",
     "output_type": "stream",
     "text": [
      "\n",
      "      Epoch    GPU_mem   box_loss   seg_loss   cls_loss   dfl_loss  Instances       Size\n"
     ]
    },
    {
     "name": "stderr",
     "output_type": "stream",
     "text": [
      "      30/30      4.98G     0.3337     0.5142     0.4685     0.8396         36        640: 100%|██████████| 10/10 [00:02<00:00,  4.06it/s]\n",
      "                 Class     Images  Instances      Box(P          R      mAP50  mAP50-95)     Mask(P          R      mAP50  mAP50-95): 100%|██████████| 2/2 [00:00<00:00,  4.59it/s]"
     ]
    },
    {
     "name": "stdout",
     "output_type": "stream",
     "text": [
      "                   all         43        232      0.685      0.589      0.621      0.595      0.685      0.589       0.62      0.567\n"
     ]
    },
    {
     "name": "stderr",
     "output_type": "stream",
     "text": [
      "\n"
     ]
    },
    {
     "name": "stdout",
     "output_type": "stream",
     "text": [
      "\n",
      "30 epochs completed in 0.054 hours.\n",
      "Optimizer stripped from C:\\LocalWork\\Prj\\NobelAI\\stable-diffusion-webui\\runs\\segment\\train2\\weights\\last.pt, 23.8MB\n",
      "Optimizer stripped from C:\\LocalWork\\Prj\\NobelAI\\stable-diffusion-webui\\runs\\segment\\train2\\weights\\best.pt, 23.8MB\n",
      "\n",
      "Validating C:\\LocalWork\\Prj\\NobelAI\\stable-diffusion-webui\\runs\\segment\\train2\\weights\\best.pt...\n",
      "Ultralytics YOLOv8.2.31  Python-3.10.11 torch-2.4.0+cu124 CUDA:0 (NVIDIA GeForce RTX 2080 Ti, 11264MiB)\n",
      "YOLOv8s-seg summary (fused): 195 layers, 11782696 parameters, 0 gradients, 42.5 GFLOPs\n"
     ]
    },
    {
     "name": "stderr",
     "output_type": "stream",
     "text": [
      "                 Class     Images  Instances      Box(P          R      mAP50  mAP50-95)     Mask(P          R      mAP50  mAP50-95): 100%|██████████| 2/2 [00:00<00:00,  2.92it/s]\n"
     ]
    },
    {
     "name": "stdout",
     "output_type": "stream",
     "text": [
      "                   all         43        232      0.687       0.59      0.621      0.591      0.687       0.59      0.619      0.569\n",
      "                  road          2         15      0.258     0.0667     0.0746     0.0663      0.258     0.0667     0.0746     0.0657\n",
      "                 plate         35         38      0.906      0.816      0.916      0.849      0.906      0.816      0.916      0.785\n",
      "                   car         42         99      0.797      0.594      0.615      0.599      0.797      0.594      0.609      0.596\n",
      "            white lane         19         21      0.593      0.555      0.649      0.646      0.593      0.555      0.649      0.626\n",
      "                person         30         54      0.873      0.511       0.57      0.512      0.873      0.511      0.568      0.495\n",
      "                  sign          5          5      0.695          1      0.898      0.871      0.695          1      0.898      0.849\n",
      "Speed: 0.4ms preprocess, 3.2ms inference, 0.0ms loss, 1.4ms postprocess per image\n",
      "Results saved to \u001b[1mC:\\LocalWork\\Prj\\NobelAI\\stable-diffusion-webui\\runs\\segment\\train2\u001b[0m\n"
     ]
    },
    {
     "data": {
      "text/plain": [
       "ultralytics.utils.metrics.SegmentMetrics object with attributes:\n",
       "\n",
       "ap_class_index: array([0, 1, 2, 3, 4, 7])\n",
       "box: ultralytics.utils.metrics.Metric object\n",
       "confusion_matrix: <ultralytics.utils.metrics.ConfusionMatrix object at 0x0000029D96C6C100>\n",
       "curves: ['Precision-Recall(B)', 'F1-Confidence(B)', 'Precision-Confidence(B)', 'Recall-Confidence(B)', 'Precision-Recall(M)', 'F1-Confidence(M)', 'Precision-Confidence(M)', 'Recall-Confidence(M)']\n",
       "curves_results: [[array([          0,    0.001001,    0.002002,    0.003003,    0.004004,    0.005005,    0.006006,    0.007007,    0.008008,    0.009009,     0.01001,    0.011011,    0.012012,    0.013013,    0.014014,    0.015015,    0.016016,    0.017017,    0.018018,    0.019019,     0.02002,    0.021021,    0.022022,    0.023023,\n",
       "          0.024024,    0.025025,    0.026026,    0.027027,    0.028028,    0.029029,     0.03003,    0.031031,    0.032032,    0.033033,    0.034034,    0.035035,    0.036036,    0.037037,    0.038038,    0.039039,     0.04004,    0.041041,    0.042042,    0.043043,    0.044044,    0.045045,    0.046046,    0.047047,\n",
       "          0.048048,    0.049049,     0.05005,    0.051051,    0.052052,    0.053053,    0.054054,    0.055055,    0.056056,    0.057057,    0.058058,    0.059059,     0.06006,    0.061061,    0.062062,    0.063063,    0.064064,    0.065065,    0.066066,    0.067067,    0.068068,    0.069069,     0.07007,    0.071071,\n",
       "          0.072072,    0.073073,    0.074074,    0.075075,    0.076076,    0.077077,    0.078078,    0.079079,     0.08008,    0.081081,    0.082082,    0.083083,    0.084084,    0.085085,    0.086086,    0.087087,    0.088088,    0.089089,     0.09009,    0.091091,    0.092092,    0.093093,    0.094094,    0.095095,\n",
       "          0.096096,    0.097097,    0.098098,    0.099099,      0.1001,      0.1011,      0.1021,      0.1031,      0.1041,     0.10511,     0.10611,     0.10711,     0.10811,     0.10911,     0.11011,     0.11111,     0.11211,     0.11311,     0.11411,     0.11512,     0.11612,     0.11712,     0.11812,     0.11912,\n",
       "           0.12012,     0.12112,     0.12212,     0.12312,     0.12412,     0.12513,     0.12613,     0.12713,     0.12813,     0.12913,     0.13013,     0.13113,     0.13213,     0.13313,     0.13413,     0.13514,     0.13614,     0.13714,     0.13814,     0.13914,     0.14014,     0.14114,     0.14214,     0.14314,\n",
       "           0.14414,     0.14515,     0.14615,     0.14715,     0.14815,     0.14915,     0.15015,     0.15115,     0.15215,     0.15315,     0.15415,     0.15516,     0.15616,     0.15716,     0.15816,     0.15916,     0.16016,     0.16116,     0.16216,     0.16316,     0.16416,     0.16517,     0.16617,     0.16717,\n",
       "           0.16817,     0.16917,     0.17017,     0.17117,     0.17217,     0.17317,     0.17417,     0.17518,     0.17618,     0.17718,     0.17818,     0.17918,     0.18018,     0.18118,     0.18218,     0.18318,     0.18418,     0.18519,     0.18619,     0.18719,     0.18819,     0.18919,     0.19019,     0.19119,\n",
       "           0.19219,     0.19319,     0.19419,      0.1952,      0.1962,      0.1972,      0.1982,      0.1992,      0.2002,      0.2012,      0.2022,      0.2032,      0.2042,     0.20521,     0.20621,     0.20721,     0.20821,     0.20921,     0.21021,     0.21121,     0.21221,     0.21321,     0.21421,     0.21522,\n",
       "           0.21622,     0.21722,     0.21822,     0.21922,     0.22022,     0.22122,     0.22222,     0.22322,     0.22422,     0.22523,     0.22623,     0.22723,     0.22823,     0.22923,     0.23023,     0.23123,     0.23223,     0.23323,     0.23423,     0.23524,     0.23624,     0.23724,     0.23824,     0.23924,\n",
       "           0.24024,     0.24124,     0.24224,     0.24324,     0.24424,     0.24525,     0.24625,     0.24725,     0.24825,     0.24925,     0.25025,     0.25125,     0.25225,     0.25325,     0.25425,     0.25526,     0.25626,     0.25726,     0.25826,     0.25926,     0.26026,     0.26126,     0.26226,     0.26326,\n",
       "           0.26426,     0.26527,     0.26627,     0.26727,     0.26827,     0.26927,     0.27027,     0.27127,     0.27227,     0.27327,     0.27427,     0.27528,     0.27628,     0.27728,     0.27828,     0.27928,     0.28028,     0.28128,     0.28228,     0.28328,     0.28428,     0.28529,     0.28629,     0.28729,\n",
       "           0.28829,     0.28929,     0.29029,     0.29129,     0.29229,     0.29329,     0.29429,      0.2953,      0.2963,      0.2973,      0.2983,      0.2993,      0.3003,      0.3013,      0.3023,      0.3033,      0.3043,     0.30531,     0.30631,     0.30731,     0.30831,     0.30931,     0.31031,     0.31131,\n",
       "           0.31231,     0.31331,     0.31431,     0.31532,     0.31632,     0.31732,     0.31832,     0.31932,     0.32032,     0.32132,     0.32232,     0.32332,     0.32432,     0.32533,     0.32633,     0.32733,     0.32833,     0.32933,     0.33033,     0.33133,     0.33233,     0.33333,     0.33433,     0.33534,\n",
       "           0.33634,     0.33734,     0.33834,     0.33934,     0.34034,     0.34134,     0.34234,     0.34334,     0.34434,     0.34535,     0.34635,     0.34735,     0.34835,     0.34935,     0.35035,     0.35135,     0.35235,     0.35335,     0.35435,     0.35536,     0.35636,     0.35736,     0.35836,     0.35936,\n",
       "           0.36036,     0.36136,     0.36236,     0.36336,     0.36436,     0.36537,     0.36637,     0.36737,     0.36837,     0.36937,     0.37037,     0.37137,     0.37237,     0.37337,     0.37437,     0.37538,     0.37638,     0.37738,     0.37838,     0.37938,     0.38038,     0.38138,     0.38238,     0.38338,\n",
       "           0.38438,     0.38539,     0.38639,     0.38739,     0.38839,     0.38939,     0.39039,     0.39139,     0.39239,     0.39339,     0.39439,      0.3954,      0.3964,      0.3974,      0.3984,      0.3994,      0.4004,      0.4014,      0.4024,      0.4034,      0.4044,     0.40541,     0.40641,     0.40741,\n",
       "           0.40841,     0.40941,     0.41041,     0.41141,     0.41241,     0.41341,     0.41441,     0.41542,     0.41642,     0.41742,     0.41842,     0.41942,     0.42042,     0.42142,     0.42242,     0.42342,     0.42442,     0.42543,     0.42643,     0.42743,     0.42843,     0.42943,     0.43043,     0.43143,\n",
       "           0.43243,     0.43343,     0.43443,     0.43544,     0.43644,     0.43744,     0.43844,     0.43944,     0.44044,     0.44144,     0.44244,     0.44344,     0.44444,     0.44545,     0.44645,     0.44745,     0.44845,     0.44945,     0.45045,     0.45145,     0.45245,     0.45345,     0.45445,     0.45546,\n",
       "           0.45646,     0.45746,     0.45846,     0.45946,     0.46046,     0.46146,     0.46246,     0.46346,     0.46446,     0.46547,     0.46647,     0.46747,     0.46847,     0.46947,     0.47047,     0.47147,     0.47247,     0.47347,     0.47447,     0.47548,     0.47648,     0.47748,     0.47848,     0.47948,\n",
       "           0.48048,     0.48148,     0.48248,     0.48348,     0.48448,     0.48549,     0.48649,     0.48749,     0.48849,     0.48949,     0.49049,     0.49149,     0.49249,     0.49349,     0.49449,      0.4955,      0.4965,      0.4975,      0.4985,      0.4995,      0.5005,      0.5015,      0.5025,      0.5035,\n",
       "            0.5045,     0.50551,     0.50651,     0.50751,     0.50851,     0.50951,     0.51051,     0.51151,     0.51251,     0.51351,     0.51451,     0.51552,     0.51652,     0.51752,     0.51852,     0.51952,     0.52052,     0.52152,     0.52252,     0.52352,     0.52452,     0.52553,     0.52653,     0.52753,\n",
       "           0.52853,     0.52953,     0.53053,     0.53153,     0.53253,     0.53353,     0.53453,     0.53554,     0.53654,     0.53754,     0.53854,     0.53954,     0.54054,     0.54154,     0.54254,     0.54354,     0.54454,     0.54555,     0.54655,     0.54755,     0.54855,     0.54955,     0.55055,     0.55155,\n",
       "           0.55255,     0.55355,     0.55455,     0.55556,     0.55656,     0.55756,     0.55856,     0.55956,     0.56056,     0.56156,     0.56256,     0.56356,     0.56456,     0.56557,     0.56657,     0.56757,     0.56857,     0.56957,     0.57057,     0.57157,     0.57257,     0.57357,     0.57457,     0.57558,\n",
       "           0.57658,     0.57758,     0.57858,     0.57958,     0.58058,     0.58158,     0.58258,     0.58358,     0.58458,     0.58559,     0.58659,     0.58759,     0.58859,     0.58959,     0.59059,     0.59159,     0.59259,     0.59359,     0.59459,      0.5956,      0.5966,      0.5976,      0.5986,      0.5996,\n",
       "            0.6006,      0.6016,      0.6026,      0.6036,      0.6046,     0.60561,     0.60661,     0.60761,     0.60861,     0.60961,     0.61061,     0.61161,     0.61261,     0.61361,     0.61461,     0.61562,     0.61662,     0.61762,     0.61862,     0.61962,     0.62062,     0.62162,     0.62262,     0.62362,\n",
       "           0.62462,     0.62563,     0.62663,     0.62763,     0.62863,     0.62963,     0.63063,     0.63163,     0.63263,     0.63363,     0.63463,     0.63564,     0.63664,     0.63764,     0.63864,     0.63964,     0.64064,     0.64164,     0.64264,     0.64364,     0.64464,     0.64565,     0.64665,     0.64765,\n",
       "           0.64865,     0.64965,     0.65065,     0.65165,     0.65265,     0.65365,     0.65465,     0.65566,     0.65666,     0.65766,     0.65866,     0.65966,     0.66066,     0.66166,     0.66266,     0.66366,     0.66466,     0.66567,     0.66667,     0.66767,     0.66867,     0.66967,     0.67067,     0.67167,\n",
       "           0.67267,     0.67367,     0.67467,     0.67568,     0.67668,     0.67768,     0.67868,     0.67968,     0.68068,     0.68168,     0.68268,     0.68368,     0.68468,     0.68569,     0.68669,     0.68769,     0.68869,     0.68969,     0.69069,     0.69169,     0.69269,     0.69369,     0.69469,      0.6957,\n",
       "            0.6967,      0.6977,      0.6987,      0.6997,      0.7007,      0.7017,      0.7027,      0.7037,      0.7047,     0.70571,     0.70671,     0.70771,     0.70871,     0.70971,     0.71071,     0.71171,     0.71271,     0.71371,     0.71471,     0.71572,     0.71672,     0.71772,     0.71872,     0.71972,\n",
       "           0.72072,     0.72172,     0.72272,     0.72372,     0.72472,     0.72573,     0.72673,     0.72773,     0.72873,     0.72973,     0.73073,     0.73173,     0.73273,     0.73373,     0.73473,     0.73574,     0.73674,     0.73774,     0.73874,     0.73974,     0.74074,     0.74174,     0.74274,     0.74374,\n",
       "           0.74474,     0.74575,     0.74675,     0.74775,     0.74875,     0.74975,     0.75075,     0.75175,     0.75275,     0.75375,     0.75475,     0.75576,     0.75676,     0.75776,     0.75876,     0.75976,     0.76076,     0.76176,     0.76276,     0.76376,     0.76476,     0.76577,     0.76677,     0.76777,\n",
       "           0.76877,     0.76977,     0.77077,     0.77177,     0.77277,     0.77377,     0.77477,     0.77578,     0.77678,     0.77778,     0.77878,     0.77978,     0.78078,     0.78178,     0.78278,     0.78378,     0.78478,     0.78579,     0.78679,     0.78779,     0.78879,     0.78979,     0.79079,     0.79179,\n",
       "           0.79279,     0.79379,     0.79479,      0.7958,      0.7968,      0.7978,      0.7988,      0.7998,      0.8008,      0.8018,      0.8028,      0.8038,      0.8048,     0.80581,     0.80681,     0.80781,     0.80881,     0.80981,     0.81081,     0.81181,     0.81281,     0.81381,     0.81481,     0.81582,\n",
       "           0.81682,     0.81782,     0.81882,     0.81982,     0.82082,     0.82182,     0.82282,     0.82382,     0.82482,     0.82583,     0.82683,     0.82783,     0.82883,     0.82983,     0.83083,     0.83183,     0.83283,     0.83383,     0.83483,     0.83584,     0.83684,     0.83784,     0.83884,     0.83984,\n",
       "           0.84084,     0.84184,     0.84284,     0.84384,     0.84484,     0.84585,     0.84685,     0.84785,     0.84885,     0.84985,     0.85085,     0.85185,     0.85285,     0.85385,     0.85485,     0.85586,     0.85686,     0.85786,     0.85886,     0.85986,     0.86086,     0.86186,     0.86286,     0.86386,\n",
       "           0.86486,     0.86587,     0.86687,     0.86787,     0.86887,     0.86987,     0.87087,     0.87187,     0.87287,     0.87387,     0.87487,     0.87588,     0.87688,     0.87788,     0.87888,     0.87988,     0.88088,     0.88188,     0.88288,     0.88388,     0.88488,     0.88589,     0.88689,     0.88789,\n",
       "           0.88889,     0.88989,     0.89089,     0.89189,     0.89289,     0.89389,     0.89489,      0.8959,      0.8969,      0.8979,      0.8989,      0.8999,      0.9009,      0.9019,      0.9029,      0.9039,      0.9049,     0.90591,     0.90691,     0.90791,     0.90891,     0.90991,     0.91091,     0.91191,\n",
       "           0.91291,     0.91391,     0.91491,     0.91592,     0.91692,     0.91792,     0.91892,     0.91992,     0.92092,     0.92192,     0.92292,     0.92392,     0.92492,     0.92593,     0.92693,     0.92793,     0.92893,     0.92993,     0.93093,     0.93193,     0.93293,     0.93393,     0.93493,     0.93594,\n",
       "           0.93694,     0.93794,     0.93894,     0.93994,     0.94094,     0.94194,     0.94294,     0.94394,     0.94494,     0.94595,     0.94695,     0.94795,     0.94895,     0.94995,     0.95095,     0.95195,     0.95295,     0.95395,     0.95495,     0.95596,     0.95696,     0.95796,     0.95896,     0.95996,\n",
       "           0.96096,     0.96196,     0.96296,     0.96396,     0.96496,     0.96597,     0.96697,     0.96797,     0.96897,     0.96997,     0.97097,     0.97197,     0.97297,     0.97397,     0.97497,     0.97598,     0.97698,     0.97798,     0.97898,     0.97998,     0.98098,     0.98198,     0.98298,     0.98398,\n",
       "           0.98498,     0.98599,     0.98699,     0.98799,     0.98899,     0.98999,     0.99099,     0.99199,     0.99299,     0.99399,     0.99499,       0.996,       0.997,       0.998,       0.999,           1]), array([[          1,           1,           1, ...,  4.7678e-06,  2.3839e-06,           0],\n",
       "       [          1,           1,           1, ...,   0.0053701,    0.002685,           0],\n",
       "       [          1,           1,           1, ...,  0.00073432,  0.00036716,           0],\n",
       "       [          1,           1,           1, ...,  0.00098617,  0.00049309,           0],\n",
       "       [          1,           1,           1, ...,  0.00057794,  0.00028897,           0],\n",
       "       [          1,           1,           1, ...,     0.71429,     0.71429,           0]]), 'Recall', 'Precision'], [array([          0,    0.001001,    0.002002,    0.003003,    0.004004,    0.005005,    0.006006,    0.007007,    0.008008,    0.009009,     0.01001,    0.011011,    0.012012,    0.013013,    0.014014,    0.015015,    0.016016,    0.017017,    0.018018,    0.019019,     0.02002,    0.021021,    0.022022,    0.023023,\n",
       "          0.024024,    0.025025,    0.026026,    0.027027,    0.028028,    0.029029,     0.03003,    0.031031,    0.032032,    0.033033,    0.034034,    0.035035,    0.036036,    0.037037,    0.038038,    0.039039,     0.04004,    0.041041,    0.042042,    0.043043,    0.044044,    0.045045,    0.046046,    0.047047,\n",
       "          0.048048,    0.049049,     0.05005,    0.051051,    0.052052,    0.053053,    0.054054,    0.055055,    0.056056,    0.057057,    0.058058,    0.059059,     0.06006,    0.061061,    0.062062,    0.063063,    0.064064,    0.065065,    0.066066,    0.067067,    0.068068,    0.069069,     0.07007,    0.071071,\n",
       "          0.072072,    0.073073,    0.074074,    0.075075,    0.076076,    0.077077,    0.078078,    0.079079,     0.08008,    0.081081,    0.082082,    0.083083,    0.084084,    0.085085,    0.086086,    0.087087,    0.088088,    0.089089,     0.09009,    0.091091,    0.092092,    0.093093,    0.094094,    0.095095,\n",
       "          0.096096,    0.097097,    0.098098,    0.099099,      0.1001,      0.1011,      0.1021,      0.1031,      0.1041,     0.10511,     0.10611,     0.10711,     0.10811,     0.10911,     0.11011,     0.11111,     0.11211,     0.11311,     0.11411,     0.11512,     0.11612,     0.11712,     0.11812,     0.11912,\n",
       "           0.12012,     0.12112,     0.12212,     0.12312,     0.12412,     0.12513,     0.12613,     0.12713,     0.12813,     0.12913,     0.13013,     0.13113,     0.13213,     0.13313,     0.13413,     0.13514,     0.13614,     0.13714,     0.13814,     0.13914,     0.14014,     0.14114,     0.14214,     0.14314,\n",
       "           0.14414,     0.14515,     0.14615,     0.14715,     0.14815,     0.14915,     0.15015,     0.15115,     0.15215,     0.15315,     0.15415,     0.15516,     0.15616,     0.15716,     0.15816,     0.15916,     0.16016,     0.16116,     0.16216,     0.16316,     0.16416,     0.16517,     0.16617,     0.16717,\n",
       "           0.16817,     0.16917,     0.17017,     0.17117,     0.17217,     0.17317,     0.17417,     0.17518,     0.17618,     0.17718,     0.17818,     0.17918,     0.18018,     0.18118,     0.18218,     0.18318,     0.18418,     0.18519,     0.18619,     0.18719,     0.18819,     0.18919,     0.19019,     0.19119,\n",
       "           0.19219,     0.19319,     0.19419,      0.1952,      0.1962,      0.1972,      0.1982,      0.1992,      0.2002,      0.2012,      0.2022,      0.2032,      0.2042,     0.20521,     0.20621,     0.20721,     0.20821,     0.20921,     0.21021,     0.21121,     0.21221,     0.21321,     0.21421,     0.21522,\n",
       "           0.21622,     0.21722,     0.21822,     0.21922,     0.22022,     0.22122,     0.22222,     0.22322,     0.22422,     0.22523,     0.22623,     0.22723,     0.22823,     0.22923,     0.23023,     0.23123,     0.23223,     0.23323,     0.23423,     0.23524,     0.23624,     0.23724,     0.23824,     0.23924,\n",
       "           0.24024,     0.24124,     0.24224,     0.24324,     0.24424,     0.24525,     0.24625,     0.24725,     0.24825,     0.24925,     0.25025,     0.25125,     0.25225,     0.25325,     0.25425,     0.25526,     0.25626,     0.25726,     0.25826,     0.25926,     0.26026,     0.26126,     0.26226,     0.26326,\n",
       "           0.26426,     0.26527,     0.26627,     0.26727,     0.26827,     0.26927,     0.27027,     0.27127,     0.27227,     0.27327,     0.27427,     0.27528,     0.27628,     0.27728,     0.27828,     0.27928,     0.28028,     0.28128,     0.28228,     0.28328,     0.28428,     0.28529,     0.28629,     0.28729,\n",
       "           0.28829,     0.28929,     0.29029,     0.29129,     0.29229,     0.29329,     0.29429,      0.2953,      0.2963,      0.2973,      0.2983,      0.2993,      0.3003,      0.3013,      0.3023,      0.3033,      0.3043,     0.30531,     0.30631,     0.30731,     0.30831,     0.30931,     0.31031,     0.31131,\n",
       "           0.31231,     0.31331,     0.31431,     0.31532,     0.31632,     0.31732,     0.31832,     0.31932,     0.32032,     0.32132,     0.32232,     0.32332,     0.32432,     0.32533,     0.32633,     0.32733,     0.32833,     0.32933,     0.33033,     0.33133,     0.33233,     0.33333,     0.33433,     0.33534,\n",
       "           0.33634,     0.33734,     0.33834,     0.33934,     0.34034,     0.34134,     0.34234,     0.34334,     0.34434,     0.34535,     0.34635,     0.34735,     0.34835,     0.34935,     0.35035,     0.35135,     0.35235,     0.35335,     0.35435,     0.35536,     0.35636,     0.35736,     0.35836,     0.35936,\n",
       "           0.36036,     0.36136,     0.36236,     0.36336,     0.36436,     0.36537,     0.36637,     0.36737,     0.36837,     0.36937,     0.37037,     0.37137,     0.37237,     0.37337,     0.37437,     0.37538,     0.37638,     0.37738,     0.37838,     0.37938,     0.38038,     0.38138,     0.38238,     0.38338,\n",
       "           0.38438,     0.38539,     0.38639,     0.38739,     0.38839,     0.38939,     0.39039,     0.39139,     0.39239,     0.39339,     0.39439,      0.3954,      0.3964,      0.3974,      0.3984,      0.3994,      0.4004,      0.4014,      0.4024,      0.4034,      0.4044,     0.40541,     0.40641,     0.40741,\n",
       "           0.40841,     0.40941,     0.41041,     0.41141,     0.41241,     0.41341,     0.41441,     0.41542,     0.41642,     0.41742,     0.41842,     0.41942,     0.42042,     0.42142,     0.42242,     0.42342,     0.42442,     0.42543,     0.42643,     0.42743,     0.42843,     0.42943,     0.43043,     0.43143,\n",
       "           0.43243,     0.43343,     0.43443,     0.43544,     0.43644,     0.43744,     0.43844,     0.43944,     0.44044,     0.44144,     0.44244,     0.44344,     0.44444,     0.44545,     0.44645,     0.44745,     0.44845,     0.44945,     0.45045,     0.45145,     0.45245,     0.45345,     0.45445,     0.45546,\n",
       "           0.45646,     0.45746,     0.45846,     0.45946,     0.46046,     0.46146,     0.46246,     0.46346,     0.46446,     0.46547,     0.46647,     0.46747,     0.46847,     0.46947,     0.47047,     0.47147,     0.47247,     0.47347,     0.47447,     0.47548,     0.47648,     0.47748,     0.47848,     0.47948,\n",
       "           0.48048,     0.48148,     0.48248,     0.48348,     0.48448,     0.48549,     0.48649,     0.48749,     0.48849,     0.48949,     0.49049,     0.49149,     0.49249,     0.49349,     0.49449,      0.4955,      0.4965,      0.4975,      0.4985,      0.4995,      0.5005,      0.5015,      0.5025,      0.5035,\n",
       "            0.5045,     0.50551,     0.50651,     0.50751,     0.50851,     0.50951,     0.51051,     0.51151,     0.51251,     0.51351,     0.51451,     0.51552,     0.51652,     0.51752,     0.51852,     0.51952,     0.52052,     0.52152,     0.52252,     0.52352,     0.52452,     0.52553,     0.52653,     0.52753,\n",
       "           0.52853,     0.52953,     0.53053,     0.53153,     0.53253,     0.53353,     0.53453,     0.53554,     0.53654,     0.53754,     0.53854,     0.53954,     0.54054,     0.54154,     0.54254,     0.54354,     0.54454,     0.54555,     0.54655,     0.54755,     0.54855,     0.54955,     0.55055,     0.55155,\n",
       "           0.55255,     0.55355,     0.55455,     0.55556,     0.55656,     0.55756,     0.55856,     0.55956,     0.56056,     0.56156,     0.56256,     0.56356,     0.56456,     0.56557,     0.56657,     0.56757,     0.56857,     0.56957,     0.57057,     0.57157,     0.57257,     0.57357,     0.57457,     0.57558,\n",
       "           0.57658,     0.57758,     0.57858,     0.57958,     0.58058,     0.58158,     0.58258,     0.58358,     0.58458,     0.58559,     0.58659,     0.58759,     0.58859,     0.58959,     0.59059,     0.59159,     0.59259,     0.59359,     0.59459,      0.5956,      0.5966,      0.5976,      0.5986,      0.5996,\n",
       "            0.6006,      0.6016,      0.6026,      0.6036,      0.6046,     0.60561,     0.60661,     0.60761,     0.60861,     0.60961,     0.61061,     0.61161,     0.61261,     0.61361,     0.61461,     0.61562,     0.61662,     0.61762,     0.61862,     0.61962,     0.62062,     0.62162,     0.62262,     0.62362,\n",
       "           0.62462,     0.62563,     0.62663,     0.62763,     0.62863,     0.62963,     0.63063,     0.63163,     0.63263,     0.63363,     0.63463,     0.63564,     0.63664,     0.63764,     0.63864,     0.63964,     0.64064,     0.64164,     0.64264,     0.64364,     0.64464,     0.64565,     0.64665,     0.64765,\n",
       "           0.64865,     0.64965,     0.65065,     0.65165,     0.65265,     0.65365,     0.65465,     0.65566,     0.65666,     0.65766,     0.65866,     0.65966,     0.66066,     0.66166,     0.66266,     0.66366,     0.66466,     0.66567,     0.66667,     0.66767,     0.66867,     0.66967,     0.67067,     0.67167,\n",
       "           0.67267,     0.67367,     0.67467,     0.67568,     0.67668,     0.67768,     0.67868,     0.67968,     0.68068,     0.68168,     0.68268,     0.68368,     0.68468,     0.68569,     0.68669,     0.68769,     0.68869,     0.68969,     0.69069,     0.69169,     0.69269,     0.69369,     0.69469,      0.6957,\n",
       "            0.6967,      0.6977,      0.6987,      0.6997,      0.7007,      0.7017,      0.7027,      0.7037,      0.7047,     0.70571,     0.70671,     0.70771,     0.70871,     0.70971,     0.71071,     0.71171,     0.71271,     0.71371,     0.71471,     0.71572,     0.71672,     0.71772,     0.71872,     0.71972,\n",
       "           0.72072,     0.72172,     0.72272,     0.72372,     0.72472,     0.72573,     0.72673,     0.72773,     0.72873,     0.72973,     0.73073,     0.73173,     0.73273,     0.73373,     0.73473,     0.73574,     0.73674,     0.73774,     0.73874,     0.73974,     0.74074,     0.74174,     0.74274,     0.74374,\n",
       "           0.74474,     0.74575,     0.74675,     0.74775,     0.74875,     0.74975,     0.75075,     0.75175,     0.75275,     0.75375,     0.75475,     0.75576,     0.75676,     0.75776,     0.75876,     0.75976,     0.76076,     0.76176,     0.76276,     0.76376,     0.76476,     0.76577,     0.76677,     0.76777,\n",
       "           0.76877,     0.76977,     0.77077,     0.77177,     0.77277,     0.77377,     0.77477,     0.77578,     0.77678,     0.77778,     0.77878,     0.77978,     0.78078,     0.78178,     0.78278,     0.78378,     0.78478,     0.78579,     0.78679,     0.78779,     0.78879,     0.78979,     0.79079,     0.79179,\n",
       "           0.79279,     0.79379,     0.79479,      0.7958,      0.7968,      0.7978,      0.7988,      0.7998,      0.8008,      0.8018,      0.8028,      0.8038,      0.8048,     0.80581,     0.80681,     0.80781,     0.80881,     0.80981,     0.81081,     0.81181,     0.81281,     0.81381,     0.81481,     0.81582,\n",
       "           0.81682,     0.81782,     0.81882,     0.81982,     0.82082,     0.82182,     0.82282,     0.82382,     0.82482,     0.82583,     0.82683,     0.82783,     0.82883,     0.82983,     0.83083,     0.83183,     0.83283,     0.83383,     0.83483,     0.83584,     0.83684,     0.83784,     0.83884,     0.83984,\n",
       "           0.84084,     0.84184,     0.84284,     0.84384,     0.84484,     0.84585,     0.84685,     0.84785,     0.84885,     0.84985,     0.85085,     0.85185,     0.85285,     0.85385,     0.85485,     0.85586,     0.85686,     0.85786,     0.85886,     0.85986,     0.86086,     0.86186,     0.86286,     0.86386,\n",
       "           0.86486,     0.86587,     0.86687,     0.86787,     0.86887,     0.86987,     0.87087,     0.87187,     0.87287,     0.87387,     0.87487,     0.87588,     0.87688,     0.87788,     0.87888,     0.87988,     0.88088,     0.88188,     0.88288,     0.88388,     0.88488,     0.88589,     0.88689,     0.88789,\n",
       "           0.88889,     0.88989,     0.89089,     0.89189,     0.89289,     0.89389,     0.89489,      0.8959,      0.8969,      0.8979,      0.8989,      0.8999,      0.9009,      0.9019,      0.9029,      0.9039,      0.9049,     0.90591,     0.90691,     0.90791,     0.90891,     0.90991,     0.91091,     0.91191,\n",
       "           0.91291,     0.91391,     0.91491,     0.91592,     0.91692,     0.91792,     0.91892,     0.91992,     0.92092,     0.92192,     0.92292,     0.92392,     0.92492,     0.92593,     0.92693,     0.92793,     0.92893,     0.92993,     0.93093,     0.93193,     0.93293,     0.93393,     0.93493,     0.93594,\n",
       "           0.93694,     0.93794,     0.93894,     0.93994,     0.94094,     0.94194,     0.94294,     0.94394,     0.94494,     0.94595,     0.94695,     0.94795,     0.94895,     0.94995,     0.95095,     0.95195,     0.95295,     0.95395,     0.95495,     0.95596,     0.95696,     0.95796,     0.95896,     0.95996,\n",
       "           0.96096,     0.96196,     0.96296,     0.96396,     0.96496,     0.96597,     0.96697,     0.96797,     0.96897,     0.96997,     0.97097,     0.97197,     0.97297,     0.97397,     0.97497,     0.97598,     0.97698,     0.97798,     0.97898,     0.97998,     0.98098,     0.98198,     0.98298,     0.98398,\n",
       "           0.98498,     0.98599,     0.98699,     0.98799,     0.98899,     0.98999,     0.99099,     0.99199,     0.99299,     0.99399,     0.99499,       0.996,       0.997,       0.998,       0.999,           1]), array([[   0.004065,    0.004065,   0.0083666, ...,           0,           0,           0],\n",
       "       [    0.24573,     0.24573,     0.35723, ...,           0,           0,           0],\n",
       "       [    0.21138,     0.21138,     0.30946, ...,           0,           0,           0],\n",
       "       [   0.089202,    0.089202,     0.16376, ...,           0,           0,           0],\n",
       "       [     0.1828,      0.1828,     0.26362, ...,           0,           0,           0],\n",
       "       [   0.075758,    0.075758,     0.14628, ...,           0,           0,           0]]), 'Confidence', 'F1'], [array([          0,    0.001001,    0.002002,    0.003003,    0.004004,    0.005005,    0.006006,    0.007007,    0.008008,    0.009009,     0.01001,    0.011011,    0.012012,    0.013013,    0.014014,    0.015015,    0.016016,    0.017017,    0.018018,    0.019019,     0.02002,    0.021021,    0.022022,    0.023023,\n",
       "          0.024024,    0.025025,    0.026026,    0.027027,    0.028028,    0.029029,     0.03003,    0.031031,    0.032032,    0.033033,    0.034034,    0.035035,    0.036036,    0.037037,    0.038038,    0.039039,     0.04004,    0.041041,    0.042042,    0.043043,    0.044044,    0.045045,    0.046046,    0.047047,\n",
       "          0.048048,    0.049049,     0.05005,    0.051051,    0.052052,    0.053053,    0.054054,    0.055055,    0.056056,    0.057057,    0.058058,    0.059059,     0.06006,    0.061061,    0.062062,    0.063063,    0.064064,    0.065065,    0.066066,    0.067067,    0.068068,    0.069069,     0.07007,    0.071071,\n",
       "          0.072072,    0.073073,    0.074074,    0.075075,    0.076076,    0.077077,    0.078078,    0.079079,     0.08008,    0.081081,    0.082082,    0.083083,    0.084084,    0.085085,    0.086086,    0.087087,    0.088088,    0.089089,     0.09009,    0.091091,    0.092092,    0.093093,    0.094094,    0.095095,\n",
       "          0.096096,    0.097097,    0.098098,    0.099099,      0.1001,      0.1011,      0.1021,      0.1031,      0.1041,     0.10511,     0.10611,     0.10711,     0.10811,     0.10911,     0.11011,     0.11111,     0.11211,     0.11311,     0.11411,     0.11512,     0.11612,     0.11712,     0.11812,     0.11912,\n",
       "           0.12012,     0.12112,     0.12212,     0.12312,     0.12412,     0.12513,     0.12613,     0.12713,     0.12813,     0.12913,     0.13013,     0.13113,     0.13213,     0.13313,     0.13413,     0.13514,     0.13614,     0.13714,     0.13814,     0.13914,     0.14014,     0.14114,     0.14214,     0.14314,\n",
       "           0.14414,     0.14515,     0.14615,     0.14715,     0.14815,     0.14915,     0.15015,     0.15115,     0.15215,     0.15315,     0.15415,     0.15516,     0.15616,     0.15716,     0.15816,     0.15916,     0.16016,     0.16116,     0.16216,     0.16316,     0.16416,     0.16517,     0.16617,     0.16717,\n",
       "           0.16817,     0.16917,     0.17017,     0.17117,     0.17217,     0.17317,     0.17417,     0.17518,     0.17618,     0.17718,     0.17818,     0.17918,     0.18018,     0.18118,     0.18218,     0.18318,     0.18418,     0.18519,     0.18619,     0.18719,     0.18819,     0.18919,     0.19019,     0.19119,\n",
       "           0.19219,     0.19319,     0.19419,      0.1952,      0.1962,      0.1972,      0.1982,      0.1992,      0.2002,      0.2012,      0.2022,      0.2032,      0.2042,     0.20521,     0.20621,     0.20721,     0.20821,     0.20921,     0.21021,     0.21121,     0.21221,     0.21321,     0.21421,     0.21522,\n",
       "           0.21622,     0.21722,     0.21822,     0.21922,     0.22022,     0.22122,     0.22222,     0.22322,     0.22422,     0.22523,     0.22623,     0.22723,     0.22823,     0.22923,     0.23023,     0.23123,     0.23223,     0.23323,     0.23423,     0.23524,     0.23624,     0.23724,     0.23824,     0.23924,\n",
       "           0.24024,     0.24124,     0.24224,     0.24324,     0.24424,     0.24525,     0.24625,     0.24725,     0.24825,     0.24925,     0.25025,     0.25125,     0.25225,     0.25325,     0.25425,     0.25526,     0.25626,     0.25726,     0.25826,     0.25926,     0.26026,     0.26126,     0.26226,     0.26326,\n",
       "           0.26426,     0.26527,     0.26627,     0.26727,     0.26827,     0.26927,     0.27027,     0.27127,     0.27227,     0.27327,     0.27427,     0.27528,     0.27628,     0.27728,     0.27828,     0.27928,     0.28028,     0.28128,     0.28228,     0.28328,     0.28428,     0.28529,     0.28629,     0.28729,\n",
       "           0.28829,     0.28929,     0.29029,     0.29129,     0.29229,     0.29329,     0.29429,      0.2953,      0.2963,      0.2973,      0.2983,      0.2993,      0.3003,      0.3013,      0.3023,      0.3033,      0.3043,     0.30531,     0.30631,     0.30731,     0.30831,     0.30931,     0.31031,     0.31131,\n",
       "           0.31231,     0.31331,     0.31431,     0.31532,     0.31632,     0.31732,     0.31832,     0.31932,     0.32032,     0.32132,     0.32232,     0.32332,     0.32432,     0.32533,     0.32633,     0.32733,     0.32833,     0.32933,     0.33033,     0.33133,     0.33233,     0.33333,     0.33433,     0.33534,\n",
       "           0.33634,     0.33734,     0.33834,     0.33934,     0.34034,     0.34134,     0.34234,     0.34334,     0.34434,     0.34535,     0.34635,     0.34735,     0.34835,     0.34935,     0.35035,     0.35135,     0.35235,     0.35335,     0.35435,     0.35536,     0.35636,     0.35736,     0.35836,     0.35936,\n",
       "           0.36036,     0.36136,     0.36236,     0.36336,     0.36436,     0.36537,     0.36637,     0.36737,     0.36837,     0.36937,     0.37037,     0.37137,     0.37237,     0.37337,     0.37437,     0.37538,     0.37638,     0.37738,     0.37838,     0.37938,     0.38038,     0.38138,     0.38238,     0.38338,\n",
       "           0.38438,     0.38539,     0.38639,     0.38739,     0.38839,     0.38939,     0.39039,     0.39139,     0.39239,     0.39339,     0.39439,      0.3954,      0.3964,      0.3974,      0.3984,      0.3994,      0.4004,      0.4014,      0.4024,      0.4034,      0.4044,     0.40541,     0.40641,     0.40741,\n",
       "           0.40841,     0.40941,     0.41041,     0.41141,     0.41241,     0.41341,     0.41441,     0.41542,     0.41642,     0.41742,     0.41842,     0.41942,     0.42042,     0.42142,     0.42242,     0.42342,     0.42442,     0.42543,     0.42643,     0.42743,     0.42843,     0.42943,     0.43043,     0.43143,\n",
       "           0.43243,     0.43343,     0.43443,     0.43544,     0.43644,     0.43744,     0.43844,     0.43944,     0.44044,     0.44144,     0.44244,     0.44344,     0.44444,     0.44545,     0.44645,     0.44745,     0.44845,     0.44945,     0.45045,     0.45145,     0.45245,     0.45345,     0.45445,     0.45546,\n",
       "           0.45646,     0.45746,     0.45846,     0.45946,     0.46046,     0.46146,     0.46246,     0.46346,     0.46446,     0.46547,     0.46647,     0.46747,     0.46847,     0.46947,     0.47047,     0.47147,     0.47247,     0.47347,     0.47447,     0.47548,     0.47648,     0.47748,     0.47848,     0.47948,\n",
       "           0.48048,     0.48148,     0.48248,     0.48348,     0.48448,     0.48549,     0.48649,     0.48749,     0.48849,     0.48949,     0.49049,     0.49149,     0.49249,     0.49349,     0.49449,      0.4955,      0.4965,      0.4975,      0.4985,      0.4995,      0.5005,      0.5015,      0.5025,      0.5035,\n",
       "            0.5045,     0.50551,     0.50651,     0.50751,     0.50851,     0.50951,     0.51051,     0.51151,     0.51251,     0.51351,     0.51451,     0.51552,     0.51652,     0.51752,     0.51852,     0.51952,     0.52052,     0.52152,     0.52252,     0.52352,     0.52452,     0.52553,     0.52653,     0.52753,\n",
       "           0.52853,     0.52953,     0.53053,     0.53153,     0.53253,     0.53353,     0.53453,     0.53554,     0.53654,     0.53754,     0.53854,     0.53954,     0.54054,     0.54154,     0.54254,     0.54354,     0.54454,     0.54555,     0.54655,     0.54755,     0.54855,     0.54955,     0.55055,     0.55155,\n",
       "           0.55255,     0.55355,     0.55455,     0.55556,     0.55656,     0.55756,     0.55856,     0.55956,     0.56056,     0.56156,     0.56256,     0.56356,     0.56456,     0.56557,     0.56657,     0.56757,     0.56857,     0.56957,     0.57057,     0.57157,     0.57257,     0.57357,     0.57457,     0.57558,\n",
       "           0.57658,     0.57758,     0.57858,     0.57958,     0.58058,     0.58158,     0.58258,     0.58358,     0.58458,     0.58559,     0.58659,     0.58759,     0.58859,     0.58959,     0.59059,     0.59159,     0.59259,     0.59359,     0.59459,      0.5956,      0.5966,      0.5976,      0.5986,      0.5996,\n",
       "            0.6006,      0.6016,      0.6026,      0.6036,      0.6046,     0.60561,     0.60661,     0.60761,     0.60861,     0.60961,     0.61061,     0.61161,     0.61261,     0.61361,     0.61461,     0.61562,     0.61662,     0.61762,     0.61862,     0.61962,     0.62062,     0.62162,     0.62262,     0.62362,\n",
       "           0.62462,     0.62563,     0.62663,     0.62763,     0.62863,     0.62963,     0.63063,     0.63163,     0.63263,     0.63363,     0.63463,     0.63564,     0.63664,     0.63764,     0.63864,     0.63964,     0.64064,     0.64164,     0.64264,     0.64364,     0.64464,     0.64565,     0.64665,     0.64765,\n",
       "           0.64865,     0.64965,     0.65065,     0.65165,     0.65265,     0.65365,     0.65465,     0.65566,     0.65666,     0.65766,     0.65866,     0.65966,     0.66066,     0.66166,     0.66266,     0.66366,     0.66466,     0.66567,     0.66667,     0.66767,     0.66867,     0.66967,     0.67067,     0.67167,\n",
       "           0.67267,     0.67367,     0.67467,     0.67568,     0.67668,     0.67768,     0.67868,     0.67968,     0.68068,     0.68168,     0.68268,     0.68368,     0.68468,     0.68569,     0.68669,     0.68769,     0.68869,     0.68969,     0.69069,     0.69169,     0.69269,     0.69369,     0.69469,      0.6957,\n",
       "            0.6967,      0.6977,      0.6987,      0.6997,      0.7007,      0.7017,      0.7027,      0.7037,      0.7047,     0.70571,     0.70671,     0.70771,     0.70871,     0.70971,     0.71071,     0.71171,     0.71271,     0.71371,     0.71471,     0.71572,     0.71672,     0.71772,     0.71872,     0.71972,\n",
       "           0.72072,     0.72172,     0.72272,     0.72372,     0.72472,     0.72573,     0.72673,     0.72773,     0.72873,     0.72973,     0.73073,     0.73173,     0.73273,     0.73373,     0.73473,     0.73574,     0.73674,     0.73774,     0.73874,     0.73974,     0.74074,     0.74174,     0.74274,     0.74374,\n",
       "           0.74474,     0.74575,     0.74675,     0.74775,     0.74875,     0.74975,     0.75075,     0.75175,     0.75275,     0.75375,     0.75475,     0.75576,     0.75676,     0.75776,     0.75876,     0.75976,     0.76076,     0.76176,     0.76276,     0.76376,     0.76476,     0.76577,     0.76677,     0.76777,\n",
       "           0.76877,     0.76977,     0.77077,     0.77177,     0.77277,     0.77377,     0.77477,     0.77578,     0.77678,     0.77778,     0.77878,     0.77978,     0.78078,     0.78178,     0.78278,     0.78378,     0.78478,     0.78579,     0.78679,     0.78779,     0.78879,     0.78979,     0.79079,     0.79179,\n",
       "           0.79279,     0.79379,     0.79479,      0.7958,      0.7968,      0.7978,      0.7988,      0.7998,      0.8008,      0.8018,      0.8028,      0.8038,      0.8048,     0.80581,     0.80681,     0.80781,     0.80881,     0.80981,     0.81081,     0.81181,     0.81281,     0.81381,     0.81481,     0.81582,\n",
       "           0.81682,     0.81782,     0.81882,     0.81982,     0.82082,     0.82182,     0.82282,     0.82382,     0.82482,     0.82583,     0.82683,     0.82783,     0.82883,     0.82983,     0.83083,     0.83183,     0.83283,     0.83383,     0.83483,     0.83584,     0.83684,     0.83784,     0.83884,     0.83984,\n",
       "           0.84084,     0.84184,     0.84284,     0.84384,     0.84484,     0.84585,     0.84685,     0.84785,     0.84885,     0.84985,     0.85085,     0.85185,     0.85285,     0.85385,     0.85485,     0.85586,     0.85686,     0.85786,     0.85886,     0.85986,     0.86086,     0.86186,     0.86286,     0.86386,\n",
       "           0.86486,     0.86587,     0.86687,     0.86787,     0.86887,     0.86987,     0.87087,     0.87187,     0.87287,     0.87387,     0.87487,     0.87588,     0.87688,     0.87788,     0.87888,     0.87988,     0.88088,     0.88188,     0.88288,     0.88388,     0.88488,     0.88589,     0.88689,     0.88789,\n",
       "           0.88889,     0.88989,     0.89089,     0.89189,     0.89289,     0.89389,     0.89489,      0.8959,      0.8969,      0.8979,      0.8989,      0.8999,      0.9009,      0.9019,      0.9029,      0.9039,      0.9049,     0.90591,     0.90691,     0.90791,     0.90891,     0.90991,     0.91091,     0.91191,\n",
       "           0.91291,     0.91391,     0.91491,     0.91592,     0.91692,     0.91792,     0.91892,     0.91992,     0.92092,     0.92192,     0.92292,     0.92392,     0.92492,     0.92593,     0.92693,     0.92793,     0.92893,     0.92993,     0.93093,     0.93193,     0.93293,     0.93393,     0.93493,     0.93594,\n",
       "           0.93694,     0.93794,     0.93894,     0.93994,     0.94094,     0.94194,     0.94294,     0.94394,     0.94494,     0.94595,     0.94695,     0.94795,     0.94895,     0.94995,     0.95095,     0.95195,     0.95295,     0.95395,     0.95495,     0.95596,     0.95696,     0.95796,     0.95896,     0.95996,\n",
       "           0.96096,     0.96196,     0.96296,     0.96396,     0.96496,     0.96597,     0.96697,     0.96797,     0.96897,     0.96997,     0.97097,     0.97197,     0.97297,     0.97397,     0.97497,     0.97598,     0.97698,     0.97798,     0.97898,     0.97998,     0.98098,     0.98198,     0.98298,     0.98398,\n",
       "           0.98498,     0.98599,     0.98699,     0.98799,     0.98899,     0.98999,     0.99099,     0.99199,     0.99299,     0.99399,     0.99499,       0.996,       0.997,       0.998,       0.999,           1]), array([[   0.002064,    0.002064,   0.0043188, ...,           1,           1,           1],\n",
       "       [    0.14118,     0.14118,     0.22012, ...,           1,           1,           1],\n",
       "       [    0.12597,     0.12597,     0.20243, ...,           1,           1,           1],\n",
       "       [   0.046914,    0.046914,    0.090028, ...,           1,           1,           1],\n",
       "       [    0.10692,     0.10692,     0.16806, ...,           1,           1,           1],\n",
       "       [    0.03937,     0.03937,    0.078913, ...,           1,           1,           1]]), 'Confidence', 'Precision'], [array([          0,    0.001001,    0.002002,    0.003003,    0.004004,    0.005005,    0.006006,    0.007007,    0.008008,    0.009009,     0.01001,    0.011011,    0.012012,    0.013013,    0.014014,    0.015015,    0.016016,    0.017017,    0.018018,    0.019019,     0.02002,    0.021021,    0.022022,    0.023023,\n",
       "          0.024024,    0.025025,    0.026026,    0.027027,    0.028028,    0.029029,     0.03003,    0.031031,    0.032032,    0.033033,    0.034034,    0.035035,    0.036036,    0.037037,    0.038038,    0.039039,     0.04004,    0.041041,    0.042042,    0.043043,    0.044044,    0.045045,    0.046046,    0.047047,\n",
       "          0.048048,    0.049049,     0.05005,    0.051051,    0.052052,    0.053053,    0.054054,    0.055055,    0.056056,    0.057057,    0.058058,    0.059059,     0.06006,    0.061061,    0.062062,    0.063063,    0.064064,    0.065065,    0.066066,    0.067067,    0.068068,    0.069069,     0.07007,    0.071071,\n",
       "          0.072072,    0.073073,    0.074074,    0.075075,    0.076076,    0.077077,    0.078078,    0.079079,     0.08008,    0.081081,    0.082082,    0.083083,    0.084084,    0.085085,    0.086086,    0.087087,    0.088088,    0.089089,     0.09009,    0.091091,    0.092092,    0.093093,    0.094094,    0.095095,\n",
       "          0.096096,    0.097097,    0.098098,    0.099099,      0.1001,      0.1011,      0.1021,      0.1031,      0.1041,     0.10511,     0.10611,     0.10711,     0.10811,     0.10911,     0.11011,     0.11111,     0.11211,     0.11311,     0.11411,     0.11512,     0.11612,     0.11712,     0.11812,     0.11912,\n",
       "           0.12012,     0.12112,     0.12212,     0.12312,     0.12412,     0.12513,     0.12613,     0.12713,     0.12813,     0.12913,     0.13013,     0.13113,     0.13213,     0.13313,     0.13413,     0.13514,     0.13614,     0.13714,     0.13814,     0.13914,     0.14014,     0.14114,     0.14214,     0.14314,\n",
       "           0.14414,     0.14515,     0.14615,     0.14715,     0.14815,     0.14915,     0.15015,     0.15115,     0.15215,     0.15315,     0.15415,     0.15516,     0.15616,     0.15716,     0.15816,     0.15916,     0.16016,     0.16116,     0.16216,     0.16316,     0.16416,     0.16517,     0.16617,     0.16717,\n",
       "           0.16817,     0.16917,     0.17017,     0.17117,     0.17217,     0.17317,     0.17417,     0.17518,     0.17618,     0.17718,     0.17818,     0.17918,     0.18018,     0.18118,     0.18218,     0.18318,     0.18418,     0.18519,     0.18619,     0.18719,     0.18819,     0.18919,     0.19019,     0.19119,\n",
       "           0.19219,     0.19319,     0.19419,      0.1952,      0.1962,      0.1972,      0.1982,      0.1992,      0.2002,      0.2012,      0.2022,      0.2032,      0.2042,     0.20521,     0.20621,     0.20721,     0.20821,     0.20921,     0.21021,     0.21121,     0.21221,     0.21321,     0.21421,     0.21522,\n",
       "           0.21622,     0.21722,     0.21822,     0.21922,     0.22022,     0.22122,     0.22222,     0.22322,     0.22422,     0.22523,     0.22623,     0.22723,     0.22823,     0.22923,     0.23023,     0.23123,     0.23223,     0.23323,     0.23423,     0.23524,     0.23624,     0.23724,     0.23824,     0.23924,\n",
       "           0.24024,     0.24124,     0.24224,     0.24324,     0.24424,     0.24525,     0.24625,     0.24725,     0.24825,     0.24925,     0.25025,     0.25125,     0.25225,     0.25325,     0.25425,     0.25526,     0.25626,     0.25726,     0.25826,     0.25926,     0.26026,     0.26126,     0.26226,     0.26326,\n",
       "           0.26426,     0.26527,     0.26627,     0.26727,     0.26827,     0.26927,     0.27027,     0.27127,     0.27227,     0.27327,     0.27427,     0.27528,     0.27628,     0.27728,     0.27828,     0.27928,     0.28028,     0.28128,     0.28228,     0.28328,     0.28428,     0.28529,     0.28629,     0.28729,\n",
       "           0.28829,     0.28929,     0.29029,     0.29129,     0.29229,     0.29329,     0.29429,      0.2953,      0.2963,      0.2973,      0.2983,      0.2993,      0.3003,      0.3013,      0.3023,      0.3033,      0.3043,     0.30531,     0.30631,     0.30731,     0.30831,     0.30931,     0.31031,     0.31131,\n",
       "           0.31231,     0.31331,     0.31431,     0.31532,     0.31632,     0.31732,     0.31832,     0.31932,     0.32032,     0.32132,     0.32232,     0.32332,     0.32432,     0.32533,     0.32633,     0.32733,     0.32833,     0.32933,     0.33033,     0.33133,     0.33233,     0.33333,     0.33433,     0.33534,\n",
       "           0.33634,     0.33734,     0.33834,     0.33934,     0.34034,     0.34134,     0.34234,     0.34334,     0.34434,     0.34535,     0.34635,     0.34735,     0.34835,     0.34935,     0.35035,     0.35135,     0.35235,     0.35335,     0.35435,     0.35536,     0.35636,     0.35736,     0.35836,     0.35936,\n",
       "           0.36036,     0.36136,     0.36236,     0.36336,     0.36436,     0.36537,     0.36637,     0.36737,     0.36837,     0.36937,     0.37037,     0.37137,     0.37237,     0.37337,     0.37437,     0.37538,     0.37638,     0.37738,     0.37838,     0.37938,     0.38038,     0.38138,     0.38238,     0.38338,\n",
       "           0.38438,     0.38539,     0.38639,     0.38739,     0.38839,     0.38939,     0.39039,     0.39139,     0.39239,     0.39339,     0.39439,      0.3954,      0.3964,      0.3974,      0.3984,      0.3994,      0.4004,      0.4014,      0.4024,      0.4034,      0.4044,     0.40541,     0.40641,     0.40741,\n",
       "           0.40841,     0.40941,     0.41041,     0.41141,     0.41241,     0.41341,     0.41441,     0.41542,     0.41642,     0.41742,     0.41842,     0.41942,     0.42042,     0.42142,     0.42242,     0.42342,     0.42442,     0.42543,     0.42643,     0.42743,     0.42843,     0.42943,     0.43043,     0.43143,\n",
       "           0.43243,     0.43343,     0.43443,     0.43544,     0.43644,     0.43744,     0.43844,     0.43944,     0.44044,     0.44144,     0.44244,     0.44344,     0.44444,     0.44545,     0.44645,     0.44745,     0.44845,     0.44945,     0.45045,     0.45145,     0.45245,     0.45345,     0.45445,     0.45546,\n",
       "           0.45646,     0.45746,     0.45846,     0.45946,     0.46046,     0.46146,     0.46246,     0.46346,     0.46446,     0.46547,     0.46647,     0.46747,     0.46847,     0.46947,     0.47047,     0.47147,     0.47247,     0.47347,     0.47447,     0.47548,     0.47648,     0.47748,     0.47848,     0.47948,\n",
       "           0.48048,     0.48148,     0.48248,     0.48348,     0.48448,     0.48549,     0.48649,     0.48749,     0.48849,     0.48949,     0.49049,     0.49149,     0.49249,     0.49349,     0.49449,      0.4955,      0.4965,      0.4975,      0.4985,      0.4995,      0.5005,      0.5015,      0.5025,      0.5035,\n",
       "            0.5045,     0.50551,     0.50651,     0.50751,     0.50851,     0.50951,     0.51051,     0.51151,     0.51251,     0.51351,     0.51451,     0.51552,     0.51652,     0.51752,     0.51852,     0.51952,     0.52052,     0.52152,     0.52252,     0.52352,     0.52452,     0.52553,     0.52653,     0.52753,\n",
       "           0.52853,     0.52953,     0.53053,     0.53153,     0.53253,     0.53353,     0.53453,     0.53554,     0.53654,     0.53754,     0.53854,     0.53954,     0.54054,     0.54154,     0.54254,     0.54354,     0.54454,     0.54555,     0.54655,     0.54755,     0.54855,     0.54955,     0.55055,     0.55155,\n",
       "           0.55255,     0.55355,     0.55455,     0.55556,     0.55656,     0.55756,     0.55856,     0.55956,     0.56056,     0.56156,     0.56256,     0.56356,     0.56456,     0.56557,     0.56657,     0.56757,     0.56857,     0.56957,     0.57057,     0.57157,     0.57257,     0.57357,     0.57457,     0.57558,\n",
       "           0.57658,     0.57758,     0.57858,     0.57958,     0.58058,     0.58158,     0.58258,     0.58358,     0.58458,     0.58559,     0.58659,     0.58759,     0.58859,     0.58959,     0.59059,     0.59159,     0.59259,     0.59359,     0.59459,      0.5956,      0.5966,      0.5976,      0.5986,      0.5996,\n",
       "            0.6006,      0.6016,      0.6026,      0.6036,      0.6046,     0.60561,     0.60661,     0.60761,     0.60861,     0.60961,     0.61061,     0.61161,     0.61261,     0.61361,     0.61461,     0.61562,     0.61662,     0.61762,     0.61862,     0.61962,     0.62062,     0.62162,     0.62262,     0.62362,\n",
       "           0.62462,     0.62563,     0.62663,     0.62763,     0.62863,     0.62963,     0.63063,     0.63163,     0.63263,     0.63363,     0.63463,     0.63564,     0.63664,     0.63764,     0.63864,     0.63964,     0.64064,     0.64164,     0.64264,     0.64364,     0.64464,     0.64565,     0.64665,     0.64765,\n",
       "           0.64865,     0.64965,     0.65065,     0.65165,     0.65265,     0.65365,     0.65465,     0.65566,     0.65666,     0.65766,     0.65866,     0.65966,     0.66066,     0.66166,     0.66266,     0.66366,     0.66466,     0.66567,     0.66667,     0.66767,     0.66867,     0.66967,     0.67067,     0.67167,\n",
       "           0.67267,     0.67367,     0.67467,     0.67568,     0.67668,     0.67768,     0.67868,     0.67968,     0.68068,     0.68168,     0.68268,     0.68368,     0.68468,     0.68569,     0.68669,     0.68769,     0.68869,     0.68969,     0.69069,     0.69169,     0.69269,     0.69369,     0.69469,      0.6957,\n",
       "            0.6967,      0.6977,      0.6987,      0.6997,      0.7007,      0.7017,      0.7027,      0.7037,      0.7047,     0.70571,     0.70671,     0.70771,     0.70871,     0.70971,     0.71071,     0.71171,     0.71271,     0.71371,     0.71471,     0.71572,     0.71672,     0.71772,     0.71872,     0.71972,\n",
       "           0.72072,     0.72172,     0.72272,     0.72372,     0.72472,     0.72573,     0.72673,     0.72773,     0.72873,     0.72973,     0.73073,     0.73173,     0.73273,     0.73373,     0.73473,     0.73574,     0.73674,     0.73774,     0.73874,     0.73974,     0.74074,     0.74174,     0.74274,     0.74374,\n",
       "           0.74474,     0.74575,     0.74675,     0.74775,     0.74875,     0.74975,     0.75075,     0.75175,     0.75275,     0.75375,     0.75475,     0.75576,     0.75676,     0.75776,     0.75876,     0.75976,     0.76076,     0.76176,     0.76276,     0.76376,     0.76476,     0.76577,     0.76677,     0.76777,\n",
       "           0.76877,     0.76977,     0.77077,     0.77177,     0.77277,     0.77377,     0.77477,     0.77578,     0.77678,     0.77778,     0.77878,     0.77978,     0.78078,     0.78178,     0.78278,     0.78378,     0.78478,     0.78579,     0.78679,     0.78779,     0.78879,     0.78979,     0.79079,     0.79179,\n",
       "           0.79279,     0.79379,     0.79479,      0.7958,      0.7968,      0.7978,      0.7988,      0.7998,      0.8008,      0.8018,      0.8028,      0.8038,      0.8048,     0.80581,     0.80681,     0.80781,     0.80881,     0.80981,     0.81081,     0.81181,     0.81281,     0.81381,     0.81481,     0.81582,\n",
       "           0.81682,     0.81782,     0.81882,     0.81982,     0.82082,     0.82182,     0.82282,     0.82382,     0.82482,     0.82583,     0.82683,     0.82783,     0.82883,     0.82983,     0.83083,     0.83183,     0.83283,     0.83383,     0.83483,     0.83584,     0.83684,     0.83784,     0.83884,     0.83984,\n",
       "           0.84084,     0.84184,     0.84284,     0.84384,     0.84484,     0.84585,     0.84685,     0.84785,     0.84885,     0.84985,     0.85085,     0.85185,     0.85285,     0.85385,     0.85485,     0.85586,     0.85686,     0.85786,     0.85886,     0.85986,     0.86086,     0.86186,     0.86286,     0.86386,\n",
       "           0.86486,     0.86587,     0.86687,     0.86787,     0.86887,     0.86987,     0.87087,     0.87187,     0.87287,     0.87387,     0.87487,     0.87588,     0.87688,     0.87788,     0.87888,     0.87988,     0.88088,     0.88188,     0.88288,     0.88388,     0.88488,     0.88589,     0.88689,     0.88789,\n",
       "           0.88889,     0.88989,     0.89089,     0.89189,     0.89289,     0.89389,     0.89489,      0.8959,      0.8969,      0.8979,      0.8989,      0.8999,      0.9009,      0.9019,      0.9029,      0.9039,      0.9049,     0.90591,     0.90691,     0.90791,     0.90891,     0.90991,     0.91091,     0.91191,\n",
       "           0.91291,     0.91391,     0.91491,     0.91592,     0.91692,     0.91792,     0.91892,     0.91992,     0.92092,     0.92192,     0.92292,     0.92392,     0.92492,     0.92593,     0.92693,     0.92793,     0.92893,     0.92993,     0.93093,     0.93193,     0.93293,     0.93393,     0.93493,     0.93594,\n",
       "           0.93694,     0.93794,     0.93894,     0.93994,     0.94094,     0.94194,     0.94294,     0.94394,     0.94494,     0.94595,     0.94695,     0.94795,     0.94895,     0.94995,     0.95095,     0.95195,     0.95295,     0.95395,     0.95495,     0.95596,     0.95696,     0.95796,     0.95896,     0.95996,\n",
       "           0.96096,     0.96196,     0.96296,     0.96396,     0.96496,     0.96597,     0.96697,     0.96797,     0.96897,     0.96997,     0.97097,     0.97197,     0.97297,     0.97397,     0.97497,     0.97598,     0.97698,     0.97798,     0.97898,     0.97998,     0.98098,     0.98198,     0.98298,     0.98398,\n",
       "           0.98498,     0.98599,     0.98699,     0.98799,     0.98899,     0.98999,     0.99099,     0.99199,     0.99299,     0.99399,     0.99499,       0.996,       0.997,       0.998,       0.999,           1]), array([[    0.13333,     0.13333,     0.13333, ...,           0,           0,           0],\n",
       "       [    0.94737,     0.94737,     0.94737, ...,           0,           0,           0],\n",
       "       [    0.65657,     0.65657,     0.65657, ...,           0,           0,           0],\n",
       "       [    0.90476,     0.90476,     0.90476, ...,           0,           0,           0],\n",
       "       [    0.62963,     0.62963,     0.61111, ...,           0,           0,           0],\n",
       "       [          1,           1,           1, ...,           0,           0,           0]]), 'Confidence', 'Recall'], [array([          0,    0.001001,    0.002002,    0.003003,    0.004004,    0.005005,    0.006006,    0.007007,    0.008008,    0.009009,     0.01001,    0.011011,    0.012012,    0.013013,    0.014014,    0.015015,    0.016016,    0.017017,    0.018018,    0.019019,     0.02002,    0.021021,    0.022022,    0.023023,\n",
       "          0.024024,    0.025025,    0.026026,    0.027027,    0.028028,    0.029029,     0.03003,    0.031031,    0.032032,    0.033033,    0.034034,    0.035035,    0.036036,    0.037037,    0.038038,    0.039039,     0.04004,    0.041041,    0.042042,    0.043043,    0.044044,    0.045045,    0.046046,    0.047047,\n",
       "          0.048048,    0.049049,     0.05005,    0.051051,    0.052052,    0.053053,    0.054054,    0.055055,    0.056056,    0.057057,    0.058058,    0.059059,     0.06006,    0.061061,    0.062062,    0.063063,    0.064064,    0.065065,    0.066066,    0.067067,    0.068068,    0.069069,     0.07007,    0.071071,\n",
       "          0.072072,    0.073073,    0.074074,    0.075075,    0.076076,    0.077077,    0.078078,    0.079079,     0.08008,    0.081081,    0.082082,    0.083083,    0.084084,    0.085085,    0.086086,    0.087087,    0.088088,    0.089089,     0.09009,    0.091091,    0.092092,    0.093093,    0.094094,    0.095095,\n",
       "          0.096096,    0.097097,    0.098098,    0.099099,      0.1001,      0.1011,      0.1021,      0.1031,      0.1041,     0.10511,     0.10611,     0.10711,     0.10811,     0.10911,     0.11011,     0.11111,     0.11211,     0.11311,     0.11411,     0.11512,     0.11612,     0.11712,     0.11812,     0.11912,\n",
       "           0.12012,     0.12112,     0.12212,     0.12312,     0.12412,     0.12513,     0.12613,     0.12713,     0.12813,     0.12913,     0.13013,     0.13113,     0.13213,     0.13313,     0.13413,     0.13514,     0.13614,     0.13714,     0.13814,     0.13914,     0.14014,     0.14114,     0.14214,     0.14314,\n",
       "           0.14414,     0.14515,     0.14615,     0.14715,     0.14815,     0.14915,     0.15015,     0.15115,     0.15215,     0.15315,     0.15415,     0.15516,     0.15616,     0.15716,     0.15816,     0.15916,     0.16016,     0.16116,     0.16216,     0.16316,     0.16416,     0.16517,     0.16617,     0.16717,\n",
       "           0.16817,     0.16917,     0.17017,     0.17117,     0.17217,     0.17317,     0.17417,     0.17518,     0.17618,     0.17718,     0.17818,     0.17918,     0.18018,     0.18118,     0.18218,     0.18318,     0.18418,     0.18519,     0.18619,     0.18719,     0.18819,     0.18919,     0.19019,     0.19119,\n",
       "           0.19219,     0.19319,     0.19419,      0.1952,      0.1962,      0.1972,      0.1982,      0.1992,      0.2002,      0.2012,      0.2022,      0.2032,      0.2042,     0.20521,     0.20621,     0.20721,     0.20821,     0.20921,     0.21021,     0.21121,     0.21221,     0.21321,     0.21421,     0.21522,\n",
       "           0.21622,     0.21722,     0.21822,     0.21922,     0.22022,     0.22122,     0.22222,     0.22322,     0.22422,     0.22523,     0.22623,     0.22723,     0.22823,     0.22923,     0.23023,     0.23123,     0.23223,     0.23323,     0.23423,     0.23524,     0.23624,     0.23724,     0.23824,     0.23924,\n",
       "           0.24024,     0.24124,     0.24224,     0.24324,     0.24424,     0.24525,     0.24625,     0.24725,     0.24825,     0.24925,     0.25025,     0.25125,     0.25225,     0.25325,     0.25425,     0.25526,     0.25626,     0.25726,     0.25826,     0.25926,     0.26026,     0.26126,     0.26226,     0.26326,\n",
       "           0.26426,     0.26527,     0.26627,     0.26727,     0.26827,     0.26927,     0.27027,     0.27127,     0.27227,     0.27327,     0.27427,     0.27528,     0.27628,     0.27728,     0.27828,     0.27928,     0.28028,     0.28128,     0.28228,     0.28328,     0.28428,     0.28529,     0.28629,     0.28729,\n",
       "           0.28829,     0.28929,     0.29029,     0.29129,     0.29229,     0.29329,     0.29429,      0.2953,      0.2963,      0.2973,      0.2983,      0.2993,      0.3003,      0.3013,      0.3023,      0.3033,      0.3043,     0.30531,     0.30631,     0.30731,     0.30831,     0.30931,     0.31031,     0.31131,\n",
       "           0.31231,     0.31331,     0.31431,     0.31532,     0.31632,     0.31732,     0.31832,     0.31932,     0.32032,     0.32132,     0.32232,     0.32332,     0.32432,     0.32533,     0.32633,     0.32733,     0.32833,     0.32933,     0.33033,     0.33133,     0.33233,     0.33333,     0.33433,     0.33534,\n",
       "           0.33634,     0.33734,     0.33834,     0.33934,     0.34034,     0.34134,     0.34234,     0.34334,     0.34434,     0.34535,     0.34635,     0.34735,     0.34835,     0.34935,     0.35035,     0.35135,     0.35235,     0.35335,     0.35435,     0.35536,     0.35636,     0.35736,     0.35836,     0.35936,\n",
       "           0.36036,     0.36136,     0.36236,     0.36336,     0.36436,     0.36537,     0.36637,     0.36737,     0.36837,     0.36937,     0.37037,     0.37137,     0.37237,     0.37337,     0.37437,     0.37538,     0.37638,     0.37738,     0.37838,     0.37938,     0.38038,     0.38138,     0.38238,     0.38338,\n",
       "           0.38438,     0.38539,     0.38639,     0.38739,     0.38839,     0.38939,     0.39039,     0.39139,     0.39239,     0.39339,     0.39439,      0.3954,      0.3964,      0.3974,      0.3984,      0.3994,      0.4004,      0.4014,      0.4024,      0.4034,      0.4044,     0.40541,     0.40641,     0.40741,\n",
       "           0.40841,     0.40941,     0.41041,     0.41141,     0.41241,     0.41341,     0.41441,     0.41542,     0.41642,     0.41742,     0.41842,     0.41942,     0.42042,     0.42142,     0.42242,     0.42342,     0.42442,     0.42543,     0.42643,     0.42743,     0.42843,     0.42943,     0.43043,     0.43143,\n",
       "           0.43243,     0.43343,     0.43443,     0.43544,     0.43644,     0.43744,     0.43844,     0.43944,     0.44044,     0.44144,     0.44244,     0.44344,     0.44444,     0.44545,     0.44645,     0.44745,     0.44845,     0.44945,     0.45045,     0.45145,     0.45245,     0.45345,     0.45445,     0.45546,\n",
       "           0.45646,     0.45746,     0.45846,     0.45946,     0.46046,     0.46146,     0.46246,     0.46346,     0.46446,     0.46547,     0.46647,     0.46747,     0.46847,     0.46947,     0.47047,     0.47147,     0.47247,     0.47347,     0.47447,     0.47548,     0.47648,     0.47748,     0.47848,     0.47948,\n",
       "           0.48048,     0.48148,     0.48248,     0.48348,     0.48448,     0.48549,     0.48649,     0.48749,     0.48849,     0.48949,     0.49049,     0.49149,     0.49249,     0.49349,     0.49449,      0.4955,      0.4965,      0.4975,      0.4985,      0.4995,      0.5005,      0.5015,      0.5025,      0.5035,\n",
       "            0.5045,     0.50551,     0.50651,     0.50751,     0.50851,     0.50951,     0.51051,     0.51151,     0.51251,     0.51351,     0.51451,     0.51552,     0.51652,     0.51752,     0.51852,     0.51952,     0.52052,     0.52152,     0.52252,     0.52352,     0.52452,     0.52553,     0.52653,     0.52753,\n",
       "           0.52853,     0.52953,     0.53053,     0.53153,     0.53253,     0.53353,     0.53453,     0.53554,     0.53654,     0.53754,     0.53854,     0.53954,     0.54054,     0.54154,     0.54254,     0.54354,     0.54454,     0.54555,     0.54655,     0.54755,     0.54855,     0.54955,     0.55055,     0.55155,\n",
       "           0.55255,     0.55355,     0.55455,     0.55556,     0.55656,     0.55756,     0.55856,     0.55956,     0.56056,     0.56156,     0.56256,     0.56356,     0.56456,     0.56557,     0.56657,     0.56757,     0.56857,     0.56957,     0.57057,     0.57157,     0.57257,     0.57357,     0.57457,     0.57558,\n",
       "           0.57658,     0.57758,     0.57858,     0.57958,     0.58058,     0.58158,     0.58258,     0.58358,     0.58458,     0.58559,     0.58659,     0.58759,     0.58859,     0.58959,     0.59059,     0.59159,     0.59259,     0.59359,     0.59459,      0.5956,      0.5966,      0.5976,      0.5986,      0.5996,\n",
       "            0.6006,      0.6016,      0.6026,      0.6036,      0.6046,     0.60561,     0.60661,     0.60761,     0.60861,     0.60961,     0.61061,     0.61161,     0.61261,     0.61361,     0.61461,     0.61562,     0.61662,     0.61762,     0.61862,     0.61962,     0.62062,     0.62162,     0.62262,     0.62362,\n",
       "           0.62462,     0.62563,     0.62663,     0.62763,     0.62863,     0.62963,     0.63063,     0.63163,     0.63263,     0.63363,     0.63463,     0.63564,     0.63664,     0.63764,     0.63864,     0.63964,     0.64064,     0.64164,     0.64264,     0.64364,     0.64464,     0.64565,     0.64665,     0.64765,\n",
       "           0.64865,     0.64965,     0.65065,     0.65165,     0.65265,     0.65365,     0.65465,     0.65566,     0.65666,     0.65766,     0.65866,     0.65966,     0.66066,     0.66166,     0.66266,     0.66366,     0.66466,     0.66567,     0.66667,     0.66767,     0.66867,     0.66967,     0.67067,     0.67167,\n",
       "           0.67267,     0.67367,     0.67467,     0.67568,     0.67668,     0.67768,     0.67868,     0.67968,     0.68068,     0.68168,     0.68268,     0.68368,     0.68468,     0.68569,     0.68669,     0.68769,     0.68869,     0.68969,     0.69069,     0.69169,     0.69269,     0.69369,     0.69469,      0.6957,\n",
       "            0.6967,      0.6977,      0.6987,      0.6997,      0.7007,      0.7017,      0.7027,      0.7037,      0.7047,     0.70571,     0.70671,     0.70771,     0.70871,     0.70971,     0.71071,     0.71171,     0.71271,     0.71371,     0.71471,     0.71572,     0.71672,     0.71772,     0.71872,     0.71972,\n",
       "           0.72072,     0.72172,     0.72272,     0.72372,     0.72472,     0.72573,     0.72673,     0.72773,     0.72873,     0.72973,     0.73073,     0.73173,     0.73273,     0.73373,     0.73473,     0.73574,     0.73674,     0.73774,     0.73874,     0.73974,     0.74074,     0.74174,     0.74274,     0.74374,\n",
       "           0.74474,     0.74575,     0.74675,     0.74775,     0.74875,     0.74975,     0.75075,     0.75175,     0.75275,     0.75375,     0.75475,     0.75576,     0.75676,     0.75776,     0.75876,     0.75976,     0.76076,     0.76176,     0.76276,     0.76376,     0.76476,     0.76577,     0.76677,     0.76777,\n",
       "           0.76877,     0.76977,     0.77077,     0.77177,     0.77277,     0.77377,     0.77477,     0.77578,     0.77678,     0.77778,     0.77878,     0.77978,     0.78078,     0.78178,     0.78278,     0.78378,     0.78478,     0.78579,     0.78679,     0.78779,     0.78879,     0.78979,     0.79079,     0.79179,\n",
       "           0.79279,     0.79379,     0.79479,      0.7958,      0.7968,      0.7978,      0.7988,      0.7998,      0.8008,      0.8018,      0.8028,      0.8038,      0.8048,     0.80581,     0.80681,     0.80781,     0.80881,     0.80981,     0.81081,     0.81181,     0.81281,     0.81381,     0.81481,     0.81582,\n",
       "           0.81682,     0.81782,     0.81882,     0.81982,     0.82082,     0.82182,     0.82282,     0.82382,     0.82482,     0.82583,     0.82683,     0.82783,     0.82883,     0.82983,     0.83083,     0.83183,     0.83283,     0.83383,     0.83483,     0.83584,     0.83684,     0.83784,     0.83884,     0.83984,\n",
       "           0.84084,     0.84184,     0.84284,     0.84384,     0.84484,     0.84585,     0.84685,     0.84785,     0.84885,     0.84985,     0.85085,     0.85185,     0.85285,     0.85385,     0.85485,     0.85586,     0.85686,     0.85786,     0.85886,     0.85986,     0.86086,     0.86186,     0.86286,     0.86386,\n",
       "           0.86486,     0.86587,     0.86687,     0.86787,     0.86887,     0.86987,     0.87087,     0.87187,     0.87287,     0.87387,     0.87487,     0.87588,     0.87688,     0.87788,     0.87888,     0.87988,     0.88088,     0.88188,     0.88288,     0.88388,     0.88488,     0.88589,     0.88689,     0.88789,\n",
       "           0.88889,     0.88989,     0.89089,     0.89189,     0.89289,     0.89389,     0.89489,      0.8959,      0.8969,      0.8979,      0.8989,      0.8999,      0.9009,      0.9019,      0.9029,      0.9039,      0.9049,     0.90591,     0.90691,     0.90791,     0.90891,     0.90991,     0.91091,     0.91191,\n",
       "           0.91291,     0.91391,     0.91491,     0.91592,     0.91692,     0.91792,     0.91892,     0.91992,     0.92092,     0.92192,     0.92292,     0.92392,     0.92492,     0.92593,     0.92693,     0.92793,     0.92893,     0.92993,     0.93093,     0.93193,     0.93293,     0.93393,     0.93493,     0.93594,\n",
       "           0.93694,     0.93794,     0.93894,     0.93994,     0.94094,     0.94194,     0.94294,     0.94394,     0.94494,     0.94595,     0.94695,     0.94795,     0.94895,     0.94995,     0.95095,     0.95195,     0.95295,     0.95395,     0.95495,     0.95596,     0.95696,     0.95796,     0.95896,     0.95996,\n",
       "           0.96096,     0.96196,     0.96296,     0.96396,     0.96496,     0.96597,     0.96697,     0.96797,     0.96897,     0.96997,     0.97097,     0.97197,     0.97297,     0.97397,     0.97497,     0.97598,     0.97698,     0.97798,     0.97898,     0.97998,     0.98098,     0.98198,     0.98298,     0.98398,\n",
       "           0.98498,     0.98599,     0.98699,     0.98799,     0.98899,     0.98999,     0.99099,     0.99199,     0.99299,     0.99399,     0.99499,       0.996,       0.997,       0.998,       0.999,           1]), array([[          1,           1,           1, ...,  4.7678e-06,  2.3839e-06,           0],\n",
       "       [          1,           1,           1, ...,   0.0053701,    0.002685,           0],\n",
       "       [          1,           1,           1, ...,  0.00070236,  0.00035118,           0],\n",
       "       [          1,           1,           1, ...,  0.00098617,  0.00049309,           0],\n",
       "       [          1,           1,           1, ...,  0.00053423,  0.00026711,           0],\n",
       "       [          1,           1,           1, ...,     0.71429,     0.71429,           0]]), 'Recall', 'Precision'], [array([          0,    0.001001,    0.002002,    0.003003,    0.004004,    0.005005,    0.006006,    0.007007,    0.008008,    0.009009,     0.01001,    0.011011,    0.012012,    0.013013,    0.014014,    0.015015,    0.016016,    0.017017,    0.018018,    0.019019,     0.02002,    0.021021,    0.022022,    0.023023,\n",
       "          0.024024,    0.025025,    0.026026,    0.027027,    0.028028,    0.029029,     0.03003,    0.031031,    0.032032,    0.033033,    0.034034,    0.035035,    0.036036,    0.037037,    0.038038,    0.039039,     0.04004,    0.041041,    0.042042,    0.043043,    0.044044,    0.045045,    0.046046,    0.047047,\n",
       "          0.048048,    0.049049,     0.05005,    0.051051,    0.052052,    0.053053,    0.054054,    0.055055,    0.056056,    0.057057,    0.058058,    0.059059,     0.06006,    0.061061,    0.062062,    0.063063,    0.064064,    0.065065,    0.066066,    0.067067,    0.068068,    0.069069,     0.07007,    0.071071,\n",
       "          0.072072,    0.073073,    0.074074,    0.075075,    0.076076,    0.077077,    0.078078,    0.079079,     0.08008,    0.081081,    0.082082,    0.083083,    0.084084,    0.085085,    0.086086,    0.087087,    0.088088,    0.089089,     0.09009,    0.091091,    0.092092,    0.093093,    0.094094,    0.095095,\n",
       "          0.096096,    0.097097,    0.098098,    0.099099,      0.1001,      0.1011,      0.1021,      0.1031,      0.1041,     0.10511,     0.10611,     0.10711,     0.10811,     0.10911,     0.11011,     0.11111,     0.11211,     0.11311,     0.11411,     0.11512,     0.11612,     0.11712,     0.11812,     0.11912,\n",
       "           0.12012,     0.12112,     0.12212,     0.12312,     0.12412,     0.12513,     0.12613,     0.12713,     0.12813,     0.12913,     0.13013,     0.13113,     0.13213,     0.13313,     0.13413,     0.13514,     0.13614,     0.13714,     0.13814,     0.13914,     0.14014,     0.14114,     0.14214,     0.14314,\n",
       "           0.14414,     0.14515,     0.14615,     0.14715,     0.14815,     0.14915,     0.15015,     0.15115,     0.15215,     0.15315,     0.15415,     0.15516,     0.15616,     0.15716,     0.15816,     0.15916,     0.16016,     0.16116,     0.16216,     0.16316,     0.16416,     0.16517,     0.16617,     0.16717,\n",
       "           0.16817,     0.16917,     0.17017,     0.17117,     0.17217,     0.17317,     0.17417,     0.17518,     0.17618,     0.17718,     0.17818,     0.17918,     0.18018,     0.18118,     0.18218,     0.18318,     0.18418,     0.18519,     0.18619,     0.18719,     0.18819,     0.18919,     0.19019,     0.19119,\n",
       "           0.19219,     0.19319,     0.19419,      0.1952,      0.1962,      0.1972,      0.1982,      0.1992,      0.2002,      0.2012,      0.2022,      0.2032,      0.2042,     0.20521,     0.20621,     0.20721,     0.20821,     0.20921,     0.21021,     0.21121,     0.21221,     0.21321,     0.21421,     0.21522,\n",
       "           0.21622,     0.21722,     0.21822,     0.21922,     0.22022,     0.22122,     0.22222,     0.22322,     0.22422,     0.22523,     0.22623,     0.22723,     0.22823,     0.22923,     0.23023,     0.23123,     0.23223,     0.23323,     0.23423,     0.23524,     0.23624,     0.23724,     0.23824,     0.23924,\n",
       "           0.24024,     0.24124,     0.24224,     0.24324,     0.24424,     0.24525,     0.24625,     0.24725,     0.24825,     0.24925,     0.25025,     0.25125,     0.25225,     0.25325,     0.25425,     0.25526,     0.25626,     0.25726,     0.25826,     0.25926,     0.26026,     0.26126,     0.26226,     0.26326,\n",
       "           0.26426,     0.26527,     0.26627,     0.26727,     0.26827,     0.26927,     0.27027,     0.27127,     0.27227,     0.27327,     0.27427,     0.27528,     0.27628,     0.27728,     0.27828,     0.27928,     0.28028,     0.28128,     0.28228,     0.28328,     0.28428,     0.28529,     0.28629,     0.28729,\n",
       "           0.28829,     0.28929,     0.29029,     0.29129,     0.29229,     0.29329,     0.29429,      0.2953,      0.2963,      0.2973,      0.2983,      0.2993,      0.3003,      0.3013,      0.3023,      0.3033,      0.3043,     0.30531,     0.30631,     0.30731,     0.30831,     0.30931,     0.31031,     0.31131,\n",
       "           0.31231,     0.31331,     0.31431,     0.31532,     0.31632,     0.31732,     0.31832,     0.31932,     0.32032,     0.32132,     0.32232,     0.32332,     0.32432,     0.32533,     0.32633,     0.32733,     0.32833,     0.32933,     0.33033,     0.33133,     0.33233,     0.33333,     0.33433,     0.33534,\n",
       "           0.33634,     0.33734,     0.33834,     0.33934,     0.34034,     0.34134,     0.34234,     0.34334,     0.34434,     0.34535,     0.34635,     0.34735,     0.34835,     0.34935,     0.35035,     0.35135,     0.35235,     0.35335,     0.35435,     0.35536,     0.35636,     0.35736,     0.35836,     0.35936,\n",
       "           0.36036,     0.36136,     0.36236,     0.36336,     0.36436,     0.36537,     0.36637,     0.36737,     0.36837,     0.36937,     0.37037,     0.37137,     0.37237,     0.37337,     0.37437,     0.37538,     0.37638,     0.37738,     0.37838,     0.37938,     0.38038,     0.38138,     0.38238,     0.38338,\n",
       "           0.38438,     0.38539,     0.38639,     0.38739,     0.38839,     0.38939,     0.39039,     0.39139,     0.39239,     0.39339,     0.39439,      0.3954,      0.3964,      0.3974,      0.3984,      0.3994,      0.4004,      0.4014,      0.4024,      0.4034,      0.4044,     0.40541,     0.40641,     0.40741,\n",
       "           0.40841,     0.40941,     0.41041,     0.41141,     0.41241,     0.41341,     0.41441,     0.41542,     0.41642,     0.41742,     0.41842,     0.41942,     0.42042,     0.42142,     0.42242,     0.42342,     0.42442,     0.42543,     0.42643,     0.42743,     0.42843,     0.42943,     0.43043,     0.43143,\n",
       "           0.43243,     0.43343,     0.43443,     0.43544,     0.43644,     0.43744,     0.43844,     0.43944,     0.44044,     0.44144,     0.44244,     0.44344,     0.44444,     0.44545,     0.44645,     0.44745,     0.44845,     0.44945,     0.45045,     0.45145,     0.45245,     0.45345,     0.45445,     0.45546,\n",
       "           0.45646,     0.45746,     0.45846,     0.45946,     0.46046,     0.46146,     0.46246,     0.46346,     0.46446,     0.46547,     0.46647,     0.46747,     0.46847,     0.46947,     0.47047,     0.47147,     0.47247,     0.47347,     0.47447,     0.47548,     0.47648,     0.47748,     0.47848,     0.47948,\n",
       "           0.48048,     0.48148,     0.48248,     0.48348,     0.48448,     0.48549,     0.48649,     0.48749,     0.48849,     0.48949,     0.49049,     0.49149,     0.49249,     0.49349,     0.49449,      0.4955,      0.4965,      0.4975,      0.4985,      0.4995,      0.5005,      0.5015,      0.5025,      0.5035,\n",
       "            0.5045,     0.50551,     0.50651,     0.50751,     0.50851,     0.50951,     0.51051,     0.51151,     0.51251,     0.51351,     0.51451,     0.51552,     0.51652,     0.51752,     0.51852,     0.51952,     0.52052,     0.52152,     0.52252,     0.52352,     0.52452,     0.52553,     0.52653,     0.52753,\n",
       "           0.52853,     0.52953,     0.53053,     0.53153,     0.53253,     0.53353,     0.53453,     0.53554,     0.53654,     0.53754,     0.53854,     0.53954,     0.54054,     0.54154,     0.54254,     0.54354,     0.54454,     0.54555,     0.54655,     0.54755,     0.54855,     0.54955,     0.55055,     0.55155,\n",
       "           0.55255,     0.55355,     0.55455,     0.55556,     0.55656,     0.55756,     0.55856,     0.55956,     0.56056,     0.56156,     0.56256,     0.56356,     0.56456,     0.56557,     0.56657,     0.56757,     0.56857,     0.56957,     0.57057,     0.57157,     0.57257,     0.57357,     0.57457,     0.57558,\n",
       "           0.57658,     0.57758,     0.57858,     0.57958,     0.58058,     0.58158,     0.58258,     0.58358,     0.58458,     0.58559,     0.58659,     0.58759,     0.58859,     0.58959,     0.59059,     0.59159,     0.59259,     0.59359,     0.59459,      0.5956,      0.5966,      0.5976,      0.5986,      0.5996,\n",
       "            0.6006,      0.6016,      0.6026,      0.6036,      0.6046,     0.60561,     0.60661,     0.60761,     0.60861,     0.60961,     0.61061,     0.61161,     0.61261,     0.61361,     0.61461,     0.61562,     0.61662,     0.61762,     0.61862,     0.61962,     0.62062,     0.62162,     0.62262,     0.62362,\n",
       "           0.62462,     0.62563,     0.62663,     0.62763,     0.62863,     0.62963,     0.63063,     0.63163,     0.63263,     0.63363,     0.63463,     0.63564,     0.63664,     0.63764,     0.63864,     0.63964,     0.64064,     0.64164,     0.64264,     0.64364,     0.64464,     0.64565,     0.64665,     0.64765,\n",
       "           0.64865,     0.64965,     0.65065,     0.65165,     0.65265,     0.65365,     0.65465,     0.65566,     0.65666,     0.65766,     0.65866,     0.65966,     0.66066,     0.66166,     0.66266,     0.66366,     0.66466,     0.66567,     0.66667,     0.66767,     0.66867,     0.66967,     0.67067,     0.67167,\n",
       "           0.67267,     0.67367,     0.67467,     0.67568,     0.67668,     0.67768,     0.67868,     0.67968,     0.68068,     0.68168,     0.68268,     0.68368,     0.68468,     0.68569,     0.68669,     0.68769,     0.68869,     0.68969,     0.69069,     0.69169,     0.69269,     0.69369,     0.69469,      0.6957,\n",
       "            0.6967,      0.6977,      0.6987,      0.6997,      0.7007,      0.7017,      0.7027,      0.7037,      0.7047,     0.70571,     0.70671,     0.70771,     0.70871,     0.70971,     0.71071,     0.71171,     0.71271,     0.71371,     0.71471,     0.71572,     0.71672,     0.71772,     0.71872,     0.71972,\n",
       "           0.72072,     0.72172,     0.72272,     0.72372,     0.72472,     0.72573,     0.72673,     0.72773,     0.72873,     0.72973,     0.73073,     0.73173,     0.73273,     0.73373,     0.73473,     0.73574,     0.73674,     0.73774,     0.73874,     0.73974,     0.74074,     0.74174,     0.74274,     0.74374,\n",
       "           0.74474,     0.74575,     0.74675,     0.74775,     0.74875,     0.74975,     0.75075,     0.75175,     0.75275,     0.75375,     0.75475,     0.75576,     0.75676,     0.75776,     0.75876,     0.75976,     0.76076,     0.76176,     0.76276,     0.76376,     0.76476,     0.76577,     0.76677,     0.76777,\n",
       "           0.76877,     0.76977,     0.77077,     0.77177,     0.77277,     0.77377,     0.77477,     0.77578,     0.77678,     0.77778,     0.77878,     0.77978,     0.78078,     0.78178,     0.78278,     0.78378,     0.78478,     0.78579,     0.78679,     0.78779,     0.78879,     0.78979,     0.79079,     0.79179,\n",
       "           0.79279,     0.79379,     0.79479,      0.7958,      0.7968,      0.7978,      0.7988,      0.7998,      0.8008,      0.8018,      0.8028,      0.8038,      0.8048,     0.80581,     0.80681,     0.80781,     0.80881,     0.80981,     0.81081,     0.81181,     0.81281,     0.81381,     0.81481,     0.81582,\n",
       "           0.81682,     0.81782,     0.81882,     0.81982,     0.82082,     0.82182,     0.82282,     0.82382,     0.82482,     0.82583,     0.82683,     0.82783,     0.82883,     0.82983,     0.83083,     0.83183,     0.83283,     0.83383,     0.83483,     0.83584,     0.83684,     0.83784,     0.83884,     0.83984,\n",
       "           0.84084,     0.84184,     0.84284,     0.84384,     0.84484,     0.84585,     0.84685,     0.84785,     0.84885,     0.84985,     0.85085,     0.85185,     0.85285,     0.85385,     0.85485,     0.85586,     0.85686,     0.85786,     0.85886,     0.85986,     0.86086,     0.86186,     0.86286,     0.86386,\n",
       "           0.86486,     0.86587,     0.86687,     0.86787,     0.86887,     0.86987,     0.87087,     0.87187,     0.87287,     0.87387,     0.87487,     0.87588,     0.87688,     0.87788,     0.87888,     0.87988,     0.88088,     0.88188,     0.88288,     0.88388,     0.88488,     0.88589,     0.88689,     0.88789,\n",
       "           0.88889,     0.88989,     0.89089,     0.89189,     0.89289,     0.89389,     0.89489,      0.8959,      0.8969,      0.8979,      0.8989,      0.8999,      0.9009,      0.9019,      0.9029,      0.9039,      0.9049,     0.90591,     0.90691,     0.90791,     0.90891,     0.90991,     0.91091,     0.91191,\n",
       "           0.91291,     0.91391,     0.91491,     0.91592,     0.91692,     0.91792,     0.91892,     0.91992,     0.92092,     0.92192,     0.92292,     0.92392,     0.92492,     0.92593,     0.92693,     0.92793,     0.92893,     0.92993,     0.93093,     0.93193,     0.93293,     0.93393,     0.93493,     0.93594,\n",
       "           0.93694,     0.93794,     0.93894,     0.93994,     0.94094,     0.94194,     0.94294,     0.94394,     0.94494,     0.94595,     0.94695,     0.94795,     0.94895,     0.94995,     0.95095,     0.95195,     0.95295,     0.95395,     0.95495,     0.95596,     0.95696,     0.95796,     0.95896,     0.95996,\n",
       "           0.96096,     0.96196,     0.96296,     0.96396,     0.96496,     0.96597,     0.96697,     0.96797,     0.96897,     0.96997,     0.97097,     0.97197,     0.97297,     0.97397,     0.97497,     0.97598,     0.97698,     0.97798,     0.97898,     0.97998,     0.98098,     0.98198,     0.98298,     0.98398,\n",
       "           0.98498,     0.98599,     0.98699,     0.98799,     0.98899,     0.98999,     0.99099,     0.99199,     0.99299,     0.99399,     0.99499,       0.996,       0.997,       0.998,       0.999,           1]), array([[   0.004065,    0.004065,   0.0083666, ...,           0,           0,           0],\n",
       "       [    0.24573,     0.24573,     0.35723, ...,           0,           0,           0],\n",
       "       [    0.20813,     0.20813,     0.30469, ...,           0,           0,           0],\n",
       "       [   0.089202,    0.089202,     0.16376, ...,           0,           0,           0],\n",
       "       [    0.17742,     0.17742,     0.26362, ...,           0,           0,           0],\n",
       "       [   0.075758,    0.075758,     0.14628, ...,           0,           0,           0]]), 'Confidence', 'F1'], [array([          0,    0.001001,    0.002002,    0.003003,    0.004004,    0.005005,    0.006006,    0.007007,    0.008008,    0.009009,     0.01001,    0.011011,    0.012012,    0.013013,    0.014014,    0.015015,    0.016016,    0.017017,    0.018018,    0.019019,     0.02002,    0.021021,    0.022022,    0.023023,\n",
       "          0.024024,    0.025025,    0.026026,    0.027027,    0.028028,    0.029029,     0.03003,    0.031031,    0.032032,    0.033033,    0.034034,    0.035035,    0.036036,    0.037037,    0.038038,    0.039039,     0.04004,    0.041041,    0.042042,    0.043043,    0.044044,    0.045045,    0.046046,    0.047047,\n",
       "          0.048048,    0.049049,     0.05005,    0.051051,    0.052052,    0.053053,    0.054054,    0.055055,    0.056056,    0.057057,    0.058058,    0.059059,     0.06006,    0.061061,    0.062062,    0.063063,    0.064064,    0.065065,    0.066066,    0.067067,    0.068068,    0.069069,     0.07007,    0.071071,\n",
       "          0.072072,    0.073073,    0.074074,    0.075075,    0.076076,    0.077077,    0.078078,    0.079079,     0.08008,    0.081081,    0.082082,    0.083083,    0.084084,    0.085085,    0.086086,    0.087087,    0.088088,    0.089089,     0.09009,    0.091091,    0.092092,    0.093093,    0.094094,    0.095095,\n",
       "          0.096096,    0.097097,    0.098098,    0.099099,      0.1001,      0.1011,      0.1021,      0.1031,      0.1041,     0.10511,     0.10611,     0.10711,     0.10811,     0.10911,     0.11011,     0.11111,     0.11211,     0.11311,     0.11411,     0.11512,     0.11612,     0.11712,     0.11812,     0.11912,\n",
       "           0.12012,     0.12112,     0.12212,     0.12312,     0.12412,     0.12513,     0.12613,     0.12713,     0.12813,     0.12913,     0.13013,     0.13113,     0.13213,     0.13313,     0.13413,     0.13514,     0.13614,     0.13714,     0.13814,     0.13914,     0.14014,     0.14114,     0.14214,     0.14314,\n",
       "           0.14414,     0.14515,     0.14615,     0.14715,     0.14815,     0.14915,     0.15015,     0.15115,     0.15215,     0.15315,     0.15415,     0.15516,     0.15616,     0.15716,     0.15816,     0.15916,     0.16016,     0.16116,     0.16216,     0.16316,     0.16416,     0.16517,     0.16617,     0.16717,\n",
       "           0.16817,     0.16917,     0.17017,     0.17117,     0.17217,     0.17317,     0.17417,     0.17518,     0.17618,     0.17718,     0.17818,     0.17918,     0.18018,     0.18118,     0.18218,     0.18318,     0.18418,     0.18519,     0.18619,     0.18719,     0.18819,     0.18919,     0.19019,     0.19119,\n",
       "           0.19219,     0.19319,     0.19419,      0.1952,      0.1962,      0.1972,      0.1982,      0.1992,      0.2002,      0.2012,      0.2022,      0.2032,      0.2042,     0.20521,     0.20621,     0.20721,     0.20821,     0.20921,     0.21021,     0.21121,     0.21221,     0.21321,     0.21421,     0.21522,\n",
       "           0.21622,     0.21722,     0.21822,     0.21922,     0.22022,     0.22122,     0.22222,     0.22322,     0.22422,     0.22523,     0.22623,     0.22723,     0.22823,     0.22923,     0.23023,     0.23123,     0.23223,     0.23323,     0.23423,     0.23524,     0.23624,     0.23724,     0.23824,     0.23924,\n",
       "           0.24024,     0.24124,     0.24224,     0.24324,     0.24424,     0.24525,     0.24625,     0.24725,     0.24825,     0.24925,     0.25025,     0.25125,     0.25225,     0.25325,     0.25425,     0.25526,     0.25626,     0.25726,     0.25826,     0.25926,     0.26026,     0.26126,     0.26226,     0.26326,\n",
       "           0.26426,     0.26527,     0.26627,     0.26727,     0.26827,     0.26927,     0.27027,     0.27127,     0.27227,     0.27327,     0.27427,     0.27528,     0.27628,     0.27728,     0.27828,     0.27928,     0.28028,     0.28128,     0.28228,     0.28328,     0.28428,     0.28529,     0.28629,     0.28729,\n",
       "           0.28829,     0.28929,     0.29029,     0.29129,     0.29229,     0.29329,     0.29429,      0.2953,      0.2963,      0.2973,      0.2983,      0.2993,      0.3003,      0.3013,      0.3023,      0.3033,      0.3043,     0.30531,     0.30631,     0.30731,     0.30831,     0.30931,     0.31031,     0.31131,\n",
       "           0.31231,     0.31331,     0.31431,     0.31532,     0.31632,     0.31732,     0.31832,     0.31932,     0.32032,     0.32132,     0.32232,     0.32332,     0.32432,     0.32533,     0.32633,     0.32733,     0.32833,     0.32933,     0.33033,     0.33133,     0.33233,     0.33333,     0.33433,     0.33534,\n",
       "           0.33634,     0.33734,     0.33834,     0.33934,     0.34034,     0.34134,     0.34234,     0.34334,     0.34434,     0.34535,     0.34635,     0.34735,     0.34835,     0.34935,     0.35035,     0.35135,     0.35235,     0.35335,     0.35435,     0.35536,     0.35636,     0.35736,     0.35836,     0.35936,\n",
       "           0.36036,     0.36136,     0.36236,     0.36336,     0.36436,     0.36537,     0.36637,     0.36737,     0.36837,     0.36937,     0.37037,     0.37137,     0.37237,     0.37337,     0.37437,     0.37538,     0.37638,     0.37738,     0.37838,     0.37938,     0.38038,     0.38138,     0.38238,     0.38338,\n",
       "           0.38438,     0.38539,     0.38639,     0.38739,     0.38839,     0.38939,     0.39039,     0.39139,     0.39239,     0.39339,     0.39439,      0.3954,      0.3964,      0.3974,      0.3984,      0.3994,      0.4004,      0.4014,      0.4024,      0.4034,      0.4044,     0.40541,     0.40641,     0.40741,\n",
       "           0.40841,     0.40941,     0.41041,     0.41141,     0.41241,     0.41341,     0.41441,     0.41542,     0.41642,     0.41742,     0.41842,     0.41942,     0.42042,     0.42142,     0.42242,     0.42342,     0.42442,     0.42543,     0.42643,     0.42743,     0.42843,     0.42943,     0.43043,     0.43143,\n",
       "           0.43243,     0.43343,     0.43443,     0.43544,     0.43644,     0.43744,     0.43844,     0.43944,     0.44044,     0.44144,     0.44244,     0.44344,     0.44444,     0.44545,     0.44645,     0.44745,     0.44845,     0.44945,     0.45045,     0.45145,     0.45245,     0.45345,     0.45445,     0.45546,\n",
       "           0.45646,     0.45746,     0.45846,     0.45946,     0.46046,     0.46146,     0.46246,     0.46346,     0.46446,     0.46547,     0.46647,     0.46747,     0.46847,     0.46947,     0.47047,     0.47147,     0.47247,     0.47347,     0.47447,     0.47548,     0.47648,     0.47748,     0.47848,     0.47948,\n",
       "           0.48048,     0.48148,     0.48248,     0.48348,     0.48448,     0.48549,     0.48649,     0.48749,     0.48849,     0.48949,     0.49049,     0.49149,     0.49249,     0.49349,     0.49449,      0.4955,      0.4965,      0.4975,      0.4985,      0.4995,      0.5005,      0.5015,      0.5025,      0.5035,\n",
       "            0.5045,     0.50551,     0.50651,     0.50751,     0.50851,     0.50951,     0.51051,     0.51151,     0.51251,     0.51351,     0.51451,     0.51552,     0.51652,     0.51752,     0.51852,     0.51952,     0.52052,     0.52152,     0.52252,     0.52352,     0.52452,     0.52553,     0.52653,     0.52753,\n",
       "           0.52853,     0.52953,     0.53053,     0.53153,     0.53253,     0.53353,     0.53453,     0.53554,     0.53654,     0.53754,     0.53854,     0.53954,     0.54054,     0.54154,     0.54254,     0.54354,     0.54454,     0.54555,     0.54655,     0.54755,     0.54855,     0.54955,     0.55055,     0.55155,\n",
       "           0.55255,     0.55355,     0.55455,     0.55556,     0.55656,     0.55756,     0.55856,     0.55956,     0.56056,     0.56156,     0.56256,     0.56356,     0.56456,     0.56557,     0.56657,     0.56757,     0.56857,     0.56957,     0.57057,     0.57157,     0.57257,     0.57357,     0.57457,     0.57558,\n",
       "           0.57658,     0.57758,     0.57858,     0.57958,     0.58058,     0.58158,     0.58258,     0.58358,     0.58458,     0.58559,     0.58659,     0.58759,     0.58859,     0.58959,     0.59059,     0.59159,     0.59259,     0.59359,     0.59459,      0.5956,      0.5966,      0.5976,      0.5986,      0.5996,\n",
       "            0.6006,      0.6016,      0.6026,      0.6036,      0.6046,     0.60561,     0.60661,     0.60761,     0.60861,     0.60961,     0.61061,     0.61161,     0.61261,     0.61361,     0.61461,     0.61562,     0.61662,     0.61762,     0.61862,     0.61962,     0.62062,     0.62162,     0.62262,     0.62362,\n",
       "           0.62462,     0.62563,     0.62663,     0.62763,     0.62863,     0.62963,     0.63063,     0.63163,     0.63263,     0.63363,     0.63463,     0.63564,     0.63664,     0.63764,     0.63864,     0.63964,     0.64064,     0.64164,     0.64264,     0.64364,     0.64464,     0.64565,     0.64665,     0.64765,\n",
       "           0.64865,     0.64965,     0.65065,     0.65165,     0.65265,     0.65365,     0.65465,     0.65566,     0.65666,     0.65766,     0.65866,     0.65966,     0.66066,     0.66166,     0.66266,     0.66366,     0.66466,     0.66567,     0.66667,     0.66767,     0.66867,     0.66967,     0.67067,     0.67167,\n",
       "           0.67267,     0.67367,     0.67467,     0.67568,     0.67668,     0.67768,     0.67868,     0.67968,     0.68068,     0.68168,     0.68268,     0.68368,     0.68468,     0.68569,     0.68669,     0.68769,     0.68869,     0.68969,     0.69069,     0.69169,     0.69269,     0.69369,     0.69469,      0.6957,\n",
       "            0.6967,      0.6977,      0.6987,      0.6997,      0.7007,      0.7017,      0.7027,      0.7037,      0.7047,     0.70571,     0.70671,     0.70771,     0.70871,     0.70971,     0.71071,     0.71171,     0.71271,     0.71371,     0.71471,     0.71572,     0.71672,     0.71772,     0.71872,     0.71972,\n",
       "           0.72072,     0.72172,     0.72272,     0.72372,     0.72472,     0.72573,     0.72673,     0.72773,     0.72873,     0.72973,     0.73073,     0.73173,     0.73273,     0.73373,     0.73473,     0.73574,     0.73674,     0.73774,     0.73874,     0.73974,     0.74074,     0.74174,     0.74274,     0.74374,\n",
       "           0.74474,     0.74575,     0.74675,     0.74775,     0.74875,     0.74975,     0.75075,     0.75175,     0.75275,     0.75375,     0.75475,     0.75576,     0.75676,     0.75776,     0.75876,     0.75976,     0.76076,     0.76176,     0.76276,     0.76376,     0.76476,     0.76577,     0.76677,     0.76777,\n",
       "           0.76877,     0.76977,     0.77077,     0.77177,     0.77277,     0.77377,     0.77477,     0.77578,     0.77678,     0.77778,     0.77878,     0.77978,     0.78078,     0.78178,     0.78278,     0.78378,     0.78478,     0.78579,     0.78679,     0.78779,     0.78879,     0.78979,     0.79079,     0.79179,\n",
       "           0.79279,     0.79379,     0.79479,      0.7958,      0.7968,      0.7978,      0.7988,      0.7998,      0.8008,      0.8018,      0.8028,      0.8038,      0.8048,     0.80581,     0.80681,     0.80781,     0.80881,     0.80981,     0.81081,     0.81181,     0.81281,     0.81381,     0.81481,     0.81582,\n",
       "           0.81682,     0.81782,     0.81882,     0.81982,     0.82082,     0.82182,     0.82282,     0.82382,     0.82482,     0.82583,     0.82683,     0.82783,     0.82883,     0.82983,     0.83083,     0.83183,     0.83283,     0.83383,     0.83483,     0.83584,     0.83684,     0.83784,     0.83884,     0.83984,\n",
       "           0.84084,     0.84184,     0.84284,     0.84384,     0.84484,     0.84585,     0.84685,     0.84785,     0.84885,     0.84985,     0.85085,     0.85185,     0.85285,     0.85385,     0.85485,     0.85586,     0.85686,     0.85786,     0.85886,     0.85986,     0.86086,     0.86186,     0.86286,     0.86386,\n",
       "           0.86486,     0.86587,     0.86687,     0.86787,     0.86887,     0.86987,     0.87087,     0.87187,     0.87287,     0.87387,     0.87487,     0.87588,     0.87688,     0.87788,     0.87888,     0.87988,     0.88088,     0.88188,     0.88288,     0.88388,     0.88488,     0.88589,     0.88689,     0.88789,\n",
       "           0.88889,     0.88989,     0.89089,     0.89189,     0.89289,     0.89389,     0.89489,      0.8959,      0.8969,      0.8979,      0.8989,      0.8999,      0.9009,      0.9019,      0.9029,      0.9039,      0.9049,     0.90591,     0.90691,     0.90791,     0.90891,     0.90991,     0.91091,     0.91191,\n",
       "           0.91291,     0.91391,     0.91491,     0.91592,     0.91692,     0.91792,     0.91892,     0.91992,     0.92092,     0.92192,     0.92292,     0.92392,     0.92492,     0.92593,     0.92693,     0.92793,     0.92893,     0.92993,     0.93093,     0.93193,     0.93293,     0.93393,     0.93493,     0.93594,\n",
       "           0.93694,     0.93794,     0.93894,     0.93994,     0.94094,     0.94194,     0.94294,     0.94394,     0.94494,     0.94595,     0.94695,     0.94795,     0.94895,     0.94995,     0.95095,     0.95195,     0.95295,     0.95395,     0.95495,     0.95596,     0.95696,     0.95796,     0.95896,     0.95996,\n",
       "           0.96096,     0.96196,     0.96296,     0.96396,     0.96496,     0.96597,     0.96697,     0.96797,     0.96897,     0.96997,     0.97097,     0.97197,     0.97297,     0.97397,     0.97497,     0.97598,     0.97698,     0.97798,     0.97898,     0.97998,     0.98098,     0.98198,     0.98298,     0.98398,\n",
       "           0.98498,     0.98599,     0.98699,     0.98799,     0.98899,     0.98999,     0.99099,     0.99199,     0.99299,     0.99399,     0.99499,       0.996,       0.997,       0.998,       0.999,           1]), array([[   0.002064,    0.002064,   0.0043188, ...,           1,           1,           1],\n",
       "       [    0.14118,     0.14118,     0.22012, ...,           1,           1,           1],\n",
       "       [    0.12403,     0.12403,     0.19932, ...,           1,           1,           1],\n",
       "       [   0.046914,    0.046914,    0.090028, ...,           1,           1,           1],\n",
       "       [    0.10377,     0.10377,     0.16806, ...,           1,           1,           1],\n",
       "       [    0.03937,     0.03937,    0.078913, ...,           1,           1,           1]]), 'Confidence', 'Precision'], [array([          0,    0.001001,    0.002002,    0.003003,    0.004004,    0.005005,    0.006006,    0.007007,    0.008008,    0.009009,     0.01001,    0.011011,    0.012012,    0.013013,    0.014014,    0.015015,    0.016016,    0.017017,    0.018018,    0.019019,     0.02002,    0.021021,    0.022022,    0.023023,\n",
       "          0.024024,    0.025025,    0.026026,    0.027027,    0.028028,    0.029029,     0.03003,    0.031031,    0.032032,    0.033033,    0.034034,    0.035035,    0.036036,    0.037037,    0.038038,    0.039039,     0.04004,    0.041041,    0.042042,    0.043043,    0.044044,    0.045045,    0.046046,    0.047047,\n",
       "          0.048048,    0.049049,     0.05005,    0.051051,    0.052052,    0.053053,    0.054054,    0.055055,    0.056056,    0.057057,    0.058058,    0.059059,     0.06006,    0.061061,    0.062062,    0.063063,    0.064064,    0.065065,    0.066066,    0.067067,    0.068068,    0.069069,     0.07007,    0.071071,\n",
       "          0.072072,    0.073073,    0.074074,    0.075075,    0.076076,    0.077077,    0.078078,    0.079079,     0.08008,    0.081081,    0.082082,    0.083083,    0.084084,    0.085085,    0.086086,    0.087087,    0.088088,    0.089089,     0.09009,    0.091091,    0.092092,    0.093093,    0.094094,    0.095095,\n",
       "          0.096096,    0.097097,    0.098098,    0.099099,      0.1001,      0.1011,      0.1021,      0.1031,      0.1041,     0.10511,     0.10611,     0.10711,     0.10811,     0.10911,     0.11011,     0.11111,     0.11211,     0.11311,     0.11411,     0.11512,     0.11612,     0.11712,     0.11812,     0.11912,\n",
       "           0.12012,     0.12112,     0.12212,     0.12312,     0.12412,     0.12513,     0.12613,     0.12713,     0.12813,     0.12913,     0.13013,     0.13113,     0.13213,     0.13313,     0.13413,     0.13514,     0.13614,     0.13714,     0.13814,     0.13914,     0.14014,     0.14114,     0.14214,     0.14314,\n",
       "           0.14414,     0.14515,     0.14615,     0.14715,     0.14815,     0.14915,     0.15015,     0.15115,     0.15215,     0.15315,     0.15415,     0.15516,     0.15616,     0.15716,     0.15816,     0.15916,     0.16016,     0.16116,     0.16216,     0.16316,     0.16416,     0.16517,     0.16617,     0.16717,\n",
       "           0.16817,     0.16917,     0.17017,     0.17117,     0.17217,     0.17317,     0.17417,     0.17518,     0.17618,     0.17718,     0.17818,     0.17918,     0.18018,     0.18118,     0.18218,     0.18318,     0.18418,     0.18519,     0.18619,     0.18719,     0.18819,     0.18919,     0.19019,     0.19119,\n",
       "           0.19219,     0.19319,     0.19419,      0.1952,      0.1962,      0.1972,      0.1982,      0.1992,      0.2002,      0.2012,      0.2022,      0.2032,      0.2042,     0.20521,     0.20621,     0.20721,     0.20821,     0.20921,     0.21021,     0.21121,     0.21221,     0.21321,     0.21421,     0.21522,\n",
       "           0.21622,     0.21722,     0.21822,     0.21922,     0.22022,     0.22122,     0.22222,     0.22322,     0.22422,     0.22523,     0.22623,     0.22723,     0.22823,     0.22923,     0.23023,     0.23123,     0.23223,     0.23323,     0.23423,     0.23524,     0.23624,     0.23724,     0.23824,     0.23924,\n",
       "           0.24024,     0.24124,     0.24224,     0.24324,     0.24424,     0.24525,     0.24625,     0.24725,     0.24825,     0.24925,     0.25025,     0.25125,     0.25225,     0.25325,     0.25425,     0.25526,     0.25626,     0.25726,     0.25826,     0.25926,     0.26026,     0.26126,     0.26226,     0.26326,\n",
       "           0.26426,     0.26527,     0.26627,     0.26727,     0.26827,     0.26927,     0.27027,     0.27127,     0.27227,     0.27327,     0.27427,     0.27528,     0.27628,     0.27728,     0.27828,     0.27928,     0.28028,     0.28128,     0.28228,     0.28328,     0.28428,     0.28529,     0.28629,     0.28729,\n",
       "           0.28829,     0.28929,     0.29029,     0.29129,     0.29229,     0.29329,     0.29429,      0.2953,      0.2963,      0.2973,      0.2983,      0.2993,      0.3003,      0.3013,      0.3023,      0.3033,      0.3043,     0.30531,     0.30631,     0.30731,     0.30831,     0.30931,     0.31031,     0.31131,\n",
       "           0.31231,     0.31331,     0.31431,     0.31532,     0.31632,     0.31732,     0.31832,     0.31932,     0.32032,     0.32132,     0.32232,     0.32332,     0.32432,     0.32533,     0.32633,     0.32733,     0.32833,     0.32933,     0.33033,     0.33133,     0.33233,     0.33333,     0.33433,     0.33534,\n",
       "           0.33634,     0.33734,     0.33834,     0.33934,     0.34034,     0.34134,     0.34234,     0.34334,     0.34434,     0.34535,     0.34635,     0.34735,     0.34835,     0.34935,     0.35035,     0.35135,     0.35235,     0.35335,     0.35435,     0.35536,     0.35636,     0.35736,     0.35836,     0.35936,\n",
       "           0.36036,     0.36136,     0.36236,     0.36336,     0.36436,     0.36537,     0.36637,     0.36737,     0.36837,     0.36937,     0.37037,     0.37137,     0.37237,     0.37337,     0.37437,     0.37538,     0.37638,     0.37738,     0.37838,     0.37938,     0.38038,     0.38138,     0.38238,     0.38338,\n",
       "           0.38438,     0.38539,     0.38639,     0.38739,     0.38839,     0.38939,     0.39039,     0.39139,     0.39239,     0.39339,     0.39439,      0.3954,      0.3964,      0.3974,      0.3984,      0.3994,      0.4004,      0.4014,      0.4024,      0.4034,      0.4044,     0.40541,     0.40641,     0.40741,\n",
       "           0.40841,     0.40941,     0.41041,     0.41141,     0.41241,     0.41341,     0.41441,     0.41542,     0.41642,     0.41742,     0.41842,     0.41942,     0.42042,     0.42142,     0.42242,     0.42342,     0.42442,     0.42543,     0.42643,     0.42743,     0.42843,     0.42943,     0.43043,     0.43143,\n",
       "           0.43243,     0.43343,     0.43443,     0.43544,     0.43644,     0.43744,     0.43844,     0.43944,     0.44044,     0.44144,     0.44244,     0.44344,     0.44444,     0.44545,     0.44645,     0.44745,     0.44845,     0.44945,     0.45045,     0.45145,     0.45245,     0.45345,     0.45445,     0.45546,\n",
       "           0.45646,     0.45746,     0.45846,     0.45946,     0.46046,     0.46146,     0.46246,     0.46346,     0.46446,     0.46547,     0.46647,     0.46747,     0.46847,     0.46947,     0.47047,     0.47147,     0.47247,     0.47347,     0.47447,     0.47548,     0.47648,     0.47748,     0.47848,     0.47948,\n",
       "           0.48048,     0.48148,     0.48248,     0.48348,     0.48448,     0.48549,     0.48649,     0.48749,     0.48849,     0.48949,     0.49049,     0.49149,     0.49249,     0.49349,     0.49449,      0.4955,      0.4965,      0.4975,      0.4985,      0.4995,      0.5005,      0.5015,      0.5025,      0.5035,\n",
       "            0.5045,     0.50551,     0.50651,     0.50751,     0.50851,     0.50951,     0.51051,     0.51151,     0.51251,     0.51351,     0.51451,     0.51552,     0.51652,     0.51752,     0.51852,     0.51952,     0.52052,     0.52152,     0.52252,     0.52352,     0.52452,     0.52553,     0.52653,     0.52753,\n",
       "           0.52853,     0.52953,     0.53053,     0.53153,     0.53253,     0.53353,     0.53453,     0.53554,     0.53654,     0.53754,     0.53854,     0.53954,     0.54054,     0.54154,     0.54254,     0.54354,     0.54454,     0.54555,     0.54655,     0.54755,     0.54855,     0.54955,     0.55055,     0.55155,\n",
       "           0.55255,     0.55355,     0.55455,     0.55556,     0.55656,     0.55756,     0.55856,     0.55956,     0.56056,     0.56156,     0.56256,     0.56356,     0.56456,     0.56557,     0.56657,     0.56757,     0.56857,     0.56957,     0.57057,     0.57157,     0.57257,     0.57357,     0.57457,     0.57558,\n",
       "           0.57658,     0.57758,     0.57858,     0.57958,     0.58058,     0.58158,     0.58258,     0.58358,     0.58458,     0.58559,     0.58659,     0.58759,     0.58859,     0.58959,     0.59059,     0.59159,     0.59259,     0.59359,     0.59459,      0.5956,      0.5966,      0.5976,      0.5986,      0.5996,\n",
       "            0.6006,      0.6016,      0.6026,      0.6036,      0.6046,     0.60561,     0.60661,     0.60761,     0.60861,     0.60961,     0.61061,     0.61161,     0.61261,     0.61361,     0.61461,     0.61562,     0.61662,     0.61762,     0.61862,     0.61962,     0.62062,     0.62162,     0.62262,     0.62362,\n",
       "           0.62462,     0.62563,     0.62663,     0.62763,     0.62863,     0.62963,     0.63063,     0.63163,     0.63263,     0.63363,     0.63463,     0.63564,     0.63664,     0.63764,     0.63864,     0.63964,     0.64064,     0.64164,     0.64264,     0.64364,     0.64464,     0.64565,     0.64665,     0.64765,\n",
       "           0.64865,     0.64965,     0.65065,     0.65165,     0.65265,     0.65365,     0.65465,     0.65566,     0.65666,     0.65766,     0.65866,     0.65966,     0.66066,     0.66166,     0.66266,     0.66366,     0.66466,     0.66567,     0.66667,     0.66767,     0.66867,     0.66967,     0.67067,     0.67167,\n",
       "           0.67267,     0.67367,     0.67467,     0.67568,     0.67668,     0.67768,     0.67868,     0.67968,     0.68068,     0.68168,     0.68268,     0.68368,     0.68468,     0.68569,     0.68669,     0.68769,     0.68869,     0.68969,     0.69069,     0.69169,     0.69269,     0.69369,     0.69469,      0.6957,\n",
       "            0.6967,      0.6977,      0.6987,      0.6997,      0.7007,      0.7017,      0.7027,      0.7037,      0.7047,     0.70571,     0.70671,     0.70771,     0.70871,     0.70971,     0.71071,     0.71171,     0.71271,     0.71371,     0.71471,     0.71572,     0.71672,     0.71772,     0.71872,     0.71972,\n",
       "           0.72072,     0.72172,     0.72272,     0.72372,     0.72472,     0.72573,     0.72673,     0.72773,     0.72873,     0.72973,     0.73073,     0.73173,     0.73273,     0.73373,     0.73473,     0.73574,     0.73674,     0.73774,     0.73874,     0.73974,     0.74074,     0.74174,     0.74274,     0.74374,\n",
       "           0.74474,     0.74575,     0.74675,     0.74775,     0.74875,     0.74975,     0.75075,     0.75175,     0.75275,     0.75375,     0.75475,     0.75576,     0.75676,     0.75776,     0.75876,     0.75976,     0.76076,     0.76176,     0.76276,     0.76376,     0.76476,     0.76577,     0.76677,     0.76777,\n",
       "           0.76877,     0.76977,     0.77077,     0.77177,     0.77277,     0.77377,     0.77477,     0.77578,     0.77678,     0.77778,     0.77878,     0.77978,     0.78078,     0.78178,     0.78278,     0.78378,     0.78478,     0.78579,     0.78679,     0.78779,     0.78879,     0.78979,     0.79079,     0.79179,\n",
       "           0.79279,     0.79379,     0.79479,      0.7958,      0.7968,      0.7978,      0.7988,      0.7998,      0.8008,      0.8018,      0.8028,      0.8038,      0.8048,     0.80581,     0.80681,     0.80781,     0.80881,     0.80981,     0.81081,     0.81181,     0.81281,     0.81381,     0.81481,     0.81582,\n",
       "           0.81682,     0.81782,     0.81882,     0.81982,     0.82082,     0.82182,     0.82282,     0.82382,     0.82482,     0.82583,     0.82683,     0.82783,     0.82883,     0.82983,     0.83083,     0.83183,     0.83283,     0.83383,     0.83483,     0.83584,     0.83684,     0.83784,     0.83884,     0.83984,\n",
       "           0.84084,     0.84184,     0.84284,     0.84384,     0.84484,     0.84585,     0.84685,     0.84785,     0.84885,     0.84985,     0.85085,     0.85185,     0.85285,     0.85385,     0.85485,     0.85586,     0.85686,     0.85786,     0.85886,     0.85986,     0.86086,     0.86186,     0.86286,     0.86386,\n",
       "           0.86486,     0.86587,     0.86687,     0.86787,     0.86887,     0.86987,     0.87087,     0.87187,     0.87287,     0.87387,     0.87487,     0.87588,     0.87688,     0.87788,     0.87888,     0.87988,     0.88088,     0.88188,     0.88288,     0.88388,     0.88488,     0.88589,     0.88689,     0.88789,\n",
       "           0.88889,     0.88989,     0.89089,     0.89189,     0.89289,     0.89389,     0.89489,      0.8959,      0.8969,      0.8979,      0.8989,      0.8999,      0.9009,      0.9019,      0.9029,      0.9039,      0.9049,     0.90591,     0.90691,     0.90791,     0.90891,     0.90991,     0.91091,     0.91191,\n",
       "           0.91291,     0.91391,     0.91491,     0.91592,     0.91692,     0.91792,     0.91892,     0.91992,     0.92092,     0.92192,     0.92292,     0.92392,     0.92492,     0.92593,     0.92693,     0.92793,     0.92893,     0.92993,     0.93093,     0.93193,     0.93293,     0.93393,     0.93493,     0.93594,\n",
       "           0.93694,     0.93794,     0.93894,     0.93994,     0.94094,     0.94194,     0.94294,     0.94394,     0.94494,     0.94595,     0.94695,     0.94795,     0.94895,     0.94995,     0.95095,     0.95195,     0.95295,     0.95395,     0.95495,     0.95596,     0.95696,     0.95796,     0.95896,     0.95996,\n",
       "           0.96096,     0.96196,     0.96296,     0.96396,     0.96496,     0.96597,     0.96697,     0.96797,     0.96897,     0.96997,     0.97097,     0.97197,     0.97297,     0.97397,     0.97497,     0.97598,     0.97698,     0.97798,     0.97898,     0.97998,     0.98098,     0.98198,     0.98298,     0.98398,\n",
       "           0.98498,     0.98599,     0.98699,     0.98799,     0.98899,     0.98999,     0.99099,     0.99199,     0.99299,     0.99399,     0.99499,       0.996,       0.997,       0.998,       0.999,           1]), array([[    0.13333,     0.13333,     0.13333, ...,           0,           0,           0],\n",
       "       [    0.94737,     0.94737,     0.94737, ...,           0,           0,           0],\n",
       "       [    0.64646,     0.64646,     0.64646, ...,           0,           0,           0],\n",
       "       [    0.90476,     0.90476,     0.90476, ...,           0,           0,           0],\n",
       "       [    0.61111,     0.61111,     0.61111, ...,           0,           0,           0],\n",
       "       [          1,           1,           1, ...,           0,           0,           0]]), 'Confidence', 'Recall']]\n",
       "fitness: 1.1680199423691586\n",
       "keys: ['metrics/precision(B)', 'metrics/recall(B)', 'metrics/mAP50(B)', 'metrics/mAP50-95(B)', 'metrics/precision(M)', 'metrics/recall(M)', 'metrics/mAP50(M)', 'metrics/mAP50-95(M)']\n",
       "maps: array([    0.13196,      1.6341,      1.1946,      1.2727,      1.0066,      1.1601,      1.1601,      1.7204])\n",
       "names: {0: 'road', 1: 'plate', 2: 'car', 3: 'white lane', 4: 'person', 5: 'plate car', 6: 'sidewalk', 7: 'sign'}\n",
       "plot: True\n",
       "results_dict: {'metrics/precision(B)': 0.6868966223214202, 'metrics/recall(B)': 0.5901746165482865, 'metrics/mAP50(B)': 0.6205771597040196, 'metrics/mAP50-95(B)': 0.590570761829323, 'metrics/precision(M)': 0.6868966223214202, 'metrics/recall(M)': 0.5901746165482865, 'metrics/mAP50(M)': 0.6191447169043715, 'metrics/mAP50-95(M)': 0.5694822989576986, 'fitness': 1.1680199423691586}\n",
       "save_dir: WindowsPath('C:/LocalWork/Prj/NobelAI/stable-diffusion-webui/runs/segment/train2')\n",
       "seg: ultralytics.utils.metrics.Metric object\n",
       "speed: {'preprocess': 0.3969558449678643, 'inference': 3.1537067058474517, 'loss': 0.0, 'postprocess': 1.3629059458887856}\n",
       "task: 'segment'"
      ]
     },
     "execution_count": 46,
     "metadata": {},
     "output_type": "execute_result"
    }
   ],
   "source": [
    "# モデルの初期化\n",
    "model = YOLO('yolov8s-seg.pt')  # セグメンテーションモデルを選択\n",
    "\n",
    "# 学習用のパラメータを設定\n",
    "epochs = 30  # 学習のエポック数\n",
    "\n",
    "# モデルの学習\n",
    "model.train(data=yaml_file_path, epochs=epochs, imgsz=640)"
   ]
  },
  {
   "cell_type": "code",
   "execution_count": 47,
   "metadata": {},
   "outputs": [],
   "source": [
    "from ultralytics import YOLO\n",
    "from pathlib import Path\n",
    "import matplotlib.pyplot as plt\n",
    "from PIL import Image\n",
    "%matplotlib inline\n",
    "\n",
    "def predict_and_save_images(model_path, image_path, imgsz=640, save_dir=\".\"):\n",
    "    \"\"\"\n",
    "    YOLOv8のセグメンテーションモデルを用いて、画像をセグメンテーションし結果を保存する関数\n",
    "\n",
    "    :param model_path: 訓練済みモデルのパス\n",
    "    :param image_path: 評価する画像のパス\n",
    "    :param imgsz: 評価時の画像サイズ\n",
    "    \"\"\"\n",
    "    # モデルの読み込み\n",
    "    model = YOLO(model_path)\n",
    "\n",
    "    # 予測の実行\n",
    "    results = model.predict(\n",
    "        source=str(image_path),  # 画像パスを文字列として渡す\n",
    "        imgsz=imgsz,\n",
    "        save=True,\n",
    "        save_dir=save_dir\n",
    "    )\n",
    "\n",
    "    # 結果の保存先ディレクトリを取得\n",
    "    actual_save_dir = Path(results[0].save_dir)\n",
    "\n",
    "    # 予測結果の表示\n",
    "    print(f\"画像 '{image_path}' のセグメンテーション結果が保存されました: {actual_save_dir}\")\n",
    "\n",
    "    # 保存した画像の表示\n",
    "    try:\n",
    "        saved_image_path = list(actual_save_dir.glob('*.jpg'))[0]  # 保存された最初のjpg画像を取得\n",
    "        img = Image.open(saved_image_path)\n",
    "        plt.imshow(img)\n",
    "        plt.axis('off')\n",
    "        plt.show()\n",
    "    except IndexError:\n",
    "        print(f\"保存された画像が見つかりません: {actual_save_dir}\")\n"
   ]
  },
  {
   "cell_type": "code",
   "execution_count": 48,
   "metadata": {},
   "outputs": [
    {
     "name": "stdout",
     "output_type": "stream",
     "text": [
      "\n",
      "image 1/1 c:\\LocalWork\\Prj\\AutoAnnotation\\app\\validate_yolo\\..\\Grounded-Segment-Anything\\outputs\\images\\test\\Aomori inakadate Spring Car Meet 2023 mnvV9s4L9MA_frame_3816.jpg: 384x640 1 plate, 2 cars, 2 persons, 16.3ms\n",
      "Speed: 3.0ms preprocess, 16.3ms inference, 5.0ms postprocess per image at shape (1, 3, 384, 640)\n",
      "Results saved to \u001b[1mC:\\LocalWork\\Prj\\NobelAI\\stable-diffusion-webui\\runs\\segment\\predict9\u001b[0m\n",
      "画像 '../Grounded-Segment-Anything/outputs/images/test/Aomori inakadate Spring Car Meet 2023 mnvV9s4L9MA_frame_3816.jpg' のセグメンテーション結果が保存されました: C:\\LocalWork\\Prj\\NobelAI\\stable-diffusion-webui\\runs\\segment\\predict9\n"
     ]
    },
    {
     "data": {
      "image/png": "[encoded data removed]",
      "text/plain": [
       "<Figure size 640x480 with 1 Axes>"
      ]
     },
     "metadata": {},
     "output_type": "display_data"
    }
   ],
   "source": [
    "# 使用例\n",
    "model_path = \"./runs/train/weights/best.pt\"\n",
    "image_path = '../Grounded-Segment-Anything/outputs/images/test/Aomori inakadate Spring Car Meet 2023 mnvV9s4L9MA_frame_3816.jpg'\n",
    "predict_and_save_images(model_path, image_path)"
   ]
  }
 ],
 "metadata": {
  "kernelspec": {
   "display_name": "Python 3",
   "language": "python",
   "name": "python3"
  },
  "language_info": {
   "codemirror_mode": {
    "name": "ipython",
    "version": 3
   },
   "file_extension": ".py",
   "mimetype": "text/x-python",
   "name": "python",
   "nbconvert_exporter": "python",
   "pygments_lexer": "ipython3",
   "version": "3.10.11"
  }
 },
 "nbformat": 4,
 "nbformat_minor": 2
}
